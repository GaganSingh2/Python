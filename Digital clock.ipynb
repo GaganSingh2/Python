{
 "cells": [
  {
   "cell_type": "code",
   "execution_count": 1,
   "id": "8f445db6",
   "metadata": {},
   "outputs": [
    {
     "name": "stdout",
     "output_type": "stream",
     "text": [
      "19:40:43\n"
     ]
    }
   ],
   "source": [
    "from datetime import datetime \n",
    "import pytz\n",
    "from tkinter import *\n",
    "import time\n",
    "\n",
    "root=Tk()\n",
    "root.minsize(width=400,height=50)\n",
    "root.configure(bg=\"yellow\")\n",
    "root.title(\"Digital Clock\")\n",
    "\n",
    "def times():\n",
    "    home=pytz.timezone('Asia/Kolkata')\n",
    "    local_time=datetime.now(home)\n",
    "    current_time=local_time.strftime(\"%H:%M:%S\")\n",
    "    clock.config(text=current_time)\n",
    "    name.config(text=\"India\")\n",
    "    clock.after(200,times)\n",
    "    \n",
    "    \n",
    "    \n",
    "name=Label(root,font=(\"times\",30,\"bold\"))\n",
    "name.place(x=40,y=10)\n",
    "clock=Label(root,font=(\"times\",40,\"bold\"))\n",
    "clock.place(x=60,y=70)\n",
    "nota=Label(root,text=\"Hours minutes seconds\",font=\"times 20 bold\")\n",
    "nota.place(x=30,y=140)\n",
    "\n",
    "\n",
    "\n",
    "\n",
    "\n",
    "times()\n",
    "root.mainloop()\n",
    "\n",
    "home=pytz.timezone('Asia/Kolkata')\n",
    "local_time=datetime.now(home)\n",
    "current_time=local_time.strftime(\"%H:%M:%S\")\n",
    "print(current_time)"
   ]
  },
  {
   "cell_type": "code",
   "execution_count": null,
   "id": "75e9ac4a",
   "metadata": {},
   "outputs": [],
   "source": []
  },
  {
   "cell_type": "code",
   "execution_count": null,
   "id": "69a4a344",
   "metadata": {},
   "outputs": [],
   "source": []
  }
 ],
 "metadata": {
  "kernelspec": {
   "display_name": "Python 3 (ipykernel)",
   "language": "python",
   "name": "python3"
  },
  "language_info": {
   "codemirror_mode": {
    "name": "ipython",
    "version": 3
   },
   "file_extension": ".py",
   "mimetype": "text/x-python",
   "name": "python",
   "nbconvert_exporter": "python",
   "pygments_lexer": "ipython3",
   "version": "3.9.12"
  }
 },
 "nbformat": 4,
 "nbformat_minor": 5
}
