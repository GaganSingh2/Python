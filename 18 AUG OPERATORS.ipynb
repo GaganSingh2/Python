{
 "cells": [
  {
   "cell_type": "markdown",
   "id": "80dd8760",
   "metadata": {},
   "source": [
    "# #OPERATORS\n",
    "#1 ARRITHMATIC OPERATORS\n",
    "##2 ASSIGNMENT OPERATORS\n",
    "##3 COMPARISION OPERATORS\n",
    "##4 BITWISE OPERATORS\n",
    "##5 LOGICAL OPERATORS\n",
    "##6 MEMBERSHIP OPERATORS\n",
    "##7 IDENTITY OPERATORS\n"
   ]
  },
  {
   "cell_type": "code",
   "execution_count": 1,
   "id": "8af47935",
   "metadata": {},
   "outputs": [
    {
     "name": "stdout",
     "output_type": "stream",
     "text": [
      "30\n",
      "7\n",
      "-10\n",
      "200\n",
      "0.5\n",
      "10\n"
     ]
    }
   ],
   "source": [
    "# 1 ARRITHMATIC OPRETOR\n",
    "#1addition\n",
    "a=10\n",
    "b=20\n",
    "c=a+b\n",
    "print(c)\n",
    "#2floorwision\n",
    "x=15\n",
    "y=2\n",
    "z=x//y\n",
    "print(z)\n",
    "#3sub\n",
    "c=a-b\n",
    "print(c)\n",
    "#4multiplication\n",
    "c=a*b\n",
    "print(c)\n",
    "#5division\n",
    "c=a/b\n",
    "print(c)\n",
    "#6moduls\n",
    "c=a%b\n",
    "print(c)"
   ]
  },
  {
   "cell_type": "code",
   "execution_count": 15,
   "id": "9889234d",
   "metadata": {},
   "outputs": [
    {
     "name": "stdout",
     "output_type": "stream",
     "text": [
      "10\n",
      "15\n"
     ]
    }
   ],
   "source": [
    "##2 ASSIGNMENT OPERATORS\n",
    "#1 =(equal to)\n",
    "a=10\n",
    "print(a)\n",
    "#2 +=(add equal to)\n",
    "a+=5\n",
    "print(a)\n",
    "#3 -=(sub equal to)\n",
    "#a-=2\n",
    "#print(a)\n",
    "#4 *=(multi equal to)\n",
    "#a*=5\n",
    "#print(a)\n",
    "#5 /=(division equal to)\n",
    "#a/=5\n",
    "#print(a)\n",
    "#6 %=(moduls equal to)\n",
    "#a%=5\n",
    "#print(a)\n",
    "\n"
   ]
  },
  {
   "cell_type": "code",
   "execution_count": 22,
   "id": "99f2143f",
   "metadata": {},
   "outputs": [
    {
     "name": "stdout",
     "output_type": "stream",
     "text": [
      "True\n",
      "True\n",
      "True\n",
      "False\n",
      "True\n",
      "True\n"
     ]
    }
   ],
   "source": [
    "##3 COMPARISION OPERATOR\n",
    "#1 ==\n",
    "a=5\n",
    "b=5\n",
    "print(a==b)\n",
    "#2 <(greatar than )\n",
    "p=5\n",
    "q=10\n",
    "print(p<q)\n",
    "#3 >(less than)\n",
    "r=10\n",
    "s=6\n",
    "print(r>s)\n",
    "#4 >=(greater than equal to)\n",
    "g=6\n",
    "h=8\n",
    "print(g>=h)\n",
    "#5 <=(less than equal to)\n",
    "e=2\n",
    "r=4\n",
    "print(e<=r)\n",
    "#6 !=(not equal to)\n",
    "t=4\n",
    "o=6\n",
    "print(t!=o)"
   ]
  },
  {
   "cell_type": "code",
   "execution_count": 26,
   "id": "4294718f",
   "metadata": {},
   "outputs": [
    {
     "name": "stdout",
     "output_type": "stream",
     "text": [
      "True\n",
      "False\n"
     ]
    }
   ],
   "source": [
    "##4 IDENTITY OPERATOR\n",
    "#1 is\n",
    "a=20\n",
    "b=20\n",
    "print(a is b)\n",
    "#2 is not\n",
    "a=20\n",
    "b=20\n",
    "print(a is not b)"
   ]
  },
  {
   "cell_type": "code",
   "execution_count": 29,
   "id": "ff97e063",
   "metadata": {},
   "outputs": [
    {
     "name": "stdout",
     "output_type": "stream",
     "text": [
      "True\n",
      "False\n"
     ]
    }
   ],
   "source": [
    "## 5 MEMBERSHIP OPERATORS\n",
    "#1 in\n",
    "x=\"i am gagan\"\n",
    "print('gagan' in x)\n",
    "#2 not in\n",
    "print('gagan' not in x)"
   ]
  },
  {
   "cell_type": "code",
   "execution_count": 3,
   "id": "de104bdc",
   "metadata": {},
   "outputs": [
    {
     "name": "stdout",
     "output_type": "stream",
     "text": [
      "False\n",
      "True\n",
      "False\n"
     ]
    }
   ],
   "source": [
    "## 6 LOGICAL OPERATOR\n",
    "#1 and(both condition are true  then given true)\n",
    "a=20\n",
    "b=20\n",
    "c=28\n",
    "print(a==b and b==c)\n",
    "#2 or(one condition are true then given true )\n",
    "a=23\n",
    "b=22\n",
    "c=22\n",
    "print(a==b or b==c)\n",
    "#3 not(condition are true than give result false'opposite')\n",
    "a=10\n",
    "print(not(a>15 or a<11))"
   ]
  },
  {
   "cell_type": "code",
   "execution_count": null,
   "id": "3dc417e9",
   "metadata": {},
   "outputs": [],
   "source": [
    "#7 BITWISE OPERATOR\n",
    "#1 DOUBT"
   ]
  }
 ],
 "metadata": {
  "kernelspec": {
   "display_name": "Python 3 (ipykernel)",
   "language": "python",
   "name": "python3"
  },
  "language_info": {
   "codemirror_mode": {
    "name": "ipython",
    "version": 3
   },
   "file_extension": ".py",
   "mimetype": "text/x-python",
   "name": "python",
   "nbconvert_exporter": "python",
   "pygments_lexer": "ipython3",
   "version": "3.9.12"
  }
 },
 "nbformat": 4,
 "nbformat_minor": 5
}
