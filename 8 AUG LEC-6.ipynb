{
 "cells": [
  {
   "cell_type": "code",
   "execution_count": 2,
   "id": "8a77dd48",
   "metadata": {},
   "outputs": [
    {
     "name": "stdout",
     "output_type": "stream",
     "text": [
      "radhe\n",
      "sayam\n",
      "ah\n"
     ]
    }
   ],
   "source": [
    "#SLICE\n",
    "a=\"radhe sayam \"\n",
    "print(a[0:5])\n",
    "print(a[-6:-1])\n",
    "print(a[1:5:2])"
   ]
  },
  {
   "cell_type": "code",
   "execution_count": 1,
   "id": "85094f18",
   "metadata": {},
   "outputs": [
    {
     "name": "stdout",
     "output_type": "stream",
     "text": [
      "ell\n"
     ]
    }
   ],
   "source": [
    "s=\"hello\"\n",
    "print(s[1:4])"
   ]
  },
  {
   "cell_type": "code",
   "execution_count": 70,
   "id": "164cc0ef",
   "metadata": {},
   "outputs": [
    {
     "name": "stdout",
     "output_type": "stream",
     "text": [
      "gagan pawan \n",
      "pawan\n"
     ]
    }
   ],
   "source": [
    "print(n)\n",
    "print(n[-6:-1])"
   ]
  },
  {
   "cell_type": "code",
   "execution_count": 16,
   "id": "d9d2a18c",
   "metadata": {},
   "outputs": [
    {
     "name": "stdout",
     "output_type": "stream",
     "text": [
      "m ae\n"
     ]
    }
   ],
   "source": [
    "n1='my name is gagan'\n",
    "print(n1[0:7:2])"
   ]
  },
  {
   "cell_type": "code",
   "execution_count": 7,
   "id": "d7ca90a3",
   "metadata": {},
   "outputs": [
    {
     "name": "stdout",
     "output_type": "stream",
     "text": [
      " pawa\n"
     ]
    }
   ],
   "source": [
    "a='vishal pawan'\n",
    "print(a[-6:-1])"
   ]
  },
  {
   "cell_type": "code",
   "execution_count": 3,
   "id": "e410cf24",
   "metadata": {},
   "outputs": [
    {
     "name": "stdout",
     "output_type": "stream",
     "text": [
      "nawap\n"
     ]
    }
   ],
   "source": [
    "print(a[-1:-6:-1])"
   ]
  },
  {
   "cell_type": "code",
   "execution_count": 3,
   "id": "c4473d19",
   "metadata": {},
   "outputs": [
    {
     "name": "stdout",
     "output_type": "stream",
     "text": [
      "ln\n"
     ]
    }
   ],
   "source": [
    "j=\"hello gagan\"\n",
    "print(j[2::8])"
   ]
  },
  {
   "cell_type": "code",
   "execution_count": 15,
   "id": "ca5afe7f",
   "metadata": {},
   "outputs": [
    {
     "name": "stdout",
     "output_type": "stream",
     "text": [
      "gapa\n"
     ]
    }
   ],
   "source": [
    "print(a[::3])"
   ]
  },
  {
   "cell_type": "code",
   "execution_count": 16,
   "id": "9b023ad8",
   "metadata": {},
   "outputs": [
    {
     "name": "stdout",
     "output_type": "stream",
     "text": [
      "radheradhe\n"
     ]
    }
   ],
   "source": [
    "a='radhe'\n",
    "b='radhe'\n",
    "c=a+b\n",
    "print(c)"
   ]
  },
  {
   "cell_type": "code",
   "execution_count": 4,
   "id": "4a20914a",
   "metadata": {},
   "outputs": [
    {
     "name": "stdout",
     "output_type": "stream",
     "text": [
      " MY FAV GAME IS CRICKET\n"
     ]
    }
   ],
   "source": [
    "a=' my Fav game is cricket'\n",
    "print(a.upper())"
   ]
  },
  {
   "cell_type": "code",
   "execution_count": 28,
   "id": "288d7ef4",
   "metadata": {},
   "outputs": [
    {
     "name": "stdout",
     "output_type": "stream",
     "text": [
      "my fav game is cricket\n"
     ]
    }
   ],
   "source": [
    "print(a.lower())"
   ]
  },
  {
   "cell_type": "code",
   "execution_count": 30,
   "id": "7f68155f",
   "metadata": {},
   "outputs": [
    {
     "name": "stdout",
     "output_type": "stream",
     "text": [
      "My fav game is cricket\n"
     ]
    }
   ],
   "source": [
    "print(a.capitalize())"
   ]
  },
  {
   "cell_type": "code",
   "execution_count": 31,
   "id": "904490fb",
   "metadata": {},
   "outputs": [
    {
     "name": "stdout",
     "output_type": "stream",
     "text": [
      "my Fav came is cricket\n"
     ]
    }
   ],
   "source": [
    "print(a.replace('g','c'))"
   ]
  },
  {
   "cell_type": "code",
   "execution_count": 40,
   "id": "fcd27f18",
   "metadata": {},
   "outputs": [
    {
     "name": "stdout",
     "output_type": "stream",
     "text": [
      " i am pawan \n",
      " my fav game is badminton\n"
     ]
    }
   ],
   "source": [
    "b=' i am gagan \\n my fav game is badminton'\n",
    "print(b.replace('gagan','pawan'))"
   ]
  },
  {
   "cell_type": "code",
   "execution_count": 6,
   "id": "b9f12bd0",
   "metadata": {},
   "outputs": [
    {
     "name": "stdout",
     "output_type": "stream",
     "text": [
      "2\n"
     ]
    }
   ],
   "source": [
    "b='my name is gagan'\n",
    "print(b.count('g'))"
   ]
  },
  {
   "cell_type": "code",
   "execution_count": 36,
   "id": "30212c4a",
   "metadata": {},
   "outputs": [
    {
     "name": "stdout",
     "output_type": "stream",
     "text": [
      "29\n"
     ]
    }
   ],
   "source": [
    "print(b.find('b'))"
   ]
  },
  {
   "cell_type": "code",
   "execution_count": 39,
   "id": "77ac3da2",
   "metadata": {},
   "outputs": [
    {
     "name": "stdout",
     "output_type": "stream",
     "text": [
      "i \"am\" gagan\n"
     ]
    }
   ],
   "source": [
    "c=\"i \\\"am\\\" gagan\"\n",
    "print(c)"
   ]
  },
  {
   "cell_type": "code",
   "execution_count": 41,
   "id": "66d35670",
   "metadata": {},
   "outputs": [
    {
     "name": "stdout",
     "output_type": "stream",
     "text": [
      "my Fav game is cricket\n"
     ]
    }
   ],
   "source": [
    "print(a)"
   ]
  },
  {
   "cell_type": "code",
   "execution_count": 7,
   "id": "20a446fe",
   "metadata": {},
   "outputs": [
    {
     "name": "stdout",
     "output_type": "stream",
     "text": [
      "i am player\n"
     ]
    }
   ],
   "source": [
    "z='  i am player   '\n",
    "print(z.strip())"
   ]
  },
  {
   "cell_type": "code",
   "execution_count": 44,
   "id": "8b1611fb",
   "metadata": {},
   "outputs": [
    {
     "name": "stdout",
     "output_type": "stream",
     "text": [
      "['my', 'Fav', 'game', 'is', 'cricket']\n"
     ]
    }
   ],
   "source": [
    "print(a.split())"
   ]
  },
  {
   "cell_type": "code",
   "execution_count": 9,
   "id": "c054450a",
   "metadata": {},
   "outputs": [
    {
     "name": "stdout",
     "output_type": "stream",
     "text": [
      "sita \n",
      "ram\n",
      "sita ram\n"
     ]
    }
   ],
   "source": [
    "a=\"sita \"\n",
    "b=\"ram\"\n",
    "c=a+b\n",
    "print(a)\n",
    "print(b)\n",
    "print(c)"
   ]
  },
  {
   "cell_type": "code",
   "execution_count": 58,
   "id": "7b05b8bc",
   "metadata": {},
   "outputs": [
    {
     "name": "stdout",
     "output_type": "stream",
     "text": [
      " ssalc ym\n",
      " \n"
     ]
    }
   ],
   "source": [
    "p='my class'\n",
    "print(a[-1:-10:-1])\n",
    "#find the index num of specific value\n",
    "#\n",
    "#print(a[5])"
   ]
  },
  {
   "cell_type": "code",
   "execution_count": 14,
   "id": "ac1c40a6",
   "metadata": {},
   "outputs": [
    {
     "name": "stdout",
     "output_type": "stream",
     "text": [
      " nagag \n"
     ]
    }
   ],
   "source": [
    "l=\" gagan \"\n",
    "print(l[::-1])\n",
    "#l[-1:-7:-1]"
   ]
  },
  {
   "cell_type": "code",
   "execution_count": null,
   "id": "63f9db0e",
   "metadata": {},
   "outputs": [],
   "source": []
  },
  {
   "cell_type": "code",
   "execution_count": null,
   "id": "dcb0e29d",
   "metadata": {},
   "outputs": [],
   "source": []
  }
 ],
 "metadata": {
  "kernelspec": {
   "display_name": "Python 3 (ipykernel)",
   "language": "python",
   "name": "python3"
  },
  "language_info": {
   "codemirror_mode": {
    "name": "ipython",
    "version": 3
   },
   "file_extension": ".py",
   "mimetype": "text/x-python",
   "name": "python",
   "nbconvert_exporter": "python",
   "pygments_lexer": "ipython3",
   "version": "3.9.12"
  }
 },
 "nbformat": 4,
 "nbformat_minor": 5
}
