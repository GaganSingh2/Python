{
 "cells": [
  {
   "cell_type": "markdown",
   "id": "6d14ab71",
   "metadata": {},
   "source": [
    "# OBJECT ORIENTED PROGRAMMING (OOP'S)"
   ]
  },
  {
   "cell_type": "code",
   "execution_count": 3,
   "id": "559af178",
   "metadata": {},
   "outputs": [
    {
     "name": "stdout",
     "output_type": "stream",
     "text": [
      "50\n"
     ]
    }
   ],
   "source": [
    "class Number:\n",
    "    def sum(self):\n",
    "        return self.a + self.b\n",
    "num=Number()\n",
    "num.a=20\n",
    "num.b=30\n",
    "s=num.sum()\n",
    "print(s)"
   ]
  },
  {
   "cell_type": "code",
   "execution_count": 5,
   "id": "69ffb118",
   "metadata": {},
   "outputs": [
    {
     "name": "stdout",
     "output_type": "stream",
     "text": [
      "Name is Gagan\n",
      "Train is Rajdhani Exp.\n"
     ]
    }
   ],
   "source": [
    "class RailwayForm():\n",
    "    formtype=\"RailwayForm\"\n",
    "    def printData(self):\n",
    "        print(f\"Name is {self.name}\")\n",
    "        print(f\"Train is {self.train}\")\n",
    "        \n",
    "gaganApplication= RailwayForm()\n",
    "gaganApplication.name=\"Gagan\"\n",
    "gaganApplication.train=\"Rajdhani Exp.\"\n",
    "gaganApplication.printData()"
   ]
  },
  {
   "cell_type": "code",
   "execution_count": null,
   "id": "dee16f7b",
   "metadata": {},
   "outputs": [],
   "source": []
  }
 ],
 "metadata": {
  "kernelspec": {
   "display_name": "Python 3 (ipykernel)",
   "language": "python",
   "name": "python3"
  },
  "language_info": {
   "codemirror_mode": {
    "name": "ipython",
    "version": 3
   },
   "file_extension": ".py",
   "mimetype": "text/x-python",
   "name": "python",
   "nbconvert_exporter": "python",
   "pygments_lexer": "ipython3",
   "version": "3.9.12"
  }
 },
 "nbformat": 4,
 "nbformat_minor": 5
}
