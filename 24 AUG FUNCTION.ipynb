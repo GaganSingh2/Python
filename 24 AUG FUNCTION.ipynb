{
 "cells": [
  {
   "cell_type": "markdown",
   "id": "c9e8a173",
   "metadata": {},
   "source": [
    "# FUNCTION \n",
    "# FUNCTION IS BLOCKS OF CODES.\n",
    "# 1 BUILD IN FUNCTION:-ALREADY PRESENT IN PYTHON.\n",
    "# EX OF BUILD IN FUNCTION:-PRINT(),INPUT(),DEF(),DIR()\n",
    "\n",
    "# 2. USER DEFINED FUNCTION:-DEFINEDD BY THE USER\n",
    "# EX OF USER DEFINED FUNCTION:- VARI(),CARI()\n",
    "\n",
    "\n"
   ]
  },
  {
   "cell_type": "code",
   "execution_count": 14,
   "id": "6af04287",
   "metadata": {},
   "outputs": [
    {
     "name": "stdout",
     "output_type": "stream",
     "text": [
      "46\n"
     ]
    }
   ],
   "source": [
    "def multi():\n",
    "    x=23\n",
    "    y=2\n",
    "    z=x*y\n",
    "    print(z)\n",
    "multi()    "
   ]
  },
  {
   "cell_type": "code",
   "execution_count": 1,
   "id": "175fbc20",
   "metadata": {},
   "outputs": [
    {
     "name": "stdout",
     "output_type": "stream",
     "text": [
      "welcome to the world greeky\n",
      "welcome to the world greeky\n"
     ]
    }
   ],
   "source": [
    "def dirc():\n",
    "    name='greeky'\n",
    "    print('welcome to the world ' +name)\n",
    "dirc()  \n",
    "dirc()#HUM JITNI TIME FUNCTION KO CALL KARENGE UTNI TIME HUMARI VALUE PRINT"
   ]
  },
  {
   "cell_type": "code",
   "execution_count": 18,
   "id": "62a3c76d",
   "metadata": {},
   "outputs": [
    {
     "name": "stdout",
     "output_type": "stream",
     "text": [
      "enter a number: 3\n",
      "69\n"
     ]
    }
   ],
   "source": [
    "def abs(y):\n",
    "    x=23\n",
    "    z=x*y\n",
    "    print(z)\n",
    "y=int(input(\"enter a number: \"))\n",
    "abs(y)"
   ]
  },
  {
   "cell_type": "code",
   "execution_count": 1,
   "id": "0f1103f8",
   "metadata": {},
   "outputs": [
    {
     "name": "stdout",
     "output_type": "stream",
     "text": [
      "22\n"
     ]
    }
   ],
   "source": [
    "def vari():\n",
    "    s=20\n",
    "    b=2\n",
    "    c=s+b\n",
    "    print(c)\n",
    "vari()    "
   ]
  },
  {
   "cell_type": "code",
   "execution_count": 9,
   "id": "ecca28e7",
   "metadata": {},
   "outputs": [
    {
     "name": "stdout",
     "output_type": "stream",
     "text": [
      "enter a value: 20\n",
      "enter a value: 20\n",
      "40\n",
      "40\n"
     ]
    }
   ],
   "source": [
    "u=int(input(\"enter a value: \"))\n",
    "v=int(input(\"enter a value: \"))\n",
    "def cari():\n",
    "    a=u\n",
    "    b=v\n",
    "    c=a+b\n",
    "    print(c)\n",
    "cari() \n",
    "cari()"
   ]
  },
  {
   "cell_type": "code",
   "execution_count": 2,
   "id": "10ce96b8",
   "metadata": {},
   "outputs": [
    {
     "name": "stdout",
     "output_type": "stream",
     "text": [
      "email gagan\n",
      "address gagan\n"
     ]
    }
   ],
   "source": [
    "def function_main(lname):\n",
    "    print(lname+\"gagan\")\n",
    "function_main(\"email \")\n",
    "function_main(\"address \")\n",
    "\n"
   ]
  },
  {
   "cell_type": "code",
   "execution_count": 3,
   "id": "1a696310",
   "metadata": {},
   "outputs": [
    {
     "name": "stdout",
     "output_type": "stream",
     "text": [
      "enter a alphabet: d\n"
     ]
    },
    {
     "data": {
      "text/plain": [
       "'it is vowel'"
      ]
     },
     "execution_count": 3,
     "metadata": {},
     "output_type": "execute_result"
    }
   ],
   "source": [
    "a=(input(\"enter a alphabet: \"))\n",
    "# b=(input(\"enter a alphabet: \"))\n",
    "# c=(input(\"enter a alphabet: \"))\n",
    "# d=(input(\"enter a alphabet: \"))\n",
    "# e=(input(\"enter a alphabet: \"))\n",
    "def vowel():\n",
    "    if a==\"e\":\n",
    "        vowels=True\n",
    "    elif a==\"a\":\n",
    "        vowels=True\n",
    "    elif a==\"i\":\n",
    "        vowels=True\n",
    "    elif a==\"o\":\n",
    "        vowels=True\n",
    "    elif a==\"u\":\n",
    "        vowels=True\n",
    "    else:\n",
    "        vowels=False\n",
    "    \n",
    "    if(True):                                   #WRONG\n",
    "        return(\"it is vowel\")\n",
    "    else:\n",
    "        return(\"it is not a vowel\")\n",
    "    \n",
    "vowel()    \n",
    "    "
   ]
  },
  {
   "cell_type": "code",
   "execution_count": 15,
   "id": "e77706e2",
   "metadata": {},
   "outputs": [
    {
     "name": "stdout",
     "output_type": "stream",
     "text": [
      "enter a alphabet: a\n"
     ]
    },
    {
     "data": {
      "text/plain": [
       "'it is a vowel'"
      ]
     },
     "execution_count": 15,
     "metadata": {},
     "output_type": "execute_result"
    }
   ],
   "source": [
    "a=(input(\"enter a alphabet: \"))\n",
    "def vowel(a):\n",
    "    if a==\"e\":\n",
    "        return(\"it is a vowel\")\n",
    "    elif a==\"a\":\n",
    "        return(\"it is a vowel\")\n",
    "    elif a==\"i\":\n",
    "        return(\"it is a vowel\")\n",
    "    elif a==\"o\":\n",
    "        return(\"it is a vowel\")\n",
    "    elif a==\"u\":\n",
    "        return(\"it is a vowel\")\n",
    "    else:\n",
    "        return(\"it is not a vowel\")\n",
    "    \n",
    "#     if(True):\n",
    "#         return(\"it is vowel\")\n",
    "#    else:\n",
    "#         return(\"it is not a vowel\")\n",
    "    \n",
    "vowel(a)    "
   ]
  },
  {
   "cell_type": "code",
   "execution_count": 5,
   "id": "e839f8d4",
   "metadata": {},
   "outputs": [
    {
     "name": "stdout",
     "output_type": "stream",
     "text": [
      "enter a alphabet: e\n"
     ]
    },
    {
     "data": {
      "text/plain": [
       "'it is a vowel'"
      ]
     },
     "execution_count": 5,
     "metadata": {},
     "output_type": "execute_result"
    }
   ],
   "source": [
    "v=input(\"enter a alphabet: \")\n",
    "def abc(v):\n",
    "    if(v==\"a\" or v==\"e\" or v==\"i\" or v==\"u\" or v==\"o\"):\n",
    "        return(\"it is a vowel\")\n",
    "    else:\n",
    "        return(\"it is not a vowel\")\n",
    "abc(v)    "
   ]
  },
  {
   "cell_type": "code",
   "execution_count": 18,
   "id": "b29912e8",
   "metadata": {},
   "outputs": [
    {
     "name": "stdout",
     "output_type": "stream",
     "text": [
      "enter a value: 64\n"
     ]
    },
    {
     "data": {
      "text/plain": [
       "'even'"
      ]
     },
     "execution_count": 18,
     "metadata": {},
     "output_type": "execute_result"
    }
   ],
   "source": [
    "#EVEN OR ODD \n",
    "c=int(input(\"enter a value: \"))\n",
    "def num(c):\n",
    "    if c%2==0:\n",
    "        return \"even\"\n",
    "    else:\n",
    "        return \"odd\"\n",
    "num(c)    "
   ]
  },
  {
   "cell_type": "code",
   "execution_count": 7,
   "id": "eeacea5e",
   "metadata": {},
   "outputs": [
    {
     "data": {
      "text/plain": [
       "(4, 5)"
      ]
     },
     "execution_count": 7,
     "metadata": {},
     "output_type": "execute_result"
    }
   ],
   "source": [
    "#type of arrgument\n",
    "#1.positional args \n",
    "#2.default args\n",
    "#3.keyonly args\n",
    "#4.keyword args\n",
    "def jaanmeans(love, heart):\n",
    "    return love,heart\n",
    "jaanmeans (4,5)\n"
   ]
  },
  {
   "cell_type": "code",
   "execution_count": 9,
   "id": "5a1469d6",
   "metadata": {},
   "outputs": [
    {
     "data": {
      "text/plain": [
       "(4, 9)"
      ]
     },
     "execution_count": 9,
     "metadata": {},
     "output_type": "execute_result"
    }
   ],
   "source": [
    "# default args\n",
    "def jaankahahai(lost=5,searching=10):\n",
    "    return lost,searching\n",
    "jaankahahai(4,9)"
   ]
  },
  {
   "cell_type": "code",
   "execution_count": 14,
   "id": "8c1ca628",
   "metadata": {},
   "outputs": [
    {
     "data": {
      "text/plain": [
       "(1, 2, 3, 4, 5)"
      ]
     },
     "execution_count": 14,
     "metadata": {},
     "output_type": "execute_result"
    }
   ],
   "source": [
    "#keyonly args\n",
    "def love(*missu):\n",
    "    return missu\n",
    "love(*[1,2,3,4,5])"
   ]
  },
  {
   "cell_type": "code",
   "execution_count": 16,
   "id": "b14a39ed",
   "metadata": {},
   "outputs": [
    {
     "data": {
      "text/plain": [
       "{'priya': 'tanu'}"
      ]
     },
     "execution_count": 16,
     "metadata": {},
     "output_type": "execute_result"
    }
   ],
   "source": [
    "#keyword args\n",
    "def jaan(**love):\n",
    "    return love\n",
    "jaan(**{'priya':'tanu'})"
   ]
  },
  {
   "cell_type": "code",
   "execution_count": 1,
   "id": "f0ae6346",
   "metadata": {},
   "outputs": [
    {
     "name": "stdout",
     "output_type": "stream",
     "text": [
      "55.25 77.75\n"
     ]
    }
   ],
   "source": [
    "def percent(marks):\n",
    "    p=(sum(marks)/400)*100\n",
    "    return p\n",
    "marks1=[22,54,67,78]\n",
    "percentage1=percent(marks1)\n",
    "\n",
    "marks2=[62,74,87,88]\n",
    "percentage2=percent(marks2)\n",
    "print(percentage1,percentage2)"
   ]
  },
  {
   "cell_type": "code",
   "execution_count": 9,
   "id": "75ef7dce",
   "metadata": {},
   "outputs": [
    {
     "name": "stdout",
     "output_type": "stream",
     "text": [
      "Good Day, Gagan\n"
     ]
    }
   ],
   "source": [
    "#WRITE A PROGRAM TO GREET A USER WITH \"GOOD DAY\" USING FUNCTION.\n",
    "def greet(name):\n",
    "    print(\"Good Day, \" +name)\n",
    "greet(\"Gagan\")    \n",
    "    "
   ]
  },
  {
   "cell_type": "code",
   "execution_count": null,
   "id": "12fc49ab",
   "metadata": {},
   "outputs": [],
   "source": [
    "#WHY PYTHON DOES NOT SUPPORT FULLY OOP'S."
   ]
  },
  {
   "cell_type": "code",
   "execution_count": 13,
   "id": "47778bb0",
   "metadata": {},
   "outputs": [
    {
     "name": "stdout",
     "output_type": "stream",
     "text": [
      "my love is books\n",
      "my fav game is cricket\n"
     ]
    }
   ],
   "source": [
    "#DEFAULT ARGUMENTS:- THIS ARGUMENT IS ACCEPT BY DEFAULT SECOND ARGUMENT. \n",
    "def love(name=\"cricket\"):\n",
    "    print(\"my love is \" +name)\n",
    "love(\"books\")  \n",
    "\n",
    "#BUT AGAR HUM ONLY PARAMETER PASS KRTE HAI TO BY DEFAULT PARAMETER HI ACCEPT KAREGA\n",
    "def fav(game=\"cricket\"):\n",
    "    print(\"my fav game is \" +game)\n",
    "fav()    "
   ]
  },
  {
   "cell_type": "code",
   "execution_count": null,
   "id": "2379b927",
   "metadata": {},
   "outputs": [],
   "source": [
    "#TYPES OF ARGUMENTS\n",
    "#1 POSITIONAL ARGS\n",
    "#2 DEFAULT ARGS\n",
    "#3 KEYONLY ARGS\n",
    "#4 KEYWORD ARGS"
   ]
  },
  {
   "cell_type": "code",
   "execution_count": 20,
   "id": "19962218",
   "metadata": {},
   "outputs": [
    {
     "data": {
      "text/plain": [
       "(13, 34)"
      ]
     },
     "execution_count": 20,
     "metadata": {},
     "output_type": "execute_result"
    }
   ],
   "source": [
    "#1 POSITIONAL ARGS:-Positional argument means that the argument must be provided in a correct position in a function call.\n",
    "def asd(a,m):\n",
    "    return a,m\n",
    "asd(13,34)"
   ]
  },
  {
   "cell_type": "code",
   "execution_count": 22,
   "id": "42f16b97",
   "metadata": {},
   "outputs": [
    {
     "data": {
      "text/plain": [
       "(23, 34)"
      ]
     },
     "execution_count": 22,
     "metadata": {},
     "output_type": "execute_result"
    }
   ],
   "source": [
    "#2 DEFAULT ARGS:-Python allows function arguments to have default values. If the function is called without the argument, \n",
    "#the argument gets its default value.\n",
    "def args(a=32,m=43):\n",
    "    return a,m\n",
    "args(23,34)\n",
    "#ye by default second argument ko accept karega.\n",
    "#agr hum second argument nhi pass karate hai to by default parameter wale value ko accept karega."
   ]
  },
  {
   "cell_type": "code",
   "execution_count": 23,
   "id": "4b631d11",
   "metadata": {},
   "outputs": [
    {
     "data": {
      "text/plain": [
       "(1, 2, 3, 4, 5)"
      ]
     },
     "execution_count": 23,
     "metadata": {},
     "output_type": "execute_result"
    }
   ],
   "source": [
    "#3 KEY-ONLY ARGS:-It is used to pass a non-key worded, variable-length argument list. \n",
    "#The syntax is to use the symbol * to take in a variable number of arguments;\n",
    "#by convention, it is often used with the word args.\n",
    "#ye list  pe depend rahta hai.\n",
    "def asdk(*args):\n",
    "    return args\n",
    "asdk(*[1,2,3,4,5])"
   ]
  },
  {
   "cell_type": "code",
   "execution_count": 25,
   "id": "b165259e",
   "metadata": {},
   "outputs": [
    {
     "data": {
      "text/plain": [
       "{'Name': 'Gagan', 'Home': 'Bihar'}"
      ]
     },
     "execution_count": 25,
     "metadata": {},
     "output_type": "execute_result"
    }
   ],
   "source": [
    "#4 KEYWORD ARGS:-IT IS USED TO  PASS A NON KEY WORDED,VARIABLE LENGTH ARGUMENT DICTIONARY\n",
    "# THE SYNTAX IS TO USE THE SYMBOL ** TO TAKE IN A VARIABLE NUMBER OF ARGUMENTS,\n",
    "# BY CONVENTION, IT IS OFTEN USED WITH THE WORD AGRS.\n",
    "# YE DICTIONARY PE DEPEND RAHTA HAI.\n",
    "def asdk(**args):\n",
    "    return args\n",
    "asdk(**{\"Name\":\"Gagan\",\"Home\":\"Bihar\"})"
   ]
  },
  {
   "cell_type": "markdown",
   "id": "b6d0c7cf",
   "metadata": {},
   "source": [
    "# RECURSION"
   ]
  },
  {
   "cell_type": "code",
   "execution_count": 3,
   "id": "9bb066f8",
   "metadata": {},
   "outputs": [
    {
     "name": "stdout",
     "output_type": "stream",
     "text": [
      "120\n"
     ]
    }
   ],
   "source": [
    "#FACTORIAL\n",
    "#n!=1*2*3*4*......*n\n",
    "#n!=[1*2*3*4*......](n-1)*n\n",
    "#n!=n*(n-)\n",
    "n=5\n",
    "product=1\n",
    "for i in range(n):\n",
    "    product=product * (i+1)\n",
    "print(product)    "
   ]
  },
  {
   "cell_type": "code",
   "execution_count": 7,
   "id": "3ed4f600",
   "metadata": {},
   "outputs": [
    {
     "name": "stdout",
     "output_type": "stream",
     "text": [
      "120\n"
     ]
    }
   ],
   "source": [
    "def fac_iter(n):\n",
    "    product=1\n",
    "    for i in range(n):\n",
    "        product=product * (i+1)\n",
    "    return product\n",
    "f=fac_iter(5)\n",
    "print(f)"
   ]
  },
  {
   "cell_type": "code",
   "execution_count": 8,
   "id": "a1c448a6",
   "metadata": {},
   "outputs": [
    {
     "name": "stdout",
     "output_type": "stream",
     "text": [
      "120\n"
     ]
    }
   ],
   "source": [
    "def fact_recursive(n):\n",
    "    if n==1 or n==0:\n",
    "        return 1\n",
    "    return n * fact_recursive(n-1)\n",
    "f=fact_recursive(5)\n",
    "print(f)"
   ]
  },
  {
   "cell_type": "code",
   "execution_count": null,
   "id": "d04105a4",
   "metadata": {},
   "outputs": [],
   "source": []
  }
 ],
 "metadata": {
  "kernelspec": {
   "display_name": "Python 3 (ipykernel)",
   "language": "python",
   "name": "python3"
  },
  "language_info": {
   "codemirror_mode": {
    "name": "ipython",
    "version": 3
   },
   "file_extension": ".py",
   "mimetype": "text/x-python",
   "name": "python",
   "nbconvert_exporter": "python",
   "pygments_lexer": "ipython3",
   "version": "3.9.12"
  }
 },
 "nbformat": 4,
 "nbformat_minor": 5
}
