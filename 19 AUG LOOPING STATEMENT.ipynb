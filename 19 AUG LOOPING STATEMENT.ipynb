{
 "cells": [
  {
   "cell_type": "markdown",
   "id": "e2f4bd6f",
   "metadata": {},
   "source": [
    "# LOOPING STATEMENT\n",
    "# 1 FOR LOOP\n",
    "# 2 WHILE LOOP"
   ]
  },
  {
   "cell_type": "markdown",
   "id": "fd5eb718",
   "metadata": {},
   "source": [
    "# 1 WHILE LOOP\n",
    "#SYNTAX:-\n",
    "         #while condition:\n",
    "              #body"
   ]
  },
  {
   "cell_type": "code",
   "execution_count": 2,
   "id": "d16b52e1",
   "metadata": {},
   "outputs": [
    {
     "name": "stdout",
     "output_type": "stream",
     "text": [
      "1\n",
      "2\n",
      "3\n",
      "4\n",
      "5\n",
      "6\n",
      "7\n",
      "8\n",
      "9\n",
      "10\n"
     ]
    }
   ],
   "source": [
    "#vertical line\n",
    "a=1\n",
    "while a<=10:\n",
    "    print(a)\n",
    "    a+=1"
   ]
  },
  {
   "cell_type": "code",
   "execution_count": 3,
   "id": "09ced1ae",
   "metadata": {},
   "outputs": [
    {
     "name": "stdout",
     "output_type": "stream",
     "text": [
      "1 2 3 4 5 6 7 8 9 10 "
     ]
    }
   ],
   "source": [
    "#Horizantal line\n",
    "a=1\n",
    "while a<=10:\n",
    "    print(a,end=' ')\n",
    "    a+=1"
   ]
  },
  {
   "cell_type": "code",
   "execution_count": 6,
   "id": "b672c661",
   "metadata": {},
   "outputs": [
    {
     "name": "stdout",
     "output_type": "stream",
     "text": [
      "yes  0\n",
      "yes  1\n",
      "yes  2\n",
      "yes  3\n",
      "yes  4\n",
      "yes  5\n",
      "yes  6\n",
      "yes  7\n",
      "yes  8\n",
      "yes  9\n",
      "Done\n"
     ]
    }
   ],
   "source": [
    "a=0\n",
    "while a<10:\n",
    "    print(\"yes \" , str(a))\n",
    "    a=a+1\n",
    "print(\"Done\")    "
   ]
  },
  {
   "cell_type": "code",
   "execution_count": 4,
   "id": "f43c1608",
   "metadata": {},
   "outputs": [
    {
     "name": "stdout",
     "output_type": "stream",
     "text": [
      "Gagan 0 Gagan 1 Gagan 2 Gagan 3 Gagan 4 Gagan 5 Gagan 6 Gagan 7 Gagan 8 Gagan 9 Thanks\n"
     ]
    }
   ],
   "source": [
    "b=0\n",
    "while b<10:\n",
    "    print(\"Gagan\",str(b), end=' ')\n",
    "    b=b+1\n",
    "print(\"Thanks\")    "
   ]
  },
  {
   "cell_type": "code",
   "execution_count": 15,
   "id": "c380f899",
   "metadata": {},
   "outputs": [
    {
     "name": "stdout",
     "output_type": "stream",
     "text": [
      "gagan\n",
      "akki\n",
      "pawan\n",
      "pranav\n",
      "tej\n"
     ]
    }
   ],
   "source": [
    "name=[\"gagan\",\"akki\",\"pawan\",\"pranav\",\"tej\"]\n",
    "i=0\n",
    "while i<len(name):\n",
    "    print(name[i])\n",
    "    i=i+1"
   ]
  },
  {
   "cell_type": "code",
   "execution_count": 3,
   "id": "aa975ea9",
   "metadata": {},
   "outputs": [
    {
     "name": "stdout",
     "output_type": "stream",
     "text": [
      "20 17 14 11 8 5 2 "
     ]
    }
   ],
   "source": [
    "a=20\n",
    "while a>0:\n",
    "    print(a,end=' ')\n",
    "    a-=3"
   ]
  },
  {
   "cell_type": "code",
   "execution_count": 7,
   "id": "daa54319",
   "metadata": {},
   "outputs": [
    {
     "name": "stdout",
     "output_type": "stream",
     "text": [
      "2 4 6 8 10 12 14 16 18 20 22 24 26 28 "
     ]
    }
   ],
   "source": [
    "#EVEN NUMBER \n",
    "a=2\n",
    "while a<=29:\n",
    "    print(a,end=' ')\n",
    "    a+=2"
   ]
  },
  {
   "cell_type": "code",
   "execution_count": 7,
   "id": "becaa65a",
   "metadata": {},
   "outputs": [
    {
     "name": "stdout",
     "output_type": "stream",
     "text": [
      "1 3 5 7 9 "
     ]
    }
   ],
   "source": [
    "#ODD NUMBER\n",
    "a=1\n",
    "while a<=10:\n",
    "    print(a,end=' ')\n",
    "    a+=2"
   ]
  },
  {
   "cell_type": "code",
   "execution_count": null,
   "id": "67081182",
   "metadata": {},
   "outputs": [
    {
     "name": "stdout",
     "output_type": "stream",
     "text": [
      "Radhe Radhe\n",
      "Do you want to proceed again(yes/no)yes\n",
      "Radhe Radhe\n",
      "Do you want to proceed again(yes/no)no\n",
      "invalid syntax\n",
      "Radhe Radhe\n",
      "Do you want to proceed again(yes/no)yes\n",
      "Radhe Radhe\n"
     ]
    }
   ],
   "source": [
    "#CONTINUE STATEMENT IS USED TO PRINT THE STATEMENT WITHOUT BREAKING\n",
    "while True:\n",
    "    print('Radhe Radhe')\n",
    "    v=input('Do you want to proceed again(yes/no)')\n",
    "    if v=='yes':\n",
    "        continue\n",
    "    else:\n",
    "        print('invalid syntax')\n",
    "        "
   ]
  },
  {
   "cell_type": "code",
   "execution_count": 1,
   "id": "543c6f8b",
   "metadata": {},
   "outputs": [
    {
     "name": "stdout",
     "output_type": "stream",
     "text": [
      "Radhe Radhe\n",
      "Do you want to proceed again(yes/no)yes\n",
      "Radhe Radhe\n",
      "Do you want to proceed again(yes/no)no\n",
      "invalid syntax\n"
     ]
    }
   ],
   "source": [
    "#BREAK STATEMENT IS USED TO PRINT THE STATEMENT AND THAN BREAK THE STATEMENT\n",
    "while True:\n",
    "    print('Radhe Radhe')\n",
    "    v=input('Do you want to proceed again(yes/no)')\n",
    "    if v=='yes':\n",
    "        continue\n",
    "    else:\n",
    "        print('invalid syntax')\n",
    "        break"
   ]
  },
  {
   "cell_type": "code",
   "execution_count": 3,
   "id": "f2b35596",
   "metadata": {},
   "outputs": [
    {
     "name": "stdout",
     "output_type": "stream",
     "text": [
      "1 3 5 7 9 11 13 15 17 19 21 23 25 27 29 31 33 35 37 39 41 43 45 47 49 51 53 55 57 59 61 63 65 67 69 71 73 75 77 79 81 83 85 87 89 91 93 95 97 99 "
     ]
    }
   ],
   "source": [
    "a=1\n",
    "while a<=100:\n",
    "    print(a,end=' ')\n",
    "    a+=2"
   ]
  },
  {
   "cell_type": "markdown",
   "id": "206a44c5",
   "metadata": {},
   "source": [
    "# FOR LOOP\n",
    "# SYNTAX:-\n",
    "          # for iterator in range():\n",
    "                  #(iterator=i)\n",
    "                    #body"
   ]
  },
  {
   "cell_type": "code",
   "execution_count": 6,
   "id": "2d564fad",
   "metadata": {},
   "outputs": [
    {
     "name": "stdout",
     "output_type": "stream",
     "text": [
      "apple banana cherry "
     ]
    }
   ],
   "source": [
    "l1=['apple','banana','cherry']\n",
    "for i in l1:\n",
    "    print(i,end=' ')"
   ]
  },
  {
   "cell_type": "code",
   "execution_count": 8,
   "id": "2026ffb5",
   "metadata": {},
   "outputs": [
    {
     "name": "stdout",
     "output_type": "stream",
     "text": [
      "i   a m   l e a r n i n g   p y t h o n "
     ]
    }
   ],
   "source": [
    "a='i am learning python'\n",
    "for i in a:\n",
    "    print(i,end=' ')"
   ]
  },
  {
   "cell_type": "code",
   "execution_count": 23,
   "id": "6cfaa6d1",
   "metadata": {},
   "outputs": [
    {
     "name": "stdout",
     "output_type": "stream",
     "text": [
      "1 2 3 4 5 6 7 8 9 "
     ]
    }
   ],
   "source": [
    "c=[1,2,3,4,5,6,7,8,9]\n",
    "for i in c:\n",
    "    \n",
    "    print(i,end=' ')"
   ]
  },
  {
   "cell_type": "code",
   "execution_count": 8,
   "id": "08eebf91",
   "metadata": {},
   "outputs": [
    {
     "name": "stdout",
     "output_type": "stream",
     "text": [
      "@ @ @ @ @ @ @ \n",
      "@ @ @ @ @ @ @ \n",
      "@ @ @ @ @ @ @ \n",
      "@ @ @ @ @ @ @ \n",
      "@ @ @ @ @ @ @ \n"
     ]
    }
   ],
   "source": [
    "# PATTERN PROGRAMING\n",
    "for r in range(5):\n",
    "    for c in range(7):\n",
    "        print('@',end=' ')\n",
    "    print()    "
   ]
  },
  {
   "cell_type": "code",
   "execution_count": 9,
   "id": "6120bdd6",
   "metadata": {},
   "outputs": [
    {
     "name": "stdout",
     "output_type": "stream",
     "text": [
      "# # # # \n",
      "# # # # \n",
      "# # # # \n"
     ]
    }
   ],
   "source": [
    "for r in range(3):\n",
    "    for c in range(4):\n",
    "        print('#',end=' ')\n",
    "    print()"
   ]
  },
  {
   "cell_type": "code",
   "execution_count": null,
   "id": "40b6f8e7",
   "metadata": {},
   "outputs": [],
   "source": [
    "for r in range(7):\n",
    "    for c in range(7):\n",
    "        if((r==0 and c==0)or(r==0 and c==3)):\n",
    "            print(' ',end=' ')\n",
    "        elif((r==1 and c==1)or(r==1 and c==3)):\n",
    "            print(' ',end=' ')\n",
    "        elif((r==1 and c==3)or(r==3 and c==1)):\n",
    "            print(' ',end=' ')\n",
    "        elif    \n",
    "            "
   ]
  },
  {
   "cell_type": "code",
   "execution_count": 20,
   "id": "2449377a",
   "metadata": {},
   "outputs": [
    {
     "name": "stdout",
     "output_type": "stream",
     "text": [
      "enter any value: 2\n",
      "2 x 1 = 2\n",
      "2 x 2 = 4\n",
      "2 x 3 = 6\n",
      "2 x 4 = 8\n",
      "2 x 5 = 10\n",
      "2 x 6 = 12\n",
      "2 x 7 = 14\n",
      "2 x 8 = 16\n",
      "2 x 9 = 18\n",
      "2 x 10 = 20\n"
     ]
    }
   ],
   "source": [
    "#PRINT TABLE HELP OF FOR LOOP\n",
    "g=int(input(\"enter any value: \"))\n",
    "for i in range(1,11):\n",
    "    print(g,'x',i,'=',g*i)"
   ]
  },
  {
   "cell_type": "code",
   "execution_count": 26,
   "id": "4ba05db3",
   "metadata": {},
   "outputs": [
    {
     "name": "stdout",
     "output_type": "stream",
     "text": [
      "2 4 6 8 10 "
     ]
    }
   ],
   "source": [
    "#find the even num with help of for loop\n",
    "for i in range(2,11,2):\n",
    "    print(i,end=' ')"
   ]
  },
  {
   "cell_type": "code",
   "execution_count": 24,
   "id": "e6fd720d",
   "metadata": {},
   "outputs": [
    {
     "name": "stdout",
     "output_type": "stream",
     "text": [
      "1 3 5 7 9 "
     ]
    }
   ],
   "source": [
    "#find the odd num with help of for loop\n",
    "for i in range(1,10,2):\n",
    "    print(i,end=' ')"
   ]
  },
  {
   "cell_type": "code",
   "execution_count": 22,
   "id": "5cbe0656",
   "metadata": {},
   "outputs": [
    {
     "ename": "SyntaxError",
     "evalue": "closing parenthesis ')' does not match opening parenthesis '[' (89981491.py, line 1)",
     "output_type": "error",
     "traceback": [
      "\u001b[1;36m  Input \u001b[1;32mIn [22]\u001b[1;36m\u001b[0m\n\u001b[1;33m    for i in range[1,8):\u001b[0m\n\u001b[1;37m                      ^\u001b[0m\n\u001b[1;31mSyntaxError\u001b[0m\u001b[1;31m:\u001b[0m closing parenthesis ')' does not match opening parenthesis '['\n"
     ]
    }
   ],
   "source": [
    "for i in range[1,8):\n",
    "               print(i)"
   ]
  },
  {
   "cell_type": "code",
   "execution_count": 25,
   "id": "dde68d7a",
   "metadata": {},
   "outputs": [
    {
     "name": "stdout",
     "output_type": "stream",
     "text": [
      "0 1 2 3 4 5 6 "
     ]
    }
   ],
   "source": [
    "for i in range(7):\n",
    "    print(i,end=' ')"
   ]
  },
  {
   "cell_type": "code",
   "execution_count": 28,
   "id": "14f376bc",
   "metadata": {},
   "outputs": [
    {
     "name": "stdout",
     "output_type": "stream",
     "text": [
      "0\n",
      "1\n",
      "2\n",
      "3\n",
      "4\n",
      "5\n",
      "6\n",
      "7\n",
      "8\n",
      "9\n",
      "This is inside else of for\n"
     ]
    }
   ],
   "source": [
    "#FOR WITH ELSE\n",
    "for i in range(10):\n",
    "    print(i)\n",
    "else:\n",
    "    print(\"This is inside else of for\")"
   ]
  },
  {
   "cell_type": "code",
   "execution_count": 12,
   "id": "18d7f37c",
   "metadata": {},
   "outputs": [
    {
     "name": "stdout",
     "output_type": "stream",
     "text": [
      "0\n",
      "1\n",
      "2\n",
      "3\n",
      "4\n",
      "5\n"
     ]
    }
   ],
   "source": [
    "#BREAK STATEMENT\n",
    "for i in range(10):\n",
    "    print(i)\n",
    "    if i==5:\n",
    "        break\n",
    "        \n",
    "else:\n",
    "    print(\"This is inside else of for\")#(else statement will be not executed because for loop is not complete print)"
   ]
  },
  {
   "cell_type": "code",
   "execution_count": 37,
   "id": "bd266b65",
   "metadata": {},
   "outputs": [
    {
     "name": "stdout",
     "output_type": "stream",
     "text": [
      "0 1 2 3 4 6 7 8 9 "
     ]
    }
   ],
   "source": [
    "#CONTINUE STATEMENT:-THIS STATEMENT AVOID THE NUMBER OF 5 AND PRINT ALL NUMBER\n",
    "for i in range(10):\n",
    "    if i==5:\n",
    "        #print(i,end=' ')\n",
    "        continue\n",
    "    print(i,end=' ')"
   ]
  },
  {
   "cell_type": "code",
   "execution_count": 38,
   "id": "a36199ba",
   "metadata": {},
   "outputs": [
    {
     "name": "stdout",
     "output_type": "stream",
     "text": [
      "Radhe Radhe\n"
     ]
    }
   ],
   "source": [
    "#PASS STATEMENT:-pass is a null statement.it instruct \"do nothing\"\n",
    "a=4\n",
    "if a>0:\n",
    "    pass\n",
    "while a<0:\n",
    "    pass\n",
    "print(\"Radhe Radhe\")"
   ]
  },
  {
   "cell_type": "code",
   "execution_count": 5,
   "id": "be08d51e",
   "metadata": {},
   "outputs": [
    {
     "name": "stdout",
     "output_type": "stream",
     "text": [
      "@ @ @ \n",
      "  @   \n",
      "  @   \n",
      "@ @ @ \n"
     ]
    }
   ],
   "source": [
    "#PATTERN PROGRAMING\n",
    "for r in range(4):\n",
    "    for c in range(3):\n",
    "        if(r==1 and c==0):\n",
    "            print(' ',end=' ')\n",
    "        elif(r==1 and c==2):\n",
    "            print(' ',end=' ')\n",
    "        elif(r==2 and c==0):\n",
    "            print(' ',end=' ')\n",
    "        elif(r==2 and c==2):\n",
    "            print(' ',end=' ')\n",
    "        else:\n",
    "            print('@',end=' ')\n",
    "    print()"
   ]
  },
  {
   "cell_type": "code",
   "execution_count": 13,
   "id": "56ae08ed",
   "metadata": {},
   "outputs": [
    {
     "name": "stdout",
     "output_type": "stream",
     "text": [
      "#     # \n",
      "#     # \n",
      "# # # # \n",
      "#     # \n",
      "#     # \n"
     ]
    }
   ],
   "source": [
    "for r in range(5):\n",
    "    for c in range(4):\n",
    "        if(r==0 and c==1):\n",
    "            print(' ',end=' ')\n",
    "        elif(r==0 and c==2):\n",
    "            print(' ',end=' ')\n",
    "        elif(r==1 and c==1):\n",
    "            print(' ',end=' ')\n",
    "        elif(r==1 and c==2):\n",
    "            print(' ',end=' ')\n",
    "        elif(r==3 and c==1):\n",
    "            print(' ',end=' ')\n",
    "        elif(r==3 and c==2):\n",
    "            print(' ',end=' ')\n",
    "        elif(r==4 and c==1):\n",
    "            print(' ',end=' ')\n",
    "        elif(r==4 and c==2):\n",
    "            print(' ',end=' ')\n",
    "        else:\n",
    "            print('#',end=' ')\n",
    "    print()"
   ]
  },
  {
   "cell_type": "code",
   "execution_count": 1,
   "id": "284eef7f",
   "metadata": {},
   "outputs": [
    {
     "name": "stdout",
     "output_type": "stream",
     "text": [
      "* * * *   \n",
      "*         \n",
      "*   * * * \n",
      "* * * * * \n"
     ]
    }
   ],
   "source": [
    "#PRINT G USE OF PATTERN PROGRAMMING\n",
    "for r in range(4):\n",
    "    for c in range(5):\n",
    "        if(r==0 and c==4):\n",
    "            print(' ',end=' ')\n",
    "        elif(r==1 and c==1):\n",
    "            print(' ',end=' ')\n",
    "        elif(r==1 and c==2):\n",
    "            print(' ',end=' ')\n",
    "        elif(r==1 and c==3):\n",
    "            print(' ',end=' ')\n",
    "        elif(r==1 and c==4):\n",
    "            print(' ',end=' ')\n",
    "        elif(r==2 and c==1):\n",
    "            print(' ',end=' ')\n",
    "            \n",
    "        else:\n",
    "            print(\"*\",end=' ')\n",
    "    print()       "
   ]
  },
  {
   "cell_type": "code",
   "execution_count": 8,
   "id": "c8ae32e2",
   "metadata": {},
   "outputs": [
    {
     "name": "stdout",
     "output_type": "stream",
     "text": [
      "@ @ @ @       @ @ @     @ @ @ @       @ @ @     @     @ \n",
      "@           @       @   @           @       @   @ @   @ \n",
      "@   @ @ @   @ @ @ @ @   @   @ @ @   @ @ @ @ @   @   @ @ \n",
      "@ @ @ @ @   @       @   @ @ @ @ @   @       @   @     @ \n"
     ]
    }
   ],
   "source": [
    "# PRINT GAGAN USE OF PATTERN PROGRAMMING\n",
    "for r in range(4):\n",
    "    for c in range(28):\n",
    "        #G IS PRINT\n",
    "        if(r==0 and c==4):\n",
    "            print(' ',end=' ')\n",
    "        elif(r==1 and c==1):\n",
    "            print(' ',end=' ')\n",
    "        elif(r==1 and c==2):\n",
    "            print(' ',end=' ')\n",
    "        elif(r==1 and c==3):\n",
    "            print(' ',end=' ')\n",
    "        elif(r==1 and c==4):\n",
    "            print(' ',end=' ')\n",
    "        elif(r==2 and c==1):\n",
    "            print(' ',end=' ')\n",
    "            # SPACE IS PRINT\n",
    "        elif(r==0 and c==5):\n",
    "            print(' ',end=' ')\n",
    "        elif(r==1 and c==5):\n",
    "            print(' ',end=' ')\n",
    "        elif(r==2 and c==5):\n",
    "            print(' ',end=' ')\n",
    "        elif(r==3 and c==5):\n",
    "            print(' ',end=' ')\n",
    "            #a is print\n",
    "        elif(r==0 and c==6):\n",
    "            print(' ',end=' ')\n",
    "        elif(r==0 and c==10):\n",
    "            print(' ',end=' ')\n",
    "        elif(r==1 and c==7):\n",
    "            print(' ',end=' ')\n",
    "        elif(r==1 and c==8):\n",
    "            print(' ',end=' ')\n",
    "        elif(r==1 and c==9):\n",
    "            print(' ',end=' ')\n",
    "        elif(r==3 and c==7):\n",
    "            print(' ',end=' ')\n",
    "        elif(r==3 and c==8):\n",
    "            print(' ',end=' ')\n",
    "        elif(r==3 and c==9):\n",
    "            print(' ',end=' ')\n",
    "#         elif(r==1 and c==10):\n",
    "#             print(' ',end=' ')\n",
    "#         elif(r==2 and c==10):\n",
    "#             print(' ',end=' ')\n",
    "#         elif(r==3 and c==10):\n",
    "#             print(' ',end=' ')\n",
    "             #SPACE IS PRINT\n",
    "        elif(r==0 and c==11):\n",
    "            print(' ',end=' ')\n",
    "        elif(r==1 and c==11):\n",
    "            print(' ',end=' ')\n",
    "        elif(r==2 and c==11):\n",
    "            print(' ',end=' ')\n",
    "        elif(r==3 and c==11):\n",
    "            print(' ',end=' ')\n",
    "            #g is print\n",
    "        elif(r==0 and c==16):\n",
    "            print(' ',end=' ')\n",
    "        elif(r==1 and c==13):\n",
    "            print(' ',end=' ')\n",
    "        elif(r==1 and c==14):\n",
    "            print(' ',end=' ')\n",
    "        elif(r==1 and c==15):\n",
    "            print(' ',end=' ')\n",
    "        elif(r==1 and c==16):\n",
    "            print(' ',end=' ')\n",
    "        elif(r==2 and c==13):\n",
    "            print(' ',end=' ')\n",
    "            #SPACE IS PRINT\n",
    "        elif(r==0 and c==17):\n",
    "            print(' ',end=' ')\n",
    "        elif(r==1 and c==17):\n",
    "            print(' ',end=' ')\n",
    "        elif(r==2 and c==17):\n",
    "            print(' ',end=' ')\n",
    "        elif(r==3 and c==17):\n",
    "            print(' ',end=' ')\n",
    "            #a is print\n",
    "        elif(r==0 and c==18):\n",
    "            print(' ',end=' ')\n",
    "        elif(r==0 and c==22):\n",
    "            print(' ',end=' ')\n",
    "        elif(r==1 and c==19):\n",
    "            print(' ',end=' ')\n",
    "        elif(r==1 and c==20):\n",
    "            print(' ',end=' ')\n",
    "        elif(r==1 and c==21):\n",
    "            print(' ',end=' ')\n",
    "        elif(r==3 and c==19):\n",
    "            print(' ',end=' ')\n",
    "        elif(r==3 and c==20):\n",
    "            print(' ',end=' ')\n",
    "        elif(r==3 and c==21):\n",
    "            print(' ',end=' ')\n",
    "            #SPACE IS PRINT\n",
    "        elif(r==0 and c==23):\n",
    "            print(' ',end=' ')\n",
    "        elif(r==1 and c==23):\n",
    "            print(' ',end=' ')\n",
    "        elif(r==2 and c==23):\n",
    "            print(' ',end=' ')\n",
    "        elif(r==3 and c==23):\n",
    "            print(' ',end=' ') \n",
    "            #N IS PRINT\n",
    "        elif(r==0 and c==25):\n",
    "            print(' ',end=' ')\n",
    "        elif(r==0 and c==26):\n",
    "            print(' ',end=' ')\n",
    "        elif(r==1 and c==26):\n",
    "            print(' ',end=' ')\n",
    "        elif(r==2 and c==25):\n",
    "            print(' ',end=' ')\n",
    "                        \n",
    "        elif(r==3 and c==25):\n",
    "            print(' ',end=' ')\n",
    "        elif(r==3 and c==26):\n",
    "            print(' ',end=' ')\n",
    "        else:\n",
    "            print('@',end=' ')\n",
    "    print()       \n",
    "                        \n",
    "        \n"
   ]
  },
  {
   "cell_type": "code",
   "execution_count": 3,
   "id": "348f97e5",
   "metadata": {},
   "outputs": [
    {
     "name": "stdout",
     "output_type": "stream",
     "text": [
      "enter a number: 24\n",
      "this is not a prime num\n"
     ]
    }
   ],
   "source": [
    "#WRITE A PROGRAM TO FIND GIVEN NUM IS PRIME OR NOT\n",
    "num=int(input(\"enter a number: \"))\n",
    "prime=True\n",
    "for i in range(2,num):\n",
    "    if num%i==0:\n",
    "        prime=False\n",
    "        break\n",
    "if prime:\n",
    "    print(\"this is a prime num\")\n",
    "else:\n",
    "    print(\"this is not a prime num\")\n",
    "        "
   ]
  },
  {
   "cell_type": "code",
   "execution_count": 5,
   "id": "4569aebf",
   "metadata": {},
   "outputs": [
    {
     "name": "stdout",
     "output_type": "stream",
     "text": [
      "enter a number: 3\n",
      "3 x 1 = 3\n",
      "3 x 2 = 6\n",
      "3 x 3 = 9\n",
      "3 x 4 = 12\n",
      "3 x 5 = 15\n",
      "3 x 6 = 18\n",
      "3 x 7 = 21\n",
      "3 x 8 = 24\n",
      "3 x 9 = 27\n",
      "3 x 10 = 30\n"
     ]
    }
   ],
   "source": [
    "#WRITE A PROGRAM TO FIND A TABLE USE A WHILE LOOP.\n",
    "num=int(input(\"enter a number: \"))\n",
    "i=1\n",
    "while i<=10:\n",
    "    print(num,'x',i,'=',num*i)\n",
    "    i=i+1"
   ]
  },
  {
   "cell_type": "code",
   "execution_count": 9,
   "id": "b725a61b",
   "metadata": {},
   "outputs": [
    {
     "name": "stdout",
     "output_type": "stream",
     "text": [
      "hello gagan\n",
      "hello gracy\n"
     ]
    }
   ],
   "source": [
    "l1=[\"gagan\",\"sohan\",\"gracy\"]\n",
    "for name in l1:\n",
    "    if (name.startswith(\"g\")):\n",
    "        print(\"hello \" +name)"
   ]
  },
  {
   "cell_type": "code",
   "execution_count": 12,
   "id": "ce4f2a2c",
   "metadata": {},
   "outputs": [
    {
     "name": "stdout",
     "output_type": "stream",
     "text": [
      "enter a num: 3\n",
      "the factorial of this num is 6\n"
     ]
    }
   ],
   "source": [
    "#FIND A FACTORIAL NUM\n",
    "num=int(input(\"enter a num: \"))\n",
    "factorial=1\n",
    "for i in range(1,num+1):\n",
    "    factorial=factorial*i\n",
    "print(\"the factorial of this num is\",  factorial)    "
   ]
  },
  {
   "cell_type": "code",
   "execution_count": 13,
   "id": "475733e7",
   "metadata": {},
   "outputs": [
    {
     "name": "stdout",
     "output_type": "stream",
     "text": [
      "*\n",
      "**\n",
      "***\n",
      "****\n"
     ]
    }
   ],
   "source": [
    "#FIND A PATTERN   *\n",
    "#                 **\n",
    "#                 ***           \n",
    "#                 ****\n",
    "i=4\n",
    "for i in range(4):\n",
    "    print(\"*\" * (i+1))"
   ]
  },
  {
   "cell_type": "code",
   "execution_count": 15,
   "id": "3991f158",
   "metadata": {},
   "outputs": [
    {
     "name": "stdout",
     "output_type": "stream",
     "text": [
      "    *     \n",
      "  * * *   \n",
      "* * * * * \n"
     ]
    }
   ],
   "source": [
    "#FIND A PATTERN\n",
    "#     *\n",
    "#    ***\n",
    "#   *****\n",
    "for r in range(3):\n",
    "    for c in range(5):\n",
    "        if(r==0 and c==0):\n",
    "            print(' ',end=' ')\n",
    "        elif(r==0 and c==1):\n",
    "            print(' ',end=' ')\n",
    "        elif(r==0 and c==3):\n",
    "            print(' ',end=' ')\n",
    "        elif(r==0 and c==4):\n",
    "            print(' ',end=' ')\n",
    "        elif(r==1 and c==0):\n",
    "            print(' ',end=' ')\n",
    "        elif(r==1 and c==4):\n",
    "            print(' ',end=' ')\n",
    "        else:\n",
    "            print('*',end=' ')\n",
    "    print()       "
   ]
  },
  {
   "cell_type": "code",
   "execution_count": 16,
   "id": "ee88c570",
   "metadata": {},
   "outputs": [
    {
     "name": "stdout",
     "output_type": "stream",
     "text": [
      "# # # \n",
      "#   # \n",
      "# # # \n"
     ]
    }
   ],
   "source": [
    "#FIND A PATTERN\n",
    "#      ***\n",
    "#      * *\n",
    "#      ***\n",
    "for r in range(3):\n",
    "    for c in range(3):\n",
    "        if(r==1 and c==1):\n",
    "            print(' ',end=' ')\n",
    "        else:\n",
    "            print('#',end=' ')\n",
    "    print()       "
   ]
  },
  {
   "cell_type": "code",
   "execution_count": null,
   "id": "a74f84a4",
   "metadata": {},
   "outputs": [],
   "source": []
  }
 ],
 "metadata": {
  "kernelspec": {
   "display_name": "Python 3 (ipykernel)",
   "language": "python",
   "name": "python3"
  },
  "language_info": {
   "codemirror_mode": {
    "name": "ipython",
    "version": 3
   },
   "file_extension": ".py",
   "mimetype": "text/x-python",
   "name": "python",
   "nbconvert_exporter": "python",
   "pygments_lexer": "ipython3",
   "version": "3.9.12"
  }
 },
 "nbformat": 4,
 "nbformat_minor": 5
}
