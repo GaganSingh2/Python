{
 "cells": [
  {
   "cell_type": "code",
   "execution_count": 3,
   "id": "63d75820",
   "metadata": {},
   "outputs": [
    {
     "name": "stdout",
     "output_type": "stream",
     "text": [
      "enter a fav. lang.: python\n",
      "enter a fav. lang.: c\n",
      "enter a fav. lang.: java\n",
      "{'gagan': 'python', 'pawan': 'c', 'akki': 'java'}\n",
      "enter a key: akki\n",
      "{'gagan': 'python', 'pawan': 'c'}\n"
     ]
    }
   ],
   "source": [
    "#WRITE A PROGRAM TO GET USER DEFINED DICTIONARY AND DELETE THE USER DEFINED DICTIONARY.\n",
    "favlang={}\n",
    "a=input(\"enter a fav. lang.: \")\n",
    "b=input(\"enter a fav. lang.: \")\n",
    "c=input(\"enter a fav. lang.: \")\n",
    "favlang[\"gagan\"]=a\n",
    "favlang[\"pawan\"]=b\n",
    "favlang[\"akki\"]=c\n",
    "print(favlang)\n",
    "\n",
    "#DELETE \n",
    "d=input(\"enter a key: \")\n",
    "favlang.pop(d)\n",
    "print(favlang)"
   ]
  },
  {
   "cell_type": "code",
   "execution_count": 33,
   "id": "1ff043a7",
   "metadata": {},
   "outputs": [
    {
     "name": "stdout",
     "output_type": "stream",
     "text": [
      "enter a num: 3\n",
      "1::0\n",
      "2::1\n",
      "3::1\n"
     ]
    }
   ],
   "source": [
    "#Q2 WRITE APROGRAM TO PRINT FIBONACCI SERIES\n",
    "num=int(input(\"enter a num: \"))\n",
    "def fibo(num):\n",
    "    a,b=0,1\n",
    "    for i in range(0,num):\n",
    "        yield \"{}::{}\".format(i+1,a)\n",
    "        a,b=b,a+b\n",
    "for item in fibo(num):\n",
    "    print(item)"
   ]
  },
  {
   "cell_type": "code",
   "execution_count": null,
   "id": "eedd7bea",
   "metadata": {},
   "outputs": [],
   "source": []
  },
  {
   "cell_type": "code",
   "execution_count": 10,
   "id": "4e496007",
   "metadata": {},
   "outputs": [
    {
     "name": "stdout",
     "output_type": "stream",
     "text": [
      "enter a num: 4\n"
     ]
    },
    {
     "data": {
      "text/plain": [
       "'it is an even number'"
      ]
     },
     "execution_count": 10,
     "metadata": {},
     "output_type": "execute_result"
    }
   ],
   "source": [
    "#Q3 WRITE A PROGRAM FOR FINDING EVEN AND ODD NUMBER WITH FUNCTION AND WRITE A PROGRAM TO FIND SUM OF NUMBER BY FUNCTION METHOD\n",
    "a=int(input(\"enter a num: \"))\n",
    "def num(a):\n",
    "    if a%2==0:\n",
    "        return(\"it is an even number\")\n",
    "    else:\n",
    "        return(\"it is an odd number\")\n",
    "num(a)    \n",
    "    \n",
    "    \n",
    "    \n",
    "#SUM OF NUM BY FUNCTION METHOD\n",
    "# num1=int(input(\"enter a number: \"))\n",
    "# num2=int(input(\"enter a number: \"))\n",
    "# def sum(num):\n",
    "#     a=num1\n",
    "#     b=num2\n",
    "#     c=a+b\n",
    "#     print(c)\n",
    "# sum(num)    "
   ]
  },
  {
   "cell_type": "code",
   "execution_count": 11,
   "id": "2df36f77",
   "metadata": {},
   "outputs": [
    {
     "name": "stdout",
     "output_type": "stream",
     "text": [
      "enter a number: 4\n",
      "enter a number: 3\n",
      "7\n"
     ]
    }
   ],
   "source": [
    "#Q3#SUM OF NUM BY FUNCTION METHOD\n",
    "num1=int(input(\"enter a number: \"))\n",
    "num2=int(input(\"enter a number: \"))\n",
    "def sum(num):\n",
    "    a=num1\n",
    "    b=num2\n",
    "    c=a+b\n",
    "    print(c)\n",
    "sum(num)    "
   ]
  },
  {
   "cell_type": "code",
   "execution_count": 32,
   "id": "924d9250",
   "metadata": {},
   "outputs": [
    {
     "name": "stdout",
     "output_type": "stream",
     "text": [
      "enter a value: 1\n",
      "enter a value: 2\n",
      "enter a value: 3\n",
      "enter a value: 4\n",
      "enter a value: 5\n",
      "[1, 2, 3, 4, 5]\n",
      "[1, 2, 3]\n",
      "[1, 3]\n",
      "[1, 2, 6, 3, 4, 5]\n",
      "[1, 2, 6, 3, 4, 5, 8]\n",
      "[1, 2, 6, 4, 5, 8]\n",
      "[1, 2, 6, 4, 5]\n",
      "[1, 6, 4, 5]\n",
      "[1, 6, 4, 5, 9, 8, 7]\n",
      "[1, 4, 5, 6, 7, 8, 9]\n"
     ]
    }
   ],
   "source": [
    "#Q4WRITE A PROGRAM TO TAKE USER DEFINED LIST AND APPLY ALL METHODS OF LIST.\n",
    "a=int(input(\"enter a value: \"))\n",
    "b=int(input(\"enter a value: \"))\n",
    "c=int(input(\"enter a value: \"))\n",
    "d=int(input(\"enter a value: \"))\n",
    "e=int(input(\"enter a value: \"))\n",
    "l=[a,b,c,d,e]\n",
    "print(l)\n",
    "#slicing\n",
    "print(l[0:3])\n",
    "#steping\n",
    "print(l[0:4:2])\n",
    "#insert function\n",
    "l.insert(2,6)\n",
    "print(l)\n",
    "#append function\n",
    "l.append(8)\n",
    "print(l)\n",
    "#remove function\n",
    "l.remove(3)\n",
    "print(l)\n",
    "#pop function\n",
    "l.pop()#without given index num pop function delete last element\n",
    "print(l)\n",
    "\n",
    "l.pop(1)# given index num pop function delete index  element\n",
    "print(l)\n",
    "\n",
    "#extend function\n",
    "l2=[9,8,7]\n",
    "l.extend(l2)\n",
    "print(l)\n",
    "\n",
    "#sort function\n",
    "l.sort()\n",
    "print(l)\n",
    "\n",
    "#delete function\n",
    "del(l)\n"
   ]
  },
  {
   "cell_type": "code",
   "execution_count": 29,
   "id": "8c53bdde",
   "metadata": {},
   "outputs": [
    {
     "name": "stdout",
     "output_type": "stream",
     "text": [
      "enter a marks: 89\n",
      "A\n"
     ]
    }
   ],
   "source": [
    "#Q5 WRITE A PROGRAM TO GET MARKS OF STUDENT AND GRADE ACCORDING TO THEIR MARKS\n",
    "mark=int(input(\"enter a marks: \"))\n",
    "if mark>=90:\n",
    "    grade=\"Ex\"\n",
    "elif mark>=80:\n",
    "    grade=\"A\"\n",
    "elif mark>=70:\n",
    "    grade=\"B\"\n",
    "elif mark>=60:\n",
    "    grade=\"C\"\n",
    "elif mark>=50:\n",
    "    grade=\"D\"\n",
    "else:\n",
    "    grade=\"F\"\n",
    "\n",
    "if(grade):\n",
    "    print(grade)\n",
    "else:\n",
    "    print(grade)"
   ]
  },
  {
   "cell_type": "code",
   "execution_count": null,
   "id": "ce44a70b",
   "metadata": {},
   "outputs": [],
   "source": []
  }
 ],
 "metadata": {
  "kernelspec": {
   "display_name": "Python 3 (ipykernel)",
   "language": "python",
   "name": "python3"
  },
  "language_info": {
   "codemirror_mode": {
    "name": "ipython",
    "version": 3
   },
   "file_extension": ".py",
   "mimetype": "text/x-python",
   "name": "python",
   "nbconvert_exporter": "python",
   "pygments_lexer": "ipython3",
   "version": "3.9.12"
  }
 },
 "nbformat": 4,
 "nbformat_minor": 5
}
