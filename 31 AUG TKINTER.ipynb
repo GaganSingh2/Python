{
 "cells": [
  {
   "cell_type": "code",
   "execution_count": 2,
   "id": "867303f5",
   "metadata": {},
   "outputs": [
    {
     "name": "stdout",
     "output_type": "stream",
     "text": [
      "i love you\n"
     ]
    }
   ],
   "source": [
    "from tkinter import *\n",
    "root=Tk()\n",
    "root.title(\"WinDow\")\n",
    "root.minsize(width=340,height=200) \n",
    "root.config(bg=\"red\")\n",
    "l2=Label(root, text=\"I\", fg=\"red\",  bg=\"green\",relief=\"sunken\", font=\"times 20 bold italic\")\n",
    "l2.pack(side=LEFT)\n",
    "l3=Label(root, text=\"YOU\", fg=\"red\",  bg=\"green\",relief=\"sunken\", font=\"times 20 bold italic\")\n",
    "l3.pack(side=RIGHT)\n",
    "l4=Label(root, text=\"LOVE\", fg=\"red\",  bg=\"green\",relief=\"sunken\", font=\"times 20 bold italic\")\n",
    "l4.pack(side=TOP)\n",
    "l5=Label(root, text=\"PRITI\", fg=\"red\",  bg=\"green\",relief=\"sunken\", font=\"times 20 bold italic\")\n",
    "l5.pack(side=BOTTOM)\n",
    "def love():\n",
    "    print(\"i love you\")\n",
    "b=Button(root,text=\"click\",fg=\"red\",bg=\"green\",relief=\"sunken\",font=\"arial 15 bold\",command=love)\n",
    "b.pack(side=BOTTOM)\n",
    "root.mainloop()\n"
   ]
  },
  {
   "cell_type": "code",
   "execution_count": null,
   "id": "f1c8b69d",
   "metadata": {},
   "outputs": [],
   "source": [
    "#Q Draw the program a login page \n",
    "# user name\n",
    "# password\n",
    "# contact number\n",
    "# submit"
   ]
  },
  {
   "cell_type": "code",
   "execution_count": 1,
   "id": "d131d715",
   "metadata": {},
   "outputs": [
    {
     "name": "stdout",
     "output_type": "stream",
     "text": [
      "Gagan\n",
      "1234\n",
      "9162036179\n",
      "Successfully submmited\n"
     ]
    }
   ],
   "source": [
    "from tkinter import *\n",
    "root=Tk()\n",
    "root.title(\"WinDow\")\n",
    "root.minsize(width=340,height=200) \n",
    "root.config(bg=\"grey\")\n",
    "def name():\n",
    "    print(\"Gagan\")\n",
    "a=Button(root,text=\"user name\",fg=\"red\",bg=\"yellow\",relief=\"sunken\",font=\"arial 15 bold\",command=name)\n",
    "a.pack(side=TOP)\n",
    "def passw():\n",
    "    print(\"1234\")\n",
    "a1=Button(root,text=\"password\",fg=\"red\",bg=\"yellow\",relief=\"sunken\",font=\"arial 15 bold\",command=passw)\n",
    "a1.pack()\n",
    "def co():\n",
    "    print(\"9162036179\")\n",
    "a2=Button(root,text=\"Contact number\",fg=\"red\",bg=\"yellow\",relief=\"sunken\",font=\"arial 15 bold\",command=co)\n",
    "a2.pack()\n",
    "def su():\n",
    "    print(\"Successfully submmited\")\n",
    "a3=Button(root,text=\"Login\",fg=\"red\",bg=\"yellow\",relief=\"sunken\",font=\"arial 15 bold\",command=su)\n",
    "a3.pack()\n",
    "root.mainloop()"
   ]
  },
  {
   "cell_type": "code",
   "execution_count": null,
   "id": "e60606db",
   "metadata": {},
   "outputs": [],
   "source": []
  }
 ],
 "metadata": {
  "kernelspec": {
   "display_name": "Python 3 (ipykernel)",
   "language": "python",
   "name": "python3"
  },
  "language_info": {
   "codemirror_mode": {
    "name": "ipython",
    "version": 3
   },
   "file_extension": ".py",
   "mimetype": "text/x-python",
   "name": "python",
   "nbconvert_exporter": "python",
   "pygments_lexer": "ipython3",
   "version": "3.9.12"
  }
 },
 "nbformat": 4,
 "nbformat_minor": 5
}
