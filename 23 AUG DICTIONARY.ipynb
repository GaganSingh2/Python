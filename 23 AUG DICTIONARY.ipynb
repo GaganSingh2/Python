{
 "cells": [
  {
   "cell_type": "code",
   "execution_count": null,
   "id": "9747cf04",
   "metadata": {},
   "outputs": [],
   "source": [
    "#DICTIONARY\n",
    "#{}\n"
   ]
  },
  {
   "cell_type": "code",
   "execution_count": 13,
   "id": "52d5fa9f",
   "metadata": {},
   "outputs": [
    {
     "name": "stdout",
     "output_type": "stream",
     "text": [
      "{'name': 'gagan', 'class': 'cse', 'branch': 'computer'}\n",
      "{'name': 'gagan', 'class': 'cse', 'branch': 'computer', 'home': 'bihar', 'dfdsa0': 'sd'}\n"
     ]
    }
   ],
   "source": [
    "#UPDATE FUNCTION IS USED TO INSERT THE NEW KEY AND VALUE IN DICTIONARY AND UPDATE THE OLD DICTIONARY.\n",
    "dic={\"name\":\"gagan\",\"class\":\"cse\",\"branch\":\"computer\"}\n",
    "print(dic)\n",
    "s={\"home\":\"bihar\",\"dfdsa0\":\"sd\"}\n",
    "dic.update(s)\n",
    "print(dic)"
   ]
  },
  {
   "cell_type": "code",
   "execution_count": 24,
   "id": "67e7e177",
   "metadata": {},
   "outputs": [
    {
     "name": "stdout",
     "output_type": "stream",
     "text": [
      "{'name': 'gagan', 'class': 'cse'}\n",
      "gagan\n",
      "gagan\n",
      "{'name': 'gagan'}\n"
     ]
    }
   ],
   "source": [
    "w={\"name\":\"gagan\",\"class\":\"cse\"}\n",
    "print(w)\n",
    "print(w.get(\"name\"))\n",
    "print(w[\"name\"])\n",
    "w.popitem()\n",
    "print(w)\n",
    "# w['name']=\"cs\"\n",
    "# print(w)"
   ]
  },
  {
   "cell_type": "code",
   "execution_count": 5,
   "id": "0de3c223",
   "metadata": {},
   "outputs": [
    {
     "name": "stdout",
     "output_type": "stream",
     "text": [
      "{'name': 'gagan', 'class': 'cse', 'branch': 'computer', 'c': 'computer'}\n",
      "4\n"
     ]
    }
   ],
   "source": [
    "dic1={\"name\":\"gagan\",\"class\":\"cse\",\"branch\":\"computer\",\"c\":\"computer\"}\n",
    "print(dic1)\n",
    "print(len(dic1))"
   ]
  },
  {
   "cell_type": "code",
   "execution_count": 15,
   "id": "d82833f0",
   "metadata": {},
   "outputs": [
    {
     "name": "stdout",
     "output_type": "stream",
     "text": [
      "{'name': 'gagan', 'class': 'cse', 'branch': 'computer'}\n",
      "{'name': 'gagan', 'class': 'cse'}\n"
     ]
    }
   ],
   "source": [
    "#POP FUNCTION IS UESD TO DELETE A KEY AND VALUE TO GIVEN BY THE USER.\n",
    "s={\"name\":\"gagan\",\"class\":\"cse\",\"branch\":\"computer\",\"c\":\"computer\"}\n",
    "s.pop(\"c\")\n",
    "print(s)\n",
    "#POPITEM FUNCTION IS USED TO DELETE BYDEFAULT LAST KEY AND VALUE\n",
    "s.popitem()\n",
    "print(s)\n"
   ]
  },
  {
   "cell_type": "code",
   "execution_count": 16,
   "id": "5ea72324",
   "metadata": {},
   "outputs": [
    {
     "name": "stdout",
     "output_type": "stream",
     "text": [
      "enter any key: home\n",
      "{'name': 'gagan', 'branch': 'cse'}\n"
     ]
    }
   ],
   "source": [
    "v={\"name\":\"gagan\",\"branch\":\"cse\",\"home\":\"bihar\"}\n",
    "u=(input(\"enter any key: \"))\n",
    "v.pop(u)\n",
    "print(v)"
   ]
  },
  {
   "cell_type": "code",
   "execution_count": 19,
   "id": "e36bea54",
   "metadata": {},
   "outputs": [
    {
     "name": "stdout",
     "output_type": "stream",
     "text": [
      "{'name': 'gagan', 'branch': 'cse', 'home': 'bihar', 'dit': 'goa', 'sjandjk': 'njasn'}\n",
      "{'name': 'gagan', 'branch': 'cse', 'home': 'bihar', 'dit': 'goa', 'sjandjk': 'njasn'}\n",
      "{'name': 'gagan', 'branch': 'cse', 'home': 'bihar', 'dit': 'goa', 'sjandjk': 'njasn'}\n",
      "{'name': 'gagan', 'branch': 'cse', 'home': 'bihar', 'dit': 'goa', 'sjandjk': 'njasn'}\n",
      "{'name': 'gagan', 'branch': 'cse', 'home': 'bihar', 'dit': 'goa', 'sjandjk': 'njasn'}\n"
     ]
    }
   ],
   "source": [
    "v={\"name\":\"gagan\",\"branch\":\"cse\",\"home\":\"bihar\",\"dit\":\"goa\",\"sjandjk\":\"njasn\"}\n",
    "for i in v:\n",
    "    print(v)"
   ]
  },
  {
   "cell_type": "code",
   "execution_count": 21,
   "id": "5b880b5c",
   "metadata": {},
   "outputs": [
    {
     "name": "stdout",
     "output_type": "stream",
     "text": [
      "welcome\n"
     ]
    }
   ],
   "source": [
    "v={\"name\":\"gagan\",\"branch\":\"cse\",\"home\":\"bihar\",\"dit\":\"goa\",\"sjandjk\":\"njasn\"}\n",
    "if 'name' in v:\n",
    "    print(\"welcome\")\n",
    "else:\n",
    "    print(\"Get out\")"
   ]
  },
  {
   "cell_type": "code",
   "execution_count": 4,
   "id": "9d1d2cb5",
   "metadata": {},
   "outputs": [
    {
     "name": "stdout",
     "output_type": "stream",
     "text": [
      "dict_keys(['name', 'home', 'branch', 'collage'])\n"
     ]
    }
   ],
   "source": [
    "#KEYS FUNCTION IS USED TO RETURN THE TOTAL KEYS IN THE PRESENT YOUR DICTIONARY\n",
    "G={\"name\":\"gagan\",\"home\":\"bihar\",\"branch\":\"cse\",\"collage\":\"gp loharu\"}\n",
    "b=G.keys()\n",
    "print(b)"
   ]
  },
  {
   "cell_type": "code",
   "execution_count": 5,
   "id": "2f0b04cc",
   "metadata": {},
   "outputs": [
    {
     "name": "stdout",
     "output_type": "stream",
     "text": [
      "dict_values(['gagan', 'bihar', 'cse', 'gp loharu'])\n"
     ]
    }
   ],
   "source": [
    "#VALUES FUNCTION IS USED TO RETURN THE TOTAL VALUES IN THE PRESENT YOUR DICTIONARY\n",
    "G={\"name\":\"gagan\",\"home\":\"bihar\",\"branch\":\"cse\",\"collage\":\"gp loharu\"}\n",
    "B=G.values()\n",
    "print(B)"
   ]
  },
  {
   "cell_type": "code",
   "execution_count": 12,
   "id": "3d4c2dab",
   "metadata": {},
   "outputs": [
    {
     "name": "stdout",
     "output_type": "stream",
     "text": [
      "gagan\n"
     ]
    }
   ],
   "source": [
    "#THIS FUNCTION IS USED TO RETURN THE VALLUE TO GIVEN A KEY\n",
    "G={\"name\":\"gagan\",\"home\":\"bihar\",\"branch\":\"cse\",\"collage\":\"gp loharu\"}\n",
    "print(G[\"name\"])"
   ]
  },
  {
   "cell_type": "code",
   "execution_count": 1,
   "id": "879afbcc",
   "metadata": {},
   "outputs": [
    {
     "name": "stdout",
     "output_type": "stream",
     "text": [
      "bihar\n"
     ]
    }
   ],
   "source": [
    "#GET FUNCTION IS USED TO RETURN THE VALUE TO GIVEN A KEY \n",
    "G={\"name\":\"gagan\",\"home\":\"bihar\",\"branch\":\"cse\",\"collage\":\"gp loharu\"}\n",
    "print(G.get(\"home\"))\n"
   ]
  },
  {
   "cell_type": "code",
   "execution_count": 2,
   "id": "49480342",
   "metadata": {},
   "outputs": [
    {
     "ename": "KeyError",
     "evalue": "'name1'",
     "output_type": "error",
     "traceback": [
      "\u001b[1;31m---------------------------------------------------------------------------\u001b[0m",
      "\u001b[1;31mKeyError\u001b[0m                                  Traceback (most recent call last)",
      "Input \u001b[1;32mIn [2]\u001b[0m, in \u001b[0;36m<cell line: 4>\u001b[1;34m()\u001b[0m\n\u001b[0;32m      1\u001b[0m \u001b[38;5;66;03m#DIFFERENT BETWEEN G.get(\"home\") FUNCTION AND G[\"home\"]\u001b[39;00m\n\u001b[0;32m      2\u001b[0m \u001b[38;5;66;03m#IF VALUE IS NOT PRESENT IN OUR DICTIONARY AND WE CALL IT THEN IT WILL SHOW US ERROR\u001b[39;00m\n\u001b[0;32m      3\u001b[0m G\u001b[38;5;241m=\u001b[39m{\u001b[38;5;124m\"\u001b[39m\u001b[38;5;124mname\u001b[39m\u001b[38;5;124m\"\u001b[39m:\u001b[38;5;124m\"\u001b[39m\u001b[38;5;124mgagan\u001b[39m\u001b[38;5;124m\"\u001b[39m,\u001b[38;5;124m\"\u001b[39m\u001b[38;5;124mhome\u001b[39m\u001b[38;5;124m\"\u001b[39m:\u001b[38;5;124m\"\u001b[39m\u001b[38;5;124mbihar\u001b[39m\u001b[38;5;124m\"\u001b[39m,\u001b[38;5;124m\"\u001b[39m\u001b[38;5;124mbranch\u001b[39m\u001b[38;5;124m\"\u001b[39m:\u001b[38;5;124m\"\u001b[39m\u001b[38;5;124mcse\u001b[39m\u001b[38;5;124m\"\u001b[39m,\u001b[38;5;124m\"\u001b[39m\u001b[38;5;124mcollage\u001b[39m\u001b[38;5;124m\"\u001b[39m:\u001b[38;5;124m\"\u001b[39m\u001b[38;5;124mgp loharu\u001b[39m\u001b[38;5;124m\"\u001b[39m}\n\u001b[1;32m----> 4\u001b[0m \u001b[38;5;28mprint\u001b[39m(\u001b[43mG\u001b[49m\u001b[43m[\u001b[49m\u001b[38;5;124;43m\"\u001b[39;49m\u001b[38;5;124;43mname1\u001b[39;49m\u001b[38;5;124;43m\"\u001b[39;49m\u001b[43m]\u001b[49m)\n\u001b[0;32m      5\u001b[0m \u001b[38;5;66;03m#BUT .get FUNCTION RETURN THE NONE NOTHING ERROR\u001b[39;00m\n\u001b[0;32m      6\u001b[0m B\u001b[38;5;241m=\u001b[39m{\u001b[38;5;124m\"\u001b[39m\u001b[38;5;124mname\u001b[39m\u001b[38;5;124m\"\u001b[39m:\u001b[38;5;124m\"\u001b[39m\u001b[38;5;124mgagan\u001b[39m\u001b[38;5;124m\"\u001b[39m,\u001b[38;5;124m\"\u001b[39m\u001b[38;5;124mhome\u001b[39m\u001b[38;5;124m\"\u001b[39m:\u001b[38;5;124m\"\u001b[39m\u001b[38;5;124mbihar\u001b[39m\u001b[38;5;124m\"\u001b[39m,\u001b[38;5;124m\"\u001b[39m\u001b[38;5;124mbranch\u001b[39m\u001b[38;5;124m\"\u001b[39m:\u001b[38;5;124m\"\u001b[39m\u001b[38;5;124mcse\u001b[39m\u001b[38;5;124m\"\u001b[39m,\u001b[38;5;124m\"\u001b[39m\u001b[38;5;124mcollage\u001b[39m\u001b[38;5;124m\"\u001b[39m:\u001b[38;5;124m\"\u001b[39m\u001b[38;5;124mgp loharu\u001b[39m\u001b[38;5;124m\"\u001b[39m,\u001b[38;5;241m1\u001b[39m:\u001b[38;5;241m2\u001b[39m}\n",
      "\u001b[1;31mKeyError\u001b[0m: 'name1'"
     ]
    }
   ],
   "source": [
    "#DIFFERENT BETWEEN G.get(\"home\") FUNCTION AND G[\"home\"]\n",
    "#IF VALUE IS NOT PRESENT IN OUR DICTIONARY AND WE CALL IT THEN IT WILL SHOW US ERROR\n",
    "G={\"name\":\"gagan\",\"home\":\"bihar\",\"branch\":\"cse\",\"collage\":\"gp loharu\"}\n",
    "print(G[\"name1\"])\n",
    "#BUT .get FUNCTION RETURN THE NONE NOTHING ERROR\n",
    "B={\"name\":\"gagan\",\"home\":\"bihar\",\"branch\":\"cse\",\"collage\":\"gp loharu\",1:2}\n",
    "print(B.get(\"name1\"))\n",
    "#"
   ]
  },
  {
   "cell_type": "code",
   "execution_count": 22,
   "id": "941685b1",
   "metadata": {},
   "outputs": [
    {
     "name": "stdout",
     "output_type": "stream",
     "text": [
      "{'name': 'gagan', 'home': 'bihar', 'branch': 'cse'}\n"
     ]
    }
   ],
   "source": [
    "#DEL FUNCTION IS UESD TO DEL A KEY AND VALUE TO PRESENT IN YOUR DICTIONARY TO GIVEN BBY THE USER\n",
    "T={\"name\":\"gagan\",\"home\":\"bihar\",\"branch\":\"cse\",\"collage\":\"gp loharu\"}\n",
    "del T[\"collage\"]\n",
    "print(T)"
   ]
  },
  {
   "cell_type": "code",
   "execution_count": 23,
   "id": "e852f199",
   "metadata": {},
   "outputs": [
    {
     "name": "stdout",
     "output_type": "stream",
     "text": [
      "{}\n"
     ]
    }
   ],
   "source": [
    "#CLEAR FUNCTION IS USED TO DELETE A FULL DICTIONARY \n",
    "L={\"name\":\"gagan\",\"home\":\"bihar\",\"branch\":\"cse\",\"collage\":\"gp loharu\"}\n",
    "L.clear()\n",
    "print(L)"
   ]
  },
  {
   "cell_type": "code",
   "execution_count": 26,
   "id": "3c8ccb1d",
   "metadata": {},
   "outputs": [
    {
     "name": "stdout",
     "output_type": "stream",
     "text": [
      "bihar\n"
     ]
    }
   ],
   "source": [
    "#ANOTHER DICTIONARY IN DICTIONARY\n",
    "Q={\"gagan\":\"kumar\",\"hindu\":\"rajput\",\"home\":{\"state\":\"bihar\"}}\n",
    "print(Q['home']['state'])"
   ]
  },
  {
   "cell_type": "code",
   "execution_count": 28,
   "id": "ab46122f",
   "metadata": {},
   "outputs": [
    {
     "name": "stdout",
     "output_type": "stream",
     "text": [
      "dict_items([('gagan', 'kumar'), ('hindu', 'rajput'), ('home', 'bihar')])\n"
     ]
    }
   ],
   "source": [
    "#ITEMS FUNCTION IS USED TO PRINT THE (KEYS,VALUES) FOR ALL ITEMS OF YOUR DICTIONARY\n",
    "D={\"gagan\":\"kumar\",\"hindu\":\"rajput\",\"home\":\"bihar\"}\n",
    "print(D.items())"
   ]
  },
  {
   "cell_type": "code",
   "execution_count": 3,
   "id": "3448357a",
   "metadata": {},
   "outputs": [
    {
     "name": "stdout",
     "output_type": "stream",
     "text": [
      "option are dic dict_keys(['pankha', 'mobile', 'ghar'])\n",
      "enter the hindi word\n",
      ": mobile\n",
      "The meaning of your word is: phone\n"
     ]
    }
   ],
   "source": [
    "#Q1 WRITE A PROGRAM TO CREATE A DICTIONARY OF HINDI WORDS WITH VALUE AS THEIR ENGLISH TRANSLATION\n",
    "dic={\"pankha\":\"fan\",\"mobile\":\"phone\",\"ghar\":\"home\"}\n",
    "print(\"option are dic\",dic.keys())\n",
    "a=(input(\"enter the hindi word\\n: \"))\n",
    "#below line will not throw an error if the key is not present in dictionary\n",
    "print(\"The meaning of your word is:\",dic.get(a))"
   ]
  },
  {
   "cell_type": "code",
   "execution_count": 16,
   "id": "50086d4a",
   "metadata": {},
   "outputs": [
    {
     "name": "stdout",
     "output_type": "stream",
     "text": [
      "{}\n",
      "enter a fav language: python\n",
      "enter a fav language: java\n",
      "enter a fav language: c\n",
      "enter a fav language: c++\n",
      "{'gagan': 'python', 'pawan': 'java', 'akki': 'c', 'vishal': 'c++'}\n"
     ]
    }
   ],
   "source": [
    "#CREATE AN EMPTY DICTIONARY.ALLOW TO FOUR FRND TO ENTER THEIR FAV. LANGUAGE AS VALUE AND KEYS AS THEIR NAME.\n",
    "#ASSUME THAT THEIR NAMES ARE UNIQUE\n",
    "# dic={}\n",
    "# print(dic)\n",
    "# p={\n",
    "#     \"gagan\":\"python\",\n",
    "#     \"pawan\":\"java\",\n",
    "#     \"vishal\":\"c\",\n",
    "#     \"akki\":\"c++\"\n",
    "# }\n",
    "# dic.update(p)\n",
    "# print(dic)\n",
    "        #OR\n",
    "favlang={}\n",
    "print(favlang)\n",
    "a=(input(\"enter a fav language: \"))\n",
    "b=(input(\"enter a fav language: \"))\n",
    "c=(input(\"enter a fav language: \"))\n",
    "d=(input(\"enter a fav language: \"))\n",
    "favlang[\"gagan\"] =a\n",
    "favlang[\"pawan\"] =b\n",
    "favlang[\"akki\"]  =c\n",
    "favlang[\"vishal\"]=d\n",
    "print(favlang)"
   ]
  },
  {
   "cell_type": "code",
   "execution_count": 1,
   "id": "8bd156f8",
   "metadata": {},
   "outputs": [
    {
     "name": "stdout",
     "output_type": "stream",
     "text": [
      "{}\n",
      "enter a fav language: python\n",
      "enter a fav language: java\n",
      "enter a fav language: c\n",
      "enter a fav language: c++\n",
      "{'gagan': 'java', 'akki': 'c', 'vishal': 'c++'}\n"
     ]
    }
   ],
   "source": [
    "#IF NAME OF TWO FRNDS ARE SAME; WHAT WILL TO THE PROGRAM OF PROBLEM 6.\n",
    "# dic1={}\n",
    "# print(dic1)\n",
    "# o={\n",
    "#     \"gagan\":\"python\",\n",
    "#     \"gagan\":\"java\",\n",
    "#     \"vishal\":\"c\",\n",
    "#     \"akki\":\"c++\"\n",
    "# }\n",
    "# dic1.update(o)\n",
    "# print(dic1)\n",
    "             #OR\n",
    "favlang={}\n",
    "print(favlang)\n",
    "a=(input(\"enter a fav language: \"))\n",
    "b=(input(\"enter a fav language: \"))\n",
    "c=(input(\"enter a fav language: \"))\n",
    "d=(input(\"enter a fav language: \"))\n",
    "favlang[\"gagan\"] =a\n",
    "favlang[\"gagan\"] =b\n",
    "favlang[\"akki\"]  =c\n",
    "favlang[\"vishal\"]=d\n",
    "print(favlang)  \n",
    "#THIS PROGRAM PRINT ONLY UNIQUE KEYS SO SAME NAME ARE NOT PRINT ."
   ]
  },
  {
   "cell_type": "code",
   "execution_count": 3,
   "id": "39c575e1",
   "metadata": {},
   "outputs": [
    {
     "name": "stdout",
     "output_type": "stream",
     "text": [
      "{}\n",
      "enter a fav language: python\n",
      "enter a fav language: python\n",
      "enter a fav language: c\n",
      "enter a fav language: java\n",
      "{'gagan': 'python', 'pawan': 'python', 'akki': 'c', 'vishal': 'java'}\n"
     ]
    }
   ],
   "source": [
    "##IF LANGUAGE OF TWO FRNDS ARE SAME; WHAT WILL TO THE PROGRAM OF PROBLEM 6.\n",
    "favlang={}\n",
    "print(favlang)\n",
    "a=(input(\"enter a fav language: \"))\n",
    "b=(input(\"enter a fav language: \"))\n",
    "c=(input(\"enter a fav language: \"))\n",
    "d=(input(\"enter a fav language: \"))\n",
    "favlang[\"gagan\"] =a\n",
    "favlang[\"pawan\"] =b\n",
    "favlang[\"akki\"]  =c\n",
    "favlang[\"vishal\"]=d\n",
    "print(favlang)  \n",
    "#THIS PROGRAM PRINT SAME VALUE THAN PRINT SAME LANGUAGE OF TWO FRNDS."
   ]
  },
  {
   "cell_type": "code",
   "execution_count": null,
   "id": "0d547868",
   "metadata": {},
   "outputs": [],
   "source": []
  }
 ],
 "metadata": {
  "kernelspec": {
   "display_name": "Python 3 (ipykernel)",
   "language": "python",
   "name": "python3"
  },
  "language_info": {
   "codemirror_mode": {
    "name": "ipython",
    "version": 3
   },
   "file_extension": ".py",
   "mimetype": "text/x-python",
   "name": "python",
   "nbconvert_exporter": "python",
   "pygments_lexer": "ipython3",
   "version": "3.9.12"
  }
 },
 "nbformat": 4,
 "nbformat_minor": 5
}
