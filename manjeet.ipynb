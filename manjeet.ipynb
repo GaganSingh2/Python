{
 "cells": [
  {
   "cell_type": "code",
   "execution_count": 1,
   "id": "73f9416b",
   "metadata": {},
   "outputs": [
    {
     "name": "stdout",
     "output_type": "stream",
     "text": [
      "manjeet\n"
     ]
    }
   ],
   "source": [
    "print(\"manjeet\")"
   ]
  },
  {
   "cell_type": "code",
   "execution_count": 2,
   "id": "049793f2",
   "metadata": {},
   "outputs": [
    {
     "name": "stdout",
     "output_type": "stream",
     "text": [
      "manjeet\n",
      "anurag\n"
     ]
    }
   ],
   "source": [
    "x=\"manjeet\"\n",
    "y=\"anurag\"\n",
    "print(x)\n",
    "print(y)"
   ]
  },
  {
   "cell_type": "code",
   "execution_count": 3,
   "id": "7f333a86",
   "metadata": {},
   "outputs": [
    {
     "name": "stdout",
     "output_type": "stream",
     "text": [
      "4\n",
      "sally\n"
     ]
    }
   ],
   "source": [
    "a=4\n",
    "A=\"sally\"\n",
    "print(a)\n",
    "print(A)"
   ]
  },
  {
   "cell_type": "code",
   "execution_count": 2,
   "id": "13a772cd",
   "metadata": {
    "scrolled": true
   },
   "outputs": [
    {
     "name": "stdout",
     "output_type": "stream",
     "text": [
      "Enter your first number: 45\n",
      "Enter your second number: 56\n",
      "45 + 56 = \n",
      "101\n",
      "45 - 56 = \n",
      "-11\n",
      "45 * 56 = \n",
      "2520\n",
      "45 / 56 = \n",
      "0.8035714285714286\n"
     ]
    }
   ],
   "source": [
    "num_1 = int(input('Enter your first number: '))\n",
    "num_2 = int(input('Enter your second number: '))\n",
    "\n",
    "# Addition\n",
    "print('{} + {} = '.format(num_1, num_2))\n",
    "print(num_1 + num_2)\n",
    "\n",
    "# Subtraction\n",
    "print('{} - {} = '.format(num_1, num_2))\n",
    "print(num_1 - num_2)\n",
    "\n",
    "# Multiplication\n",
    "print('{} * {} = '.format(num_1, num_2))\n",
    "print(num_1 * num_2)\n",
    "\n",
    "# Division\n",
    "print('{} / {} = '.format(num_1, num_2))\n",
    "print(num_1 / num_2)\n",
    "# The format() will help out output look descent and formatted."
   ]
  },
  {
   "cell_type": "markdown",
   "id": "1f1bdf65",
   "metadata": {},
   "source": [
    "x=13\n",
    "y=15\n",
    "print(x//y)"
   ]
  },
  {
   "cell_type": "code",
   "execution_count": 2,
   "id": "47b21631",
   "metadata": {},
   "outputs": [
    {
     "name": "stdout",
     "output_type": "stream",
     "text": [
      "15\n"
     ]
    }
   ],
   "source": [
    "x=15\n",
    "print(x)"
   ]
  },
  {
   "cell_type": "code",
   "execution_count": 3,
   "id": "e6e83ff4",
   "metadata": {},
   "outputs": [
    {
     "name": "stdout",
     "output_type": "stream",
     "text": [
      "15\n"
     ]
    }
   ],
   "source": [
    "x=5\n",
    "x*=3\n",
    "print(x)"
   ]
  },
  {
   "cell_type": "code",
   "execution_count": 4,
   "id": "a8b0234f",
   "metadata": {},
   "outputs": [
    {
     "name": "stdout",
     "output_type": "stream",
     "text": [
      "enter the any value34\n",
      "enter the any value76\n",
      "246829859047133241705367927479640782407751262978026013261217949364403710690156371081356472349163767366194982568329216\n"
     ]
    }
   ],
   "source": [
    "x=int(input(\"enter the any value\"))\n",
    "y=int(input(\"enter the any value\"))\n",
    "print(x**y)"
   ]
  },
  {
   "cell_type": "code",
   "execution_count": 9,
   "id": "0693a42c",
   "metadata": {},
   "outputs": [
    {
     "name": "stdout",
     "output_type": "stream",
     "text": [
      "False\n"
     ]
    }
   ],
   "source": [
    "x=8\n",
    "y=9\n",
    "print(x<8 and y>9)"
   ]
  },
  {
   "cell_type": "code",
   "execution_count": 10,
   "id": "eb3d1beb",
   "metadata": {},
   "outputs": [
    {
     "name": "stdout",
     "output_type": "stream",
     "text": [
      "False\n"
     ]
    }
   ],
   "source": [
    "x=5\n",
    "print(x>3 and x<4)"
   ]
  },
  {
   "cell_type": "code",
   "execution_count": 11,
   "id": "2be3a290",
   "metadata": {},
   "outputs": [
    {
     "name": "stdout",
     "output_type": "stream",
     "text": [
      "123456789"
     ]
    }
   ],
   "source": [
    "a=1\n",
    "while a<10:\n",
    "    print(a,end='')\n",
    "    a+=1"
   ]
  },
  {
   "cell_type": "code",
   "execution_count": 3,
   "id": "82484c62",
   "metadata": {},
   "outputs": [
    {
     "name": "stdout",
     "output_type": "stream",
     "text": [
      "20171411852"
     ]
    }
   ],
   "source": [
    "a=20\n",
    "while a>0:\n",
    "    print(a, end='')\n",
    "    a-=3"
   ]
  },
  {
   "cell_type": "code",
   "execution_count": 6,
   "id": "27f0be71",
   "metadata": {},
   "outputs": [
    {
     "name": "stdout",
     "output_type": "stream",
     "text": [
      "enter any value:45\n",
      "enter any value:23\n",
      "enter any value:32\n",
      "the equation is: 1067\n"
     ]
    }
   ],
   "source": [
    "x=int(input('enter any value:'))\n",
    "y=int(input('enter any value:'))\n",
    "a=int(input('enter any value:'))\n",
    "b=x*y+a\n",
    "print('the equation is:',b)"
   ]
  },
  {
   "cell_type": "code",
   "execution_count": 10,
   "id": "0fe9d55f",
   "metadata": {},
   "outputs": [
    {
     "ename": "SyntaxError",
     "evalue": "invalid syntax (1470151874.py, line 1)",
     "output_type": "error",
     "traceback": [
      "\u001b[1;36m  Input \u001b[1;32mIn [10]\u001b[1;36m\u001b[0m\n\u001b[1;33m    while true\u001b[0m\n\u001b[1;37m              ^\u001b[0m\n\u001b[1;31mSyntaxError\u001b[0m\u001b[1;31m:\u001b[0m invalid syntax\n"
     ]
    }
   ],
   "source": [
    "while true\n",
    "print('manjeet')\n",
    "cho=input('do you want to proceed again(yes/no)')\n",
    "if cho=='yes':\n",
    "    continue\n",
    "else:\n",
    "    print('invalid syntx')\n",
    "        break"
   ]
  },
  {
   "cell_type": "code",
   "execution_count": 5,
   "id": "02dc33ec",
   "metadata": {},
   "outputs": [
    {
     "name": "stdout",
     "output_type": "stream",
     "text": [
      "manjeet\n",
      "akshay\n",
      "gagan\n",
      "pawan\n"
     ]
    }
   ],
   "source": [
    "\n",
    "list1= [\"manjeet\",\"akshay\",\"gagan\",\"pawan\"]\n",
    "\n",
    "for item in list1:\n",
    "    print(item)"
   ]
  },
  {
   "cell_type": "code",
   "execution_count": null,
   "id": "bf7ae9ed",
   "metadata": {},
   "outputs": [],
   "source": []
  },
  {
   "cell_type": "code",
   "execution_count": null,
   "id": "ad5daee5",
   "metadata": {},
   "outputs": [],
   "source": []
  }
 ],
 "metadata": {
  "kernelspec": {
   "display_name": "Python 3 (ipykernel)",
   "language": "python",
   "name": "python3"
  },
  "language_info": {
   "codemirror_mode": {
    "name": "ipython",
    "version": 3
   },
   "file_extension": ".py",
   "mimetype": "text/x-python",
   "name": "python",
   "nbconvert_exporter": "python",
   "pygments_lexer": "ipython3",
   "version": "3.9.12"
  }
 },
 "nbformat": 4,
 "nbformat_minor": 5
}
