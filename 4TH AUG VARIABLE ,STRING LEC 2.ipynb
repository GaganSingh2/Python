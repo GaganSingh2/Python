{
 "cells": [
  {
   "cell_type": "code",
   "execution_count": 19,
   "id": "d4906717",
   "metadata": {},
   "outputs": [
    {
     "name": "stdout",
     "output_type": "stream",
     "text": [
      "gagan\n",
      "<class 'str'>\n"
     ]
    }
   ],
   "source": [
    "g='gagan'\n",
    "print(g)\n",
    "print(type(g))"
   ]
  },
  {
   "cell_type": "code",
   "execution_count": 18,
   "id": "f7c7f40b",
   "metadata": {},
   "outputs": [
    {
     "name": "stdout",
     "output_type": "stream",
     "text": [
      "gagan\n",
      "Pawan\n",
      "VISHAL\n"
     ]
    }
   ],
   "source": [
    "name=\"gagan\"\n",
    "Name='Pawan'\n",
    "NAME='VISHAL'\n",
    "print(name)\n",
    "print(Name)\n",
    "print(NAME)"
   ]
  },
  {
   "cell_type": "code",
   "execution_count": 7,
   "id": "763fba30",
   "metadata": {},
   "outputs": [
    {
     "name": "stdout",
     "output_type": "stream",
     "text": [
      "3\n"
     ]
    }
   ],
   "source": [
    "#assign many values to multiple variable\n",
    "a,b,c,d=1,2,3,4\n",
    "print(c)"
   ]
  },
  {
   "cell_type": "code",
   "execution_count": 9,
   "id": "04932b9b",
   "metadata": {},
   "outputs": [
    {
     "name": "stdout",
     "output_type": "stream",
     "text": [
      "60\n",
      "60\n"
     ]
    }
   ],
   "source": [
    "#assign single values to multiple variable\n",
    "a=b=c=d=60\n",
    "print(c)\n",
    "print(a)"
   ]
  },
  {
   "cell_type": "code",
   "execution_count": 10,
   "id": "d7213a80",
   "metadata": {},
   "outputs": [
    {
     "name": "stdout",
     "output_type": "stream",
     "text": [
      "my name is gagan\n"
     ]
    }
   ],
   "source": [
    "#string:-collection of character\n",
    "a=\"my name is gagan\"\n",
    "print(a)\n"
   ]
  },
  {
   "cell_type": "code",
   "execution_count": 20,
   "id": "2e22ee80",
   "metadata": {},
   "outputs": [
    {
     "name": "stdout",
     "output_type": "stream",
     "text": [
      "my name is gagan\n",
      "        pawan\n",
      "              vishal\n"
     ]
    }
   ],
   "source": [
    "#prinnt a value in multiple lines\n",
    "\n",
    "a='''my name is gagan\n",
    "        pawan\n",
    "              vishal'''\n",
    "print(a)\n"
   ]
  },
  {
   "cell_type": "code",
   "execution_count": 15,
   "id": "e509b7ea",
   "metadata": {},
   "outputs": [
    {
     "name": "stdout",
     "output_type": "stream",
     "text": [
      "<class 'str'>\n"
     ]
    }
   ],
   "source": [
    "print(type(a))"
   ]
  },
  {
   "cell_type": "code",
   "execution_count": 1,
   "id": "bec4f009",
   "metadata": {},
   "outputs": [
    {
     "name": "stdout",
     "output_type": "stream",
     "text": [
      "16\n",
      "<class 'str'>\n"
     ]
    }
   ],
   "source": [
    "#count a length \n",
    "b='my name is gagan'\n",
    "print(len(b))\n",
    "print(type(b))"
   ]
  },
  {
   "cell_type": "code",
   "execution_count": 3,
   "id": "30bd9ca6",
   "metadata": {},
   "outputs": [
    {
     "ename": "SyntaxError",
     "evalue": "invalid syntax (3799256125.py, line 2)",
     "output_type": "error",
     "traceback": [
      "\u001b[1;36m  Input \u001b[1;32mIn [3]\u001b[1;36m\u001b[0m\n\u001b[1;33m    c d=' my fav game is cricket'\u001b[0m\n\u001b[1;37m      ^\u001b[0m\n\u001b[1;31mSyntaxError\u001b[0m\u001b[1;31m:\u001b[0m invalid syntax\n"
     ]
    }
   ],
   "source": [
    "#variable cannot be use to space\n",
    "c d=' my fav game is cricket'\n",
    "print(c d)"
   ]
  },
  {
   "cell_type": "code",
   "execution_count": 12,
   "id": "839d7d28",
   "metadata": {},
   "outputs": [
    {
     "name": "stdout",
     "output_type": "stream",
     "text": [
      "gagan\n"
     ]
    }
   ],
   "source": [
    "d='gagan'\n",
    "print(d)"
   ]
  },
  {
   "cell_type": "code",
   "execution_count": 11,
   "id": "cfc86036",
   "metadata": {},
   "outputs": [
    {
     "name": "stdout",
     "output_type": "stream",
     "text": [
      "28\n"
     ]
    }
   ],
   "source": [
    "#sum of total number\n",
    "d=(1,2,3,4,5,6,7)\n",
    "print(sum(d))"
   ]
  },
  {
   "cell_type": "code",
   "execution_count": 9,
   "id": "5d0d6730",
   "metadata": {},
   "outputs": [
    {
     "name": "stdout",
     "output_type": "stream",
     "text": [
      "gagan\n",
      "['gagan']\n",
      "{'gagan'}\n"
     ]
    }
   ],
   "source": [
    "#CANNOT BE USE TO BRACKETS\n",
    "e=(\"gagan\")\n",
    "f=[\"gagan\"]\n",
    "g={\"gagan\"}\n",
    "print(e)\n",
    "print(f)\n",
    "print(g)"
   ]
  },
  {
   "cell_type": "code",
   "execution_count": 5,
   "id": "d621dac7",
   "metadata": {},
   "outputs": [
    {
     "name": "stdout",
     "output_type": "stream",
     "text": [
      "25\n"
     ]
    }
   ],
   "source": [
    "d,e=20,25\n",
    "print(e)"
   ]
  },
  {
   "cell_type": "code",
   "execution_count": 6,
   "id": "21e48a84",
   "metadata": {},
   "outputs": [
    {
     "name": "stdout",
     "output_type": "stream",
     "text": [
      "10\n"
     ]
    }
   ],
   "source": [
    "a=10\n",
    "print(a)"
   ]
  },
  {
   "cell_type": "code",
   "execution_count": 2,
   "id": "3be60f2e",
   "metadata": {},
   "outputs": [
    {
     "name": "stdout",
     "output_type": "stream",
     "text": [
      "2\n",
      "<class 'tuple'>\n"
     ]
    }
   ],
   "source": [
    "c=1,2\n",
    "print(len(c))\n",
    "print(type(c))"
   ]
  },
  {
   "cell_type": "code",
   "execution_count": 1,
   "id": "a76a36f8",
   "metadata": {},
   "outputs": [
    {
     "name": "stdout",
     "output_type": "stream",
     "text": [
      "welcome to\"gagan\"\n"
     ]
    }
   ],
   "source": [
    "print(\"welcome to\\\"gagan\\\"\")"
   ]
  },
  {
   "cell_type": "code",
   "execution_count": 16,
   "id": "e3bdb322",
   "metadata": {},
   "outputs": [
    {
     "name": "stdout",
     "output_type": "stream",
     "text": [
      "True\n"
     ]
    }
   ],
   "source": [
    "#compairing string\n",
    "a=\"radhe\"\n",
    "b=\"radhe\"\n",
    "print(a==b)"
   ]
  },
  {
   "cell_type": "code",
   "execution_count": 7,
   "id": "05f09ea0",
   "metadata": {},
   "outputs": [
    {
     "name": "stdout",
     "output_type": "stream",
     "text": [
      "i am gagan \n",
      " i love tenis\n",
      "i am gagan \n",
      " i love cricket\n"
     ]
    }
   ],
   "source": [
    "#replaceing string\n",
    "a=\"i am gagan \\n i love tenis\"\n",
    "b=a.replace(\"tenis\",\"cricket\")\n",
    "print(a)\n",
    "\n",
    "print(b)\n"
   ]
  },
  {
   "cell_type": "code",
   "execution_count": 8,
   "id": "a6fc57fd",
   "metadata": {},
   "outputs": [
    {
     "name": "stdout",
     "output_type": "stream",
     "text": [
      "420\n"
     ]
    }
   ],
   "source": [
    "pawan=gagan=vishal=420\n",
    "print(gagan)\n",
    "\n",
    "    "
   ]
  },
  {
   "cell_type": "code",
   "execution_count": 22,
   "id": "ad94f85c",
   "metadata": {},
   "outputs": [
    {
     "name": "stdout",
     "output_type": "stream",
     "text": [
      "i would love to play badmintan \n",
      " becouse i am a good player\n",
      "i would love to play badmintan \n",
      " becouse i am a good athletes\n"
     ]
    }
   ],
   "source": [
    "#only for joy\n",
    "a=\"i would love to play badmintan \\n becouse i am a good player\"\n",
    "m=a.replace (\"player\",\"athletes\")\n",
    "print(a)\n",
    "print(m)  \n",
    "\n",
    "    "
   ]
  },
  {
   "cell_type": "code",
   "execution_count": 18,
   "id": "dd871172",
   "metadata": {},
   "outputs": [
    {
     "name": "stdout",
     "output_type": "stream",
     "text": [
      "<class 'int'>\n"
     ]
    }
   ],
   "source": [
    "h=50\n",
    "print(type(h))"
   ]
  },
  {
   "cell_type": "code",
   "execution_count": 5,
   "id": "ebb0339c",
   "metadata": {},
   "outputs": [
    {
     "name": "stdout",
     "output_type": "stream",
     "text": [
      "4\n"
     ]
    }
   ],
   "source": [
    "z=1,2,3,4\n",
    "print(len(z))"
   ]
  },
  {
   "cell_type": "code",
   "execution_count": null,
   "id": "c2d38f3d",
   "metadata": {},
   "outputs": [],
   "source": []
  }
 ],
 "metadata": {
  "kernelspec": {
   "display_name": "Python 3 (ipykernel)",
   "language": "python",
   "name": "python3"
  },
  "language_info": {
   "codemirror_mode": {
    "name": "ipython",
    "version": 3
   },
   "file_extension": ".py",
   "mimetype": "text/x-python",
   "name": "python",
   "nbconvert_exporter": "python",
   "pygments_lexer": "ipython3",
   "version": "3.9.12"
  }
 },
 "nbformat": 4,
 "nbformat_minor": 5
}
