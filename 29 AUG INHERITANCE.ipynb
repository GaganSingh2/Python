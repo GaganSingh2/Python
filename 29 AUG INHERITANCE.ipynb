{
 "cells": [
  {
   "cell_type": "markdown",
   "id": "bc3343d7",
   "metadata": {},
   "source": [
    "# INHERITANCE"
   ]
  },
  {
   "cell_type": "code",
   "execution_count": 3,
   "id": "43621aea",
   "metadata": {},
   "outputs": [
    {
     "name": "stdout",
     "output_type": "stream",
     "text": [
      "AX\n",
      "CZ\n"
     ]
    }
   ],
   "source": [
    "#SINGLE\n",
    "class Parent:\n",
    "    X=\"A\"\n",
    "    Y=\"B\"\n",
    "    Z=\"C\"\n",
    "class Child(Parent):\n",
    "    A=\"X\"\n",
    "    B=\"Y\"\n",
    "    C=\"Z\"\n",
    "obj=Child()\n",
    "print(obj.X + obj.A)\n",
    "print(obj.Z + obj.C)    "
   ]
  },
  {
   "cell_type": "code",
   "execution_count": 9,
   "id": "1a8ee3f1",
   "metadata": {},
   "outputs": [
    {
     "name": "stdout",
     "output_type": "stream",
     "text": [
      "BMW AUTO 800\n"
     ]
    }
   ],
   "source": [
    "class Parent:\n",
    "    Car1=\"BMW\"\n",
    "    Eye=\"black\"\n",
    "class Child(Parent):\n",
    "    Car=\"AUTO 800\"\n",
    "obj=Child()\n",
    "print(obj.Car1+ ' '+obj.Car)\n",
    "    "
   ]
  },
  {
   "cell_type": "code",
   "execution_count": 12,
   "id": "bddd28d1",
   "metadata": {},
   "outputs": [
    {
     "name": "stdout",
     "output_type": "stream",
     "text": [
      "white gray black\n"
     ]
    }
   ],
   "source": [
    "#MULTILEVEL\n",
    "class Animal:\n",
    "    Colour=\"white\"\n",
    "    Eye=\"black\"\n",
    "    Height=7.9\n",
    "class Cow(Animal):\n",
    "    Colour1=\"gray\"\n",
    "    Eye1=\"white\"\n",
    "    Height1=5.6\n",
    "class Ox(Cow):\n",
    "    Colour2=\"black\"\n",
    "obj=Ox()\n",
    "print(obj.Colour+' '+obj.Colour1+' '+obj.Colour2)"
   ]
  },
  {
   "cell_type": "code",
   "execution_count": 19,
   "id": "1190b03d",
   "metadata": {},
   "outputs": [
    {
     "name": "stdout",
     "output_type": "stream",
     "text": [
      "x y z w\n"
     ]
    }
   ],
   "source": [
    "#MULTIPLE\n",
    "class M:\n",
    "    A=\"x\"\n",
    "class F:\n",
    "    B=\"y\"\n",
    "class J:\n",
    "    D=\"w\"\n",
    "class C(M,F,J):\n",
    "    C=\"z\"\n",
    "obj=C()\n",
    "print(obj.A+' '+obj.B+' '+obj.C+' '+obj.D)"
   ]
  },
  {
   "cell_type": "code",
   "execution_count": null,
   "id": "23d609a7",
   "metadata": {},
   "outputs": [],
   "source": []
  }
 ],
 "metadata": {
  "kernelspec": {
   "display_name": "Python 3 (ipykernel)",
   "language": "python",
   "name": "python3"
  },
  "language_info": {
   "codemirror_mode": {
    "name": "ipython",
    "version": 3
   },
   "file_extension": ".py",
   "mimetype": "text/x-python",
   "name": "python",
   "nbconvert_exporter": "python",
   "pygments_lexer": "ipython3",
   "version": "3.9.12"
  }
 },
 "nbformat": 4,
 "nbformat_minor": 5
}
