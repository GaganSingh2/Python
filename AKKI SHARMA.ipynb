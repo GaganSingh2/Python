{
 "cells": [
  {
   "cell_type": "code",
   "execution_count": 1,
   "id": "b9d32032",
   "metadata": {},
   "outputs": [
    {
     "name": "stdout",
     "output_type": "stream",
     "text": [
      "1\n",
      "akki\n"
     ]
    }
   ],
   "source": [
    "#variables-variables are used to store the value variables are created as we assign a value \n",
    "#variables are containers for storing the data vlues.....\n",
    "\n",
    "#examples \n",
    "x=1\n",
    "y=\"akki\"\n",
    "print(x)\n",
    "print(y)"
   ]
  },
  {
   "cell_type": "code",
   "execution_count": 2,
   "id": "562a37ec",
   "metadata": {},
   "outputs": [
    {
     "name": "stdout",
     "output_type": "stream",
     "text": [
      "<class 'int'>\n",
      "<class 'str'>\n",
      "<class 'float'>\n"
     ]
    }
   ],
   "source": [
    "#type- we can get the data type of variable with the type() function \n",
    "#example \n",
    "a=1\n",
    "s=\"nitin\"\n",
    "n=.5\n",
    "print(type(a))\n",
    "print(type(s))\n",
    "print(type(n))"
   ]
  },
  {
   "cell_type": "code",
   "execution_count": 3,
   "id": "74f24900",
   "metadata": {},
   "outputs": [
    {
     "name": "stdout",
     "output_type": "stream",
     "text": [
      "akki\n",
      "sharma\n"
     ]
    }
   ],
   "source": [
    "#single or double quotes :-string variables can be declared by using single or double quotes, double quotes are same as single quotes in python language\n",
    "#example\n",
    "a='akki'\n",
    "s=\"sharma\"\n",
    "print(a)\n",
    "print(s)"
   ]
  },
  {
   "cell_type": "code",
   "execution_count": 4,
   "id": "69373f8c",
   "metadata": {},
   "outputs": [
    {
     "name": "stdout",
     "output_type": "stream",
     "text": [
      "akki\n",
      "sharma\n"
     ]
    }
   ],
   "source": [
    "#variable names are case-sensitive.\n",
    "#example\n",
    "a='akki'\n",
    "A='sharma'\n",
    "print(a)#(a) will not overwrite (A)\n",
    "print(A)#(A) will not overwrite (a)\n"
   ]
  },
  {
   "cell_type": "code",
   "execution_count": 5,
   "id": "1524f4b6",
   "metadata": {},
   "outputs": [
    {
     "name": "stdout",
     "output_type": "stream",
     "text": [
      "nitin\n",
      "sharma\n"
     ]
    }
   ],
   "source": [
    "#variable names:- A variable can have short name (like x & y) & a more descriptive name\n",
    "#Rules for Python variables:-\n",
    "\n",
    "#(1) A variable name must start with a letter or the underscore character \n",
    "#example \n",
    "akki=\"nitin\"\n",
    "_nitin=\"sharma\"\n",
    "print(akki)\n",
    "print(_nitin)"
   ]
  },
  {
   "cell_type": "code",
   "execution_count": 6,
   "id": "b1e5ba63",
   "metadata": {},
   "outputs": [
    {
     "ename": "SyntaxError",
     "evalue": "invalid syntax (560493887.py, line 3)",
     "output_type": "error",
     "traceback": [
      "\u001b[1;36m  Input \u001b[1;32mIn [6]\u001b[1;36m\u001b[0m\n\u001b[1;33m    2akki=\"sharma\"\u001b[0m\n\u001b[1;37m     ^\u001b[0m\n\u001b[1;31mSyntaxError\u001b[0m\u001b[1;31m:\u001b[0m invalid syntax\n"
     ]
    }
   ],
   "source": [
    "#(2) A variable name cannot start with a number\n",
    "#example\n",
    "2akki=\"sharma\"\n",
    "print(2akki)#it will show us syntax error \n"
   ]
  },
  {
   "cell_type": "code",
   "execution_count": null,
   "id": "45ad3634",
   "metadata": {},
   "outputs": [],
   "source": [
    "#(3) A variable name can only contains alphanumeric characters and underscore (A-z,0-9,&_)\n",
    "#example\n",
    "akKi_1=\"akkisharma\"\n",
    "print(akKi_1)"
   ]
  },
  {
   "cell_type": "code",
   "execution_count": null,
   "id": "1fa845aa",
   "metadata": {},
   "outputs": [],
   "source": [
    "#(4) variable names  are case-sensitive(akki,Akki,AKKI are three different variable names)\n",
    "#example\n",
    "akki=\"AKKI\"\n",
    "print(akki)\n",
    "Akki=\"NITIN\"\n",
    "print(Akki)\n",
    "AKKI=\"SharmA\"\n",
    "print(AKKI)"
   ]
  },
  {
   "cell_type": "code",
   "execution_count": null,
   "id": "020e752a",
   "metadata": {},
   "outputs": [],
   "source": [
    "# Python variables-Assign multiple values:-\n",
    "#(1)many values to multiple variables \n",
    "#example\n",
    "a,b,c=1,2,3\n",
    "print(a)\n",
    "print(b)\n",
    "print(c)"
   ]
  },
  {
   "cell_type": "code",
   "execution_count": null,
   "id": "82a015c1",
   "metadata": {},
   "outputs": [],
   "source": [
    "#(2)one value to multiple variables:- we can assign the same value to multiple variables \n",
    "#example \n",
    "a=b=c=d=\"akshaykaushik\"\n",
    "print(a)\n",
    "print(b)\n",
    "print(c)\n",
    "print(d)"
   ]
  },
  {
   "cell_type": "code",
   "execution_count": null,
   "id": "bd1cc8c8",
   "metadata": {},
   "outputs": [],
   "source": [
    "#variable can't be used to space\n",
    "c d='driving is my hobby'\n",
    "print(c d)#it will show us syntax error"
   ]
  },
  {
   "cell_type": "code",
   "execution_count": null,
   "id": "5f1310da",
   "metadata": {},
   "outputs": [],
   "source": [
    "# STRING:- String is a collection of alphabets, words or other characters.\n",
    "#String is a set or combination of characters\n",
    "#types of characters\n",
    "#1 special characters:- #,@,$,*,%,!.....\n",
    "#2  numeric characters:- 1,2,3,4,5.....\n",
    "#3 alphabets:- a,b,c,d,e.....\n",
    "\n",
    "#example\n",
    "\n",
    "a=\"i'm Akki sharma, my mail id is akshaykaushik2001@gmail.com\"\n",
    "print(a)"
   ]
  },
  {
   "cell_type": "code",
   "execution_count": null,
   "id": "e9041979",
   "metadata": {},
   "outputs": [],
   "source": [
    "# Strings are surrounded by either single quotes marks('') or double quotes marks(\"\") in Python.\n",
    "#example \n",
    "x='nothing is permanent in the world'\n",
    "print(x)\n",
    "y=\"one thing is certain in life, that nothing is fixed in life\"\n",
    "print(y)\n",
    "\n",
    "#In Python we can print multiple lines together as like a paragraph by using triple quotes(\"\"\" \"\"\").\n",
    "#example\n",
    "\n",
    "a=\"\"\"the advice of the loser,\n",
    "          the experience of the winner,\n",
    "& the mind itself,\n",
    "          never let a person lose in life\"\"\"   \n",
    "print(a)\n",
    "print(type(a))"
   ]
  },
  {
   "cell_type": "code",
   "execution_count": 38,
   "id": "cfcd17a1",
   "metadata": {},
   "outputs": [
    {
     "name": "stdout",
     "output_type": "stream",
     "text": [
      "17\n",
      "<class 'str'>\n"
     ]
    }
   ],
   "source": [
    "#count length of string....\n",
    "x='what is your name'\n",
    "print(len(x))\n",
    "print(type(x))"
   ]
  },
  {
   "cell_type": "code",
   "execution_count": 39,
   "id": "be22e4b5",
   "metadata": {},
   "outputs": [
    {
     "name": "stdout",
     "output_type": "stream",
     "text": [
      "45\n"
     ]
    }
   ],
   "source": [
    "#sum of total number\n",
    "y=(9,8,7,6,5,4,3,2,1)\n",
    "print(sum(y))"
   ]
  },
  {
   "cell_type": "code",
   "execution_count": 40,
   "id": "9e5e194c",
   "metadata": {},
   "outputs": [
    {
     "name": "stdout",
     "output_type": "stream",
     "text": [
      "go to\"hell\"\n"
     ]
    }
   ],
   "source": [
    "len=(\"go to\\\"hell\\\"\")\n",
    "print(len)"
   ]
  },
  {
   "cell_type": "code",
   "execution_count": 41,
   "id": "e0b6c240",
   "metadata": {},
   "outputs": [
    {
     "name": "stdout",
     "output_type": "stream",
     "text": [
      "False\n",
      "False\n",
      "True\n"
     ]
    }
   ],
   "source": [
    "#comparing string....\n",
    "c='radheee'\n",
    "d='krishna'\n",
    "print(c==d)\n",
    "\n",
    "e='mahaDEV'\n",
    "f='mahadev'\n",
    "print(e==f)\n",
    "\n",
    "g='mahadev'\n",
    "h='mahadev'\n",
    "print(g==h)"
   ]
  },
  {
   "cell_type": "code",
   "execution_count": 42,
   "id": "af4dc366",
   "metadata": {},
   "outputs": [
    {
     "name": "stdout",
     "output_type": "stream",
     "text": [
      "i am akki sharma\n",
      " singing is my hobby\n",
      "i am akki sharma\n",
      " driving is my hobby\n",
      "what is your name\n",
      " my name is akki\n",
      "what is your name\n",
      " my name is nitin\n"
     ]
    }
   ],
   "source": [
    "#replacing string.....\n",
    "i=\"i am akki sharma\\n singing is my hobby\"\n",
    "print(i)\n",
    "j=i.replace(\"singing\",\"driving\")\n",
    "print(j)\n",
    "\n",
    "k='what is your name\\n my name is akki'\n",
    "print(k)\n",
    "l=k.replace('akki','nitin')\n",
    "print(l)"
   ]
  },
  {
   "cell_type": "code",
   "execution_count": 15,
   "id": "5f179d94",
   "metadata": {},
   "outputs": [
    {
     "name": "stdout",
     "output_type": "stream",
     "text": [
      "['blackberry', 'guava', 'grapes', 'pineapple', 'orange']\n",
      "5\n",
      "<class 'list'>\n",
      "('a', 'b', 'c', 'd')\n",
      "('1', '2', '3', '4', '5')\n",
      "('@', '#', '$', '%', '*')\n",
      "('#', '*', 'a', 'b', 1, 2)\n"
     ]
    }
   ],
   "source": [
    "#DATA TYPE....\n",
    "#LIST:-It's a collection of characters, special characters & numbers \n",
    "#Special characters:-@,#,$,%,*......\n",
    "#characters:-a,b,c,d,e......\n",
    "#numbers:-1,2,3,4,5......\n",
    "#allow duplicate & changeable....\n",
    "\n",
    "\n",
    "fruits=[\"blackberry\",\"guava\",\"grapes\",\"pineapple\",\"orange\"]\n",
    "print(fruits)\n",
    "print(len(fruits))\n",
    "print(type(fruits))\n",
    "\n",
    "n=(\"a\",\"b\",\"c\",\"d\")\n",
    "print(n)\n",
    "o=(\"1\",\"2\",\"3\",\"4\",\"5\")\n",
    "print(o)\n",
    "p=(\"@\",\"#\",\"$\",\"%\",\"*\")\n",
    "print(p) \n",
    "m=(\"#\",\"*\",\"a\",\"b\",1,2)\n",
    "print(m)\n",
    "\n"
   ]
  },
  {
   "cell_type": "code",
   "execution_count": 16,
   "id": "9396ff59",
   "metadata": {},
   "outputs": [
    {
     "name": "stdout",
     "output_type": "stream",
     "text": [
      "potato\n"
     ]
    }
   ],
   "source": [
    "#choosing a specific value from list....\n",
    "vegetables=[\"cucumber\",\"potato\",\"tomato\",\"chilly\",\"onion\"]\n",
    "print(vegetables[1])"
   ]
  },
  {
   "cell_type": "code",
   "execution_count": 22,
   "id": "97eec602",
   "metadata": {},
   "outputs": [
    {
     "name": "stdout",
     "output_type": "stream",
     "text": [
      "['potato']\n"
     ]
    }
   ],
   "source": [
    "vegetables=[\"cucumber\",\"potato\",\"tomato\",\"chilly\",\"onion\"]\n",
    "print(vegetables[1:2])"
   ]
  },
  {
   "cell_type": "code",
   "execution_count": 23,
   "id": "e9401250",
   "metadata": {},
   "outputs": [
    {
     "name": "stdout",
     "output_type": "stream",
     "text": [
      "['blackberry', 'guava', 'grapes', 'apple', 'pineapple', 'orange']\n"
     ]
    }
   ],
   "source": [
    "#insert an element in the list...\n",
    "fruits=[\"blackberry\",\"guava\",\"grapes\",\"pineapple\",\"orange\"]\n",
    "fruits.insert(3,\"apple\")\n",
    "print(fruits)"
   ]
  },
  {
   "cell_type": "code",
   "execution_count": 24,
   "id": "352803d9",
   "metadata": {},
   "outputs": [
    {
     "name": "stdout",
     "output_type": "stream",
     "text": [
      "['akki', 'nitin', 'niranjan', 'tushar', 'kay-d']\n"
     ]
    }
   ],
   "source": [
    "#append....\n",
    "name=[\"akki\",\"nitin\",\"niranjan\",\"tushar\"]\n",
    "name.append(\"kay-d\")\n",
    "print(name)"
   ]
  },
  {
   "cell_type": "code",
   "execution_count": 26,
   "id": "9a508b1b",
   "metadata": {},
   "outputs": [
    {
     "name": "stdout",
     "output_type": "stream",
     "text": [
      "['anil', 'sunil', 'rohit', 'amit', 'sheela', 'kokila', 'lalita']\n",
      "['anil', 'sunil', 'rohit', 'amit', 'sheela', 'kokila', 'lalita']\n"
     ]
    }
   ],
   "source": [
    "#extend a list....\n",
    "boys=[\"anil\",\"sunil\",\"rohit\",\"amit\"]\n",
    "girls=[\"sheela\",\"kokila\",\"lalita\"]\n",
    "boys.extend(girls)\n",
    "print(boys)\n",
    "\n",
    "boys=[\"anil\",\"sunil\",\"rohit\",\"amit\"]\n",
    "girls=[\"sheela\",\"kokila\",\"lalita\"]\n",
    "gribs=boys+girls\n",
    "print(gribs)"
   ]
  },
  {
   "cell_type": "code",
   "execution_count": 31,
   "id": "4407da9d",
   "metadata": {},
   "outputs": [
    {
     "name": "stdout",
     "output_type": "stream",
     "text": [
      "['anil', 'sunil', 'rohit']\n"
     ]
    }
   ],
   "source": [
    "#use of POP.....\n",
    "\n",
    "boys=[\"anil\",\"sunil\",\"rohit\",\"amit\"]\n",
    "boys.pop()\n",
    "print(boys)"
   ]
  },
  {
   "cell_type": "code",
   "execution_count": 30,
   "id": "b6166956",
   "metadata": {},
   "outputs": [],
   "source": [
    "#delete....\n",
    "girls=[\"sheela\",\"kokila\",\"lalita\",\"anita\",\"kanika\"]\n",
    "del(girls)"
   ]
  },
  {
   "cell_type": "code",
   "execution_count": 32,
   "id": "c8ad57da",
   "metadata": {},
   "outputs": [
    {
     "name": "stdout",
     "output_type": "stream",
     "text": [
      "['sheela', 'lalita', 'anita', 'kanika']\n"
     ]
    }
   ],
   "source": [
    "#remove.....\n",
    "\n",
    "girls=[\"sheela\",\"kokila\",\"lalita\",\"anita\",\"kanika\"]\n",
    "girls.remove(\"kokila\")\n",
    "print(girls)"
   ]
  },
  {
   "cell_type": "code",
   "execution_count": 53,
   "id": "648b5349",
   "metadata": {},
   "outputs": [
    {
     "name": "stdout",
     "output_type": "stream",
     "text": [
      "10\n",
      "90\n",
      "8000\n",
      "1\n",
      "8.0\n",
      "9\n",
      "8\n",
      "5\n",
      "5\n",
      "6\n",
      "6\n"
     ]
    }
   ],
   "source": [
    "#Math:-Python has a set of built-in math functions, including an extensive math module, that allows you to perform mathematical tasks on numbers.\n",
    "#here are some functions...\n",
    "\n",
    "#minimum:-it is used to find the shortest value \n",
    "#min()\n",
    "p=10,30,90,80\n",
    "print(min(p))\n",
    "\n",
    "#maximum:-it is used to find greatest value \n",
    "#max()\n",
    "print(max(p))\n",
    "\n",
    "#power:-it is used to find the square of given number\n",
    "#pow()\n",
    "q=20\n",
    "r=3\n",
    "print(pow(q,r))\n",
    "\n",
    "#absolute:-it gives us the positive value\n",
    "#abs()\n",
    "s=-1\n",
    "print(abs(s))\n",
    "\n",
    "#squareroot:- this function returns the squareroot of given number\n",
    "#sqrt()\n",
    "import math\n",
    "t=math.sqrt(64)\n",
    "print(t)\n",
    "\n",
    "\n",
    "#isqrt()\n",
    "import math\n",
    "u=math.isqrt(81)\n",
    "print(u)\n",
    "y=math.isqrt(65)\n",
    "print(y)\n",
    "\n",
    "\n",
    "#floor()\n",
    "import math\n",
    "v= math.floor(5.5)\n",
    "print(v)\n",
    "y=math.floor(5.7)\n",
    "print(y)\n",
    "    \n",
    "\n",
    "#ceil()\n",
    "import math\n",
    "x=math.ceil(5.5)\n",
    "print(x)\n",
    "z=math.ceil(5.7)\n",
    "print(z)\n",
    "\n",
    "#NOTE:-we have to import the math module in functions(sqrt,isqrt,floor,ceil)"
   ]
  },
  {
   "cell_type": "code",
   "execution_count": null,
   "id": "faaa43e2",
   "metadata": {},
   "outputs": [],
   "source": [
    "#CoNDITIONAL STATEMENTS.....\n",
    "\n",
    "#SYNTAX:- if,elif,else statements.....\n",
    "#if condition:\n",
    " #body\n",
    "  #elif:\n",
    "      #body\n",
    "    #else:\n",
    "        #statement\n",
    "    \n",
    "    "
   ]
  },
  {
   "cell_type": "code",
   "execution_count": 4,
   "id": "0d04ee6a",
   "metadata": {},
   "outputs": [
    {
     "name": "stdout",
     "output_type": "stream",
     "text": [
      "enter any value:yes\n",
      "most welcome\n"
     ]
    }
   ],
   "source": [
    "star=(input(\"enter any value:\"))\n",
    "if star==\"yes\":\n",
    "    print(\"most welcome\")\n",
    "elif star==\"not\":\n",
    "    print(\"just go away\")\n",
    "    if star==\"please\":\n",
    "        print(\"it's my pleasure\")\n",
    "else:\n",
    "    print(\"go to hell\")"
   ]
  },
  {
   "cell_type": "code",
   "execution_count": 8,
   "id": "0835c899",
   "metadata": {},
   "outputs": [
    {
     "name": "stdout",
     "output_type": "stream",
     "text": [
      "enter any value:90\n",
      "dew\n"
     ]
    }
   ],
   "source": [
    "#VENDING MACHINE.....\n",
    "\n",
    "rupee=int(input(\"enter any value:\"))\n",
    "if rupee==100:\n",
    "    print(\"shirt\")\n",
    "elif rupee==20:\n",
    "        print(\"lays\")\n",
    "        if rupee==40:\n",
    "            print(\"bread\")\n",
    "elif rupee==10:\n",
    "        print(\"kurkure\")\n",
    "elif rupee==90:\n",
    "        print(\"dew\")\n",
    "        if rupee==200:\n",
    "            print(\"cake\")\n",
    "else:\n",
    "    print(\"nothing\")"
   ]
  },
  {
   "cell_type": "code",
   "execution_count": null,
   "id": "6cf29107",
   "metadata": {},
   "outputs": [],
   "source": []
  },
  {
   "cell_type": "code",
   "execution_count": 7,
   "id": "508ea530",
   "metadata": {},
   "outputs": [
    {
     "name": "stdout",
     "output_type": "stream",
     "text": [
      "enter any value:8\n",
      "even number\n"
     ]
    }
   ],
   "source": [
    "#FIND EVEN  NUMBER & ODD NUMBER.....\n",
    "\n",
    "user=int(input(\"enter any value:\"))\n",
    "if user%2==0:\n",
    "    print(\"even number\")\n",
    "else:\n",
    "    print(\"odd number\")"
   ]
  },
  {
   "cell_type": "code",
   "execution_count": 1,
   "id": "6f3f4366",
   "metadata": {},
   "outputs": [
    {
     "name": "stdout",
     "output_type": "stream",
     "text": [
      "enter any value:36\n",
      "6.0\n"
     ]
    }
   ],
   "source": [
    "#program to calculate the squareroot of any number...\n",
    "shut=int(input(\"enter any value:\"))\n",
    "up=0.5\n",
    "l=shut**up\n",
    "print(l)"
   ]
  },
  {
   "cell_type": "code",
   "execution_count": 3,
   "id": "9835bfb4",
   "metadata": {},
   "outputs": [
    {
     "name": "stdout",
     "output_type": "stream",
     "text": [
      "enter a width:5\n",
      "enter a height:4\n",
      "20\n"
     ]
    }
   ],
   "source": [
    "#program to find the area OF RECTANGLE.........\n",
    "\n",
    "num=int(input(\"enter a width:\"))\n",
    "numb=int(input(\"enter a height:\"))\n",
    "mun=(num*numb)\n",
    "print(mun)"
   ]
  },
  {
   "cell_type": "code",
   "execution_count": 4,
   "id": "e69c1898",
   "metadata": {},
   "outputs": [
    {
     "name": "stdout",
     "output_type": "stream",
     "text": [
      "enter any value:9\n",
      "enter any value:8\n",
      "enter any value:8\n",
      "the equation is: 80\n"
     ]
    }
   ],
   "source": [
    "# y=mx+c\n",
    "\n",
    "m=int(input('enter any value:'))\n",
    "x=int(input('enter any value:'))\n",
    "c=int(input('enter any value:'))\n",
    "y=m*x+c\n",
    "print('the equation is:',y)"
   ]
  },
  {
   "cell_type": "code",
   "execution_count": 14,
   "id": "945a0a90",
   "metadata": {},
   "outputs": [
    {
     "name": "stdout",
     "output_type": "stream",
     "text": [
      "enter any value:4\n",
      "akki\n"
     ]
    }
   ],
   "source": [
    "user=int(input(\"enter any value:\"))\n",
    "if user==4:\n",
    "    print(\"akki\")\n",
    "    if user==3:\n",
    "        print(\"sharma\")\n",
    "        if user==2:\n",
    "            print(\"akshay\")\n",
    "            if uers==1:\n",
    "                print(\"kaushik\")\n",
    "else:\n",
    "    print(\"lalabaman\")"
   ]
  },
  {
   "cell_type": "code",
   "execution_count": 5,
   "id": "8ab99607",
   "metadata": {},
   "outputs": [
    {
     "name": "stdout",
     "output_type": "stream",
     "text": [
      "15\n",
      "3\n",
      "54\n",
      "1.5\n",
      "3\n",
      "22\n"
     ]
    }
   ],
   "source": [
    "# OPERATORS......\n",
    "\n",
    "#ARITHMATIC OPERATORS\n",
    "#ADDITION\n",
    "a=9\n",
    "b=6\n",
    "c=a+b\n",
    "print(c)\n",
    "\n",
    "#SUBTRACTION\n",
    "c=a-b\n",
    "print(c)\n",
    "\n",
    "#multiplication\n",
    "c=a*b\n",
    "print(c)\n",
    "\n",
    "#divison\n",
    "c=a/b\n",
    "print(c)\n",
    "\n",
    "#moduls\n",
    "c=a%b\n",
    "print(c)\n",
    "\n",
    "#floorwision\n",
    "d=90\n",
    "e=4\n",
    "f=d//e\n",
    "print(f)"
   ]
  },
  {
   "cell_type": "code",
   "execution_count": 1,
   "id": "ecd82cb1",
   "metadata": {},
   "outputs": [
    {
     "name": "stdout",
     "output_type": "stream",
     "text": [
      "enter any value:1\n",
      "enter any value:2\n",
      "enter any value:3\n",
      "enter any value:4\n",
      "b is max\n"
     ]
    }
   ],
   "source": [
    "a=int(input('enter any value:'))\n",
    "b=int(input('enter any value:'))\n",
    "c=int(input('enter any value:'))\n",
    "d=int(input('enter any value:'))\n",
    "if a>b:\n",
    "    print('a is max')\n",
    "elif a>c:\n",
    "    print('a is max')\n",
    "elif a>d:\n",
    "    print('a is max')\n",
    "elif b>a:\n",
    "    print('b is max')\n",
    "elif b>c:\n",
    "    print('b is max')\n",
    "elif b>d:\n",
    "    print('b is max')\n",
    "elif c>a:\n",
    "    print('c is max')\n",
    "elif c>b:\n",
    "    print('c is max')\n",
    "elif c>d:\n",
    "    print('c is max')\n",
    "elif d>a:\n",
    "    print('d is max')\n",
    "elif d>b:\n",
    "    print('d is max')\n",
    "elif d>c:\n",
    "    print('d is max')\n",
    "else:\n",
    "    print('nothing')"
   ]
  },
  {
   "cell_type": "code",
   "execution_count": 19,
   "id": "f7723fd0",
   "metadata": {},
   "outputs": [
    {
     "name": "stdout",
     "output_type": "stream",
     "text": [
      "20\n",
      "20\n",
      "15\n",
      "30\n",
      "20.0\n",
      "0\n"
     ]
    }
   ],
   "source": [
    "#assignment operators...\n",
    "\n",
    "#equal to(=)\n",
    "a=20\n",
    "print(a)\n",
    "\n",
    "#add/plus equal to(+=)\n",
    "b=15\n",
    "b+=5\n",
    "print(b)\n",
    "\n",
    "#subtract/minus equal to(-=)\n",
    "b-=5\n",
    "print(b)\n",
    "\n",
    "#multiple equal to(*=)\n",
    "b*=2\n",
    "print(b)\n",
    "\n",
    "#divison equal to(/=)\n",
    "c=60\n",
    "c/=3\n",
    "print(c)\n",
    "\n",
    "#moduls equal to(%=) doubt........\n",
    "d=80\n",
    "d%=2\n",
    "print(d)"
   ]
  },
  {
   "cell_type": "code",
   "execution_count": 22,
   "id": "2b1e5882",
   "metadata": {},
   "outputs": [
    {
     "name": "stdout",
     "output_type": "stream",
     "text": [
      "True\n",
      "False\n",
      "True\n",
      "False\n",
      "True\n",
      "False\n",
      "True\n",
      "False\n",
      "True\n",
      "False\n",
      "True\n",
      "False\n"
     ]
    }
   ],
   "source": [
    "#comparison operators.....\n",
    "\n",
    "#equal to(==)\n",
    "a=20\n",
    "b=20\n",
    "print(a==b)\n",
    "c=10\n",
    "d=8\n",
    "print(c==d)\n",
    "\n",
    "#greater than(>)\n",
    "e=5\n",
    "f=8\n",
    "print(f>e)\n",
    "print(e>f)\n",
    "\n",
    "#less than(<)\n",
    "g=9\n",
    "h=10\n",
    "print(g<h)\n",
    "print(h<g)\n",
    "\n",
    "#greater than equal to (>=)\n",
    "i=10\n",
    "j=20\n",
    "print(j>=i)\n",
    "print(i>=j)\n",
    "\n",
    "#less than equal to(<=)\n",
    "k=20\n",
    "l=15\n",
    "print(l<=k)\n",
    "print(k<=l)\n",
    "\n",
    "#not equal to(!=)\n",
    "m=2\n",
    "n=3\n",
    "print(m!=n)\n",
    "o=5\n",
    "p=5\n",
    "print(o!=p)"
   ]
  },
  {
   "cell_type": "code",
   "execution_count": 27,
   "id": "cd6a7431",
   "metadata": {},
   "outputs": [
    {
     "name": "stdout",
     "output_type": "stream",
     "text": [
      "True\n",
      "False\n",
      "False\n",
      "True\n"
     ]
    }
   ],
   "source": [
    "#identity operators....\n",
    "\n",
    "#is\n",
    "a=5\n",
    "b=5\n",
    "print(a is b)\n",
    "e=8\n",
    "f=9\n",
    "print(e is f)\n",
    "#is not\n",
    "c=7\n",
    "d=7\n",
    "print(c is not d)\n",
    "g=10\n",
    "h=9\n",
    "print(g is not h)"
   ]
  },
  {
   "cell_type": "code",
   "execution_count": null,
   "id": "92e133ac",
   "metadata": {},
   "outputs": [],
   "source": []
  }
 ],
 "metadata": {
  "kernelspec": {
   "display_name": "Python 3 (ipykernel)",
   "language": "python",
   "name": "python3"
  },
  "language_info": {
   "codemirror_mode": {
    "name": "ipython",
    "version": 3
   },
   "file_extension": ".py",
   "mimetype": "text/x-python",
   "name": "python",
   "nbconvert_exporter": "python",
   "pygments_lexer": "ipython3",
   "version": "3.9.12"
  }
 },
 "nbformat": 4,
 "nbformat_minor": 5
}
