{
 "cells": [
  {
   "cell_type": "markdown",
   "id": "a1fc9789",
   "metadata": {},
   "source": [
    "# SET :-"
   ]
  },
  {
   "cell_type": "code",
   "execution_count": 11,
   "id": "af151f10",
   "metadata": {},
   "outputs": [
    {
     "name": "stdout",
     "output_type": "stream",
     "text": [
      "<class 'set'>\n",
      "{1, 2, 3, 4}\n"
     ]
    }
   ],
   "source": [
    "s={1,2,3,4}\n",
    "print(type(s))\n",
    "print(s)"
   ]
  },
  {
   "cell_type": "code",
   "execution_count": 6,
   "id": "6e723c8f",
   "metadata": {},
   "outputs": [
    {
     "name": "stdout",
     "output_type": "stream",
     "text": [
      "<class 'dict'>\n"
     ]
    }
   ],
   "source": [
    "#IMPORTANT:- this syntax will create an empty dictionary and not an empty set \n",
    "a={}\n",
    "print(type(a))"
   ]
  },
  {
   "cell_type": "code",
   "execution_count": 9,
   "id": "80744e8b",
   "metadata": {},
   "outputs": [
    {
     "name": "stdout",
     "output_type": "stream",
     "text": [
      "<class 'set'>\n"
     ]
    }
   ],
   "source": [
    "#IMPORTANT:- AN EMPTY SET CAN BE CREATED USING THE BELLOW SYNTAX\n",
    "b=set()\n",
    "print(type(b))"
   ]
  },
  {
   "cell_type": "code",
   "execution_count": 17,
   "id": "db389d0c",
   "metadata": {},
   "outputs": [
    {
     "name": "stdout",
     "output_type": "stream",
     "text": [
      "{1, 2, (3, 4, 6), 5}\n"
     ]
    }
   ],
   "source": [
    "b.add(1)\n",
    "b.add(2)\n",
    "b.add(5)\n",
    "b.add(5)#SET DOES NOT ALLOW REPITATIVE ITEM ONLY ENTER UNIQUE VALUE\n",
    "b.add((3,4,6))#CAN BE ADD TO TUPLE IN SET\n",
    "#b.add([7,8])CAN NOT BE ADD LIST IN SET\n",
    "#b.add({0,9})CAN NOT BE ADD DICTIONARY IN SET\n",
    "print(b)"
   ]
  },
  {
   "cell_type": "code",
   "execution_count": 19,
   "id": "bc0829a4",
   "metadata": {},
   "outputs": [
    {
     "name": "stdout",
     "output_type": "stream",
     "text": [
      "{1, 2, 3, 5}\n"
     ]
    }
   ],
   "source": [
    "#REMOVE FUNCTION IS USED TO DELETE THE VALUE IN PRESENT YOUR SET\n",
    "Y={1,2,3,4,5}\n",
    "Y.remove(4)\n",
    "print(Y)"
   ]
  },
  {
   "cell_type": "code",
   "execution_count": 22,
   "id": "99f411de",
   "metadata": {},
   "outputs": [
    {
     "name": "stdout",
     "output_type": "stream",
     "text": [
      "1\n"
     ]
    }
   ],
   "source": [
    "#POP FUNCTION IS UESD TO REMOVE AN ARBITRAAY ELEMENT FROM THE SET AND RETURN THE ELEMENT REMOVED\n",
    "K={1,2,3,4,5}\n",
    "print(K.pop())"
   ]
  },
  {
   "cell_type": "code",
   "execution_count": 23,
   "id": "e0bdeb3d",
   "metadata": {},
   "outputs": [
    {
     "name": "stdout",
     "output_type": "stream",
     "text": [
      "None\n"
     ]
    }
   ],
   "source": [
    "#CLEAR FUNCTION IS UESD TO DELETE THE ALL VALUES IN PRESENT YOUR SET\n",
    "M={1,2,3,4,5}\n",
    "print(M.clear())"
   ]
  },
  {
   "cell_type": "code",
   "execution_count": 24,
   "id": "0b83eb21",
   "metadata": {},
   "outputs": [
    {
     "ename": "TypeError",
     "evalue": "unsupported operand type(s) for +: 'set' and 'set'",
     "output_type": "error",
     "traceback": [
      "\u001b[1;31m---------------------------------------------------------------------------\u001b[0m",
      "\u001b[1;31mTypeError\u001b[0m                                 Traceback (most recent call last)",
      "Input \u001b[1;32mIn [24]\u001b[0m, in \u001b[0;36m<cell line: 3>\u001b[1;34m()\u001b[0m\n\u001b[0;32m      1\u001b[0m A\u001b[38;5;241m=\u001b[39m{\u001b[38;5;241m1\u001b[39m,\u001b[38;5;241m2\u001b[39m,\u001b[38;5;241m3\u001b[39m}\n\u001b[0;32m      2\u001b[0m B\u001b[38;5;241m=\u001b[39m{\u001b[38;5;241m3\u001b[39m,\u001b[38;5;241m4\u001b[39m,\u001b[38;5;241m5\u001b[39m}\n\u001b[1;32m----> 3\u001b[0m s\u001b[38;5;241m=\u001b[39m\u001b[43mA\u001b[49m\u001b[38;5;241;43m+\u001b[39;49m\u001b[43mB\u001b[49m\n\u001b[0;32m      4\u001b[0m \u001b[38;5;28mprint\u001b[39m(s\u001b[38;5;241m.\u001b[39munion())\n",
      "\u001b[1;31mTypeError\u001b[0m: unsupported operand type(s) for +: 'set' and 'set'"
     ]
    }
   ],
   "source": [
    "A={1,2,3}\n",
    "B={3,4,5}\n",
    "s=A+B\n",
    "print(s.union())"
   ]
  },
  {
   "cell_type": "code",
   "execution_count": 1,
   "id": "3bfd62a0",
   "metadata": {},
   "outputs": [
    {
     "name": "stdout",
     "output_type": "stream",
     "text": [
      "{'18', 18}\n"
     ]
    }
   ],
   "source": [
    "#CAN WE HAVE A SET WITH 18(INT) AND \"18\"(STR) AS A VALUE IN IT\n",
    "s={18,\"18\"}\n",
    "print(s)"
   ]
  },
  {
   "cell_type": "code",
   "execution_count": 2,
   "id": "bf586afd",
   "metadata": {},
   "outputs": [
    {
     "name": "stdout",
     "output_type": "stream",
     "text": [
      "enter a num: 1\n",
      "enter a num: 2\n",
      "enter a num: 3\n",
      "enter a num: 4\n",
      "enter a num: 5\n",
      "enter a num: 1\n",
      "enter a num: 2\n",
      "enter a num: 3\n",
      "{1, 2, 3, 4, 5}\n"
     ]
    }
   ],
   "source": [
    "#WRITE A PROGRAM TO INPUT EIGHT NUMBERS FROM THE USER AND DISPLAY ALL THE UNIQUE NUMBERS\n",
    "n1=int(input(\"enter a num: \"))\n",
    "n2=int(input(\"enter a num: \"))\n",
    "n3=int(input(\"enter a num: \"))\n",
    "n4=int(input(\"enter a num: \"))\n",
    "n5=int(input(\"enter a num: \"))\n",
    "n6=int(input(\"enter a num: \"))\n",
    "n7=int(input(\"enter a num: \"))\n",
    "n8=int(input(\"enter a num: \"))\n",
    "s={n1,n2,n3,n4,n5,n6,n7,n8}\n",
    "print(s)"
   ]
  },
  {
   "cell_type": "code",
   "execution_count": 4,
   "id": "9cba5b00",
   "metadata": {},
   "outputs": [
    {
     "name": "stdout",
     "output_type": "stream",
     "text": [
      "2\n"
     ]
    }
   ],
   "source": [
    "#WHAT WILL BE LENGHT OF FOLLOWING S\n",
    "s=set()\n",
    "s.add(20)\n",
    "s.add(20.0)\n",
    "s.add(\"20\")\n",
    "print(len(s))"
   ]
  },
  {
   "cell_type": "code",
   "execution_count": 5,
   "id": "967e3e23",
   "metadata": {},
   "outputs": [
    {
     "name": "stdout",
     "output_type": "stream",
     "text": [
      "{}\n",
      "<class 'dict'>\n"
     ]
    }
   ],
   "source": [
    "#S={} WHAT IS THE TYPE OF S.\n",
    "s={}\n",
    "print(s)\n",
    "print(type(s))"
   ]
  },
  {
   "cell_type": "code",
   "execution_count": 9,
   "id": "316aafa6",
   "metadata": {},
   "outputs": [
    {
     "ename": "TypeError",
     "evalue": "unhashable type: 'list'",
     "output_type": "error",
     "traceback": [
      "\u001b[1;31m---------------------------------------------------------------------------\u001b[0m",
      "\u001b[1;31mTypeError\u001b[0m                                 Traceback (most recent call last)",
      "Input \u001b[1;32mIn [9]\u001b[0m, in \u001b[0;36m<cell line: 3>\u001b[1;34m()\u001b[0m\n\u001b[0;32m      1\u001b[0m \u001b[38;5;66;03m#CAN YOU HAVE CHANGE THE VALUE INSIDE A LIST WICH IS CONTAINEDIN SET S.\u001b[39;00m\n\u001b[0;32m      2\u001b[0m \u001b[38;5;66;03m#S={8,7,12,\"HARRY\",[1,2]}\u001b[39;00m\n\u001b[1;32m----> 3\u001b[0m s\u001b[38;5;241m=\u001b[39m{\u001b[38;5;241m8\u001b[39m,\u001b[38;5;241m7\u001b[39m,\u001b[38;5;241m12\u001b[39m,\u001b[38;5;124m\"\u001b[39m\u001b[38;5;124mharry\u001b[39m\u001b[38;5;124m\"\u001b[39m,[\u001b[38;5;241m1\u001b[39m,\u001b[38;5;241m2\u001b[39m]}\n\u001b[0;32m      4\u001b[0m i\u001b[38;5;241m=\u001b[39m\u001b[38;5;28mlist\u001b[39m\u001b[38;5;241m.\u001b[39ms\n\u001b[0;32m      5\u001b[0m \u001b[38;5;28mprint\u001b[39m(i)\n",
      "\u001b[1;31mTypeError\u001b[0m: unhashable type: 'list'"
     ]
    }
   ],
   "source": [
    "#CAN YOU HAVE CHANGE THE VALUE INSIDE A LIST WICH IS CONTAINEDIN SET S.\n",
    "#S={8,7,12,\"HARRY\",[1,2]}\n",
    "s={8,7,12,\"harry\",[1,2]}\n",
    "i=list.s\n",
    "print(i)"
   ]
  },
  {
   "cell_type": "code",
   "execution_count": null,
   "id": "196334ea",
   "metadata": {},
   "outputs": [],
   "source": []
  }
 ],
 "metadata": {
  "kernelspec": {
   "display_name": "Python 3 (ipykernel)",
   "language": "python",
   "name": "python3"
  },
  "language_info": {
   "codemirror_mode": {
    "name": "ipython",
    "version": 3
   },
   "file_extension": ".py",
   "mimetype": "text/x-python",
   "name": "python",
   "nbconvert_exporter": "python",
   "pygments_lexer": "ipython3",
   "version": "3.9.12"
  }
 },
 "nbformat": 4,
 "nbformat_minor": 5
}
