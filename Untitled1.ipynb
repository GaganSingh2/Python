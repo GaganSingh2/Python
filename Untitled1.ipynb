{
 "cells": [
  {
   "cell_type": "code",
   "execution_count": 1,
   "id": "9e52ec47",
   "metadata": {},
   "outputs": [],
   "source": [
    "from tkinter import *  \n",
    "root=Tk() \n",
    "root.mainloop()\n"
   ]
  },
  {
   "cell_type": "code",
   "execution_count": 3,
   "id": "59d7b249",
   "metadata": {},
   "outputs": [],
   "source": [
    "from tkinter import *\n",
    "root=Tk()\n",
    "root.title(\"fhg\")\n",
    "root.mainloop()\n"
   ]
  },
  {
   "cell_type": "code",
   "execution_count": 5,
   "id": "8323af8e",
   "metadata": {},
   "outputs": [],
   "source": [
    "from tkinter import * \n",
    "root=Tk() \n",
    "root.title(\"WinDow\")\n",
    "root.minsize(width=1000,height=500) \n",
    "root.mainloop()\n"
   ]
  },
  {
   "cell_type": "code",
   "execution_count": 8,
   "id": "5bbb9e3d",
   "metadata": {},
   "outputs": [],
   "source": [
    "from tkinter import *  \n",
    "root=Tk()  \n",
    "root.title(\"WinDow\")\n",
    "root.minsize(width=500,height=500)\n",
    "\n",
    "l=Button(root,text=\"Click here\", fg=\"red\",  bg=\"green\", font=\"times 20 bold italic\") \n",
    "l.pack()\n",
    "root.mainloop()\n"
   ]
  },
  {
   "cell_type": "code",
   "execution_count": 10,
   "id": "e5c5c750",
   "metadata": {},
   "outputs": [],
   "source": [
    "from tkinter import * \n",
    "root=Tk() \n",
    "root.title(\"WinDow\")\n",
    "root.minsize(width=500,height=500) \n",
    "l2=Label(root, text=\"Username\", fg=\"red\",  bg=\"green\", font=\"times 20 bold italic\")\n",
    "l2.pack()\n",
    "l1 = Label(root, text=\"Username\")\n",
    "l1.pack()\n",
    "root.mainloop()\n"
   ]
  },
  {
   "cell_type": "code",
   "execution_count": 12,
   "id": "647ff369",
   "metadata": {},
   "outputs": [
    {
     "ename": "TypeError",
     "evalue": "'Label' object is not callable",
     "output_type": "error",
     "traceback": [
      "\u001b[1;31m---------------------------------------------------------------------------\u001b[0m",
      "\u001b[1;31mTypeError\u001b[0m                                 Traceback (most recent call last)",
      "Input \u001b[1;32mIn [12]\u001b[0m, in \u001b[0;36m<cell line: 7>\u001b[1;34m()\u001b[0m\n\u001b[0;32m      5\u001b[0m l2\u001b[38;5;241m=\u001b[39mLabel(window,text\u001b[38;5;241m=\u001b[39m\u001b[38;5;124m\"\u001b[39m\u001b[38;5;124mhello\u001b[39m\u001b[38;5;124m\"\u001b[39m,padx\u001b[38;5;241m=\u001b[39m\u001b[38;5;241m30\u001b[39m,pady\u001b[38;5;241m=\u001b[39m\u001b[38;5;241m30\u001b[39m,bg\u001b[38;5;241m=\u001b[39m\u001b[38;5;124m\"\u001b[39m\u001b[38;5;124mgreen\u001b[39m\u001b[38;5;124m\"\u001b[39m)\n\u001b[0;32m      6\u001b[0m l2\u001b[38;5;241m.\u001b[39mpack()\n\u001b[1;32m----> 7\u001b[0m \u001b[43ml1\u001b[49m\u001b[43m(\u001b[49m\u001b[43mroot\u001b[49m\u001b[43m,\u001b[49m\u001b[43m \u001b[49m\u001b[43mtext\u001b[49m\u001b[38;5;241;43m=\u001b[39;49m\u001b[38;5;124;43m\"\u001b[39;49m\u001b[38;5;124;43mUsername\u001b[39;49m\u001b[38;5;124;43m\"\u001b[39;49m\u001b[43m)\u001b[49m \n\u001b[0;32m      8\u001b[0m l1\u001b[38;5;241m.\u001b[39mpack() \n\u001b[0;32m      9\u001b[0m window\u001b[38;5;241m.\u001b[39mmainloop()\n",
      "\u001b[1;31mTypeError\u001b[0m: 'Label' object is not callable"
     ]
    }
   ],
   "source": [
    "from tkinter import *\n",
    "window = Tk()\n",
    "l1=Label(window,text=\"hello\",bg=\"red\") \n",
    "l1.pack()\n",
    "l2=Label(window,text=\"hello\",padx=30,pady=30,bg=\"green\")\n",
    "l2.pack()\n",
    "l1(root, text=\"Username\") \n",
    "l1.pack() \n",
    "window.mainloop()\n"
   ]
  },
  {
   "cell_type": "code",
   "execution_count": 18,
   "id": "c32cdf0b",
   "metadata": {},
   "outputs": [],
   "source": [
    "from tkinter import *  \n",
    "top = Tk()\n",
    "C1 = Checkbutton(top, text = \"Music\")  \n",
    "C2 = Checkbutton(top, text = \"Video\") \n",
    "C3 = Checkbutton(top, text = \"image\") \n",
    "C1.pack()\n",
    "C2.pack()\n",
    "C3.pack()\n",
    "top.mainloop()\n"
   ]
  },
  {
   "cell_type": "code",
   "execution_count": 14,
   "id": "2dd76a4f",
   "metadata": {},
   "outputs": [],
   "source": [
    "from tkinter import *\n",
    "root = Tk()\n",
    "frame = Frame(root, bd=\"5\", bg=\"red\") \n",
    "frame.pack()  \n",
    "b=Button(frame,text=\"button\", bg=\"white\")  \n",
    "b.pack()\n",
    "mainloop()\n"
   ]
  },
  {
   "cell_type": "code",
   "execution_count": 17,
   "id": "f98dac1c",
   "metadata": {},
   "outputs": [],
   "source": [
    "from tkinter import * \n",
    "root = Tk()\n",
    "l = Label(root, text=\"UserName\") \n",
    "l.pack()\n",
    "e = Entry(root, bd =6, width=30,show=\"#\") \n",
    "e.pack()\n",
    "root.mainloop()\n"
   ]
  },
  {
   "cell_type": "code",
   "execution_count": 19,
   "id": "6e5eb224",
   "metadata": {},
   "outputs": [],
   "source": [
    "from tkinter import * \n",
    "root = Tk()\n",
    "\n",
    "R1 = Radiobutton(root, text=\"Female\",value=1) \n",
    "R1.pack()\n",
    "\n",
    "R2 = Radiobutton(root, text=\"Male\", value=2) \n",
    "R2.pack()\n",
    "\n",
    "root.mainloop()\n"
   ]
  },
  {
   "cell_type": "code",
   "execution_count": 20,
   "id": "b71deea1",
   "metadata": {},
   "outputs": [],
   "source": [
    "from tkinter import * \n",
    "root = Tk()\n",
    "frame = Frame(root, bd=\"5\", bg=\"red\")  \n",
    "frame.pack() \n",
    "b=Button(frame,text=\"button\", bg=\"white\")  \n",
    "b.pack()\n",
    "mainloop()\n"
   ]
  },
  {
   "cell_type": "code",
   "execution_count": 21,
   "id": "3a3e7fc6",
   "metadata": {},
   "outputs": [],
   "source": [
    "from tkinter import * \n",
    "root = Tk()\n",
    "s = Spinbox(root, from_ = 1, to = 5) \n",
    "s.pack()\n",
    "root.mainloop()\n"
   ]
  },
  {
   "cell_type": "code",
   "execution_count": 22,
   "id": "1fd598cd",
   "metadata": {},
   "outputs": [],
   "source": [
    "from tkinter import * \n",
    "root = Tk()\n",
    "var2 = StringVar()\n",
    "opt2 = OptionMenu(root, var2, 'Java',  'Android','Web Designing', 'PHP','Sofware  Testing','Big Data')\n",
    "var2.set('Big Data') \n",
    "opt2.pack()  \n",
    "root.mainloop()\n"
   ]
  },
  {
   "cell_type": "code",
   "execution_count": 24,
   "id": "964a056f",
   "metadata": {},
   "outputs": [],
   "source": [
    "from tkinter import * \n",
    "root = Tk()\n",
    "l=Listbox(root,width=20,height=6,selectmode=MULTIPLE)  #selectmode=SINGLE\n",
    "l.insert(1,\"c++\")\n",
    "l.insert(2,\"py\")\n",
    "l.insert(3,\"c\")\n",
    "l.insert(4,\"java\")\n",
    "\n",
    "l.pack() \n",
    "root.mainloop()\n"
   ]
  },
  {
   "cell_type": "code",
   "execution_count": null,
   "id": "cf7920b4",
   "metadata": {},
   "outputs": [],
   "source": []
  }
 ],
 "metadata": {
  "kernelspec": {
   "display_name": "Python 3 (ipykernel)",
   "language": "python",
   "name": "python3"
  },
  "language_info": {
   "codemirror_mode": {
    "name": "ipython",
    "version": 3
   },
   "file_extension": ".py",
   "mimetype": "text/x-python",
   "name": "python",
   "nbconvert_exporter": "python",
   "pygments_lexer": "ipython3",
   "version": "3.9.12"
  }
 },
 "nbformat": 4,
 "nbformat_minor": 5
}
