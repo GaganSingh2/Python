{
 "cells": [
  {
   "cell_type": "code",
   "execution_count": 1,
   "id": "773274aa",
   "metadata": {},
   "outputs": [
    {
     "name": "stdout",
     "output_type": "stream",
     "text": [
      "enter any num: 18\n",
      "it is an even num\n"
     ]
    }
   ],
   "source": [
    "#Q1 find even and odd num\n",
    "u=int(input(\"enter any num: \"))\n",
    "if u%2==0:\n",
    "    print('it is an even num')\n",
    "else:\n",
    "    print('it is an odd num')"
   ]
  },
  {
   "cell_type": "code",
   "execution_count": 3,
   "id": "be404e02",
   "metadata": {},
   "outputs": [
    {
     "name": "stdout",
     "output_type": "stream",
     "text": [
      "enter any alphabet: g\n",
      "it is a consonent\n"
     ]
    }
   ],
   "source": [
    "#Q2 find vowel and consonent\n",
    "u=(input(\"enter any alphabet: \"))\n",
    "if u==\"a\":\n",
    "    print('it is a vowel')\n",
    "elif u==\"e\":\n",
    "    print('it is a vowel')\n",
    "elif u==\"i\":\n",
    "    print('it is a vowel')\n",
    "elif u==\"o\":\n",
    "    print('it is a vowel')\n",
    "elif u==\"u\":\n",
    "    print('it is a vowel')    \n",
    "else:\n",
    "    print('it is a consonent')"
   ]
  },
  {
   "cell_type": "code",
   "execution_count": 18,
   "id": "1a1b6ef2",
   "metadata": {},
   "outputs": [
    {
     "name": "stdout",
     "output_type": "stream",
     "text": [
      "enter any num: 625\n",
      "25.0\n"
     ]
    }
   ],
   "source": [
    "#Q3 program to calculate the square root of any number\n",
    "u=int(input(\"enter any num: \"))\n",
    "v=0.5 #it is short form of root and square of 1/2\n",
    "x=u**v\n",
    "print(x)"
   ]
  },
  {
   "cell_type": "code",
   "execution_count": 22,
   "id": "15a834bc",
   "metadata": {},
   "outputs": [
    {
     "name": "stdout",
     "output_type": "stream",
     "text": [
      "enter the width of ractangle: 20\n",
      "enter the height of ractangle: 10\n",
      "area of ractangle: 200\n"
     ]
    }
   ],
   "source": [
    "#Q4 find the area of ractangle\n",
    "width=eval(input(\"enter the width of ractangle: \"))\n",
    "height=eval(input(\"enter the height of ractangle: \"))\n",
    "area=(width*height)\n",
    "print(\"area of ractangle:\" ,area)\n"
   ]
  },
  {
   "cell_type": "code",
   "execution_count": 1,
   "id": "0ef4431e",
   "metadata": {},
   "outputs": [
    {
     "name": "stdout",
     "output_type": "stream",
     "text": [
      "enter any value: 5\n",
      "enter any value: 5\n",
      "enter any value: 5\n",
      "30\n"
     ]
    }
   ],
   "source": [
    "#Q5 y=mx+c solve this equation\n",
    "m=int(input(\"enter any value: \"))\n",
    "c=int(input(\"enter any value: \"))\n",
    "x=int(input(\"enter any value: \"))\n",
    "y=m*x+c\n",
    "print(y)"
   ]
  },
  {
   "cell_type": "code",
   "execution_count": 2,
   "id": "b9894522",
   "metadata": {},
   "outputs": [
    {
     "name": "stdout",
     "output_type": "stream",
     "text": [
      "enter any value: 5\n",
      "3905\n"
     ]
    }
   ],
   "source": [
    "#Q6 y=n+nn+nnn+nnnn+nnnnn solve this equation\n",
    "n=int(input(\"enter any value: \"))\n",
    "y=n+n*n+n*n*n+n*n*n*n+n*n*n*n*n\n",
    "print(y)"
   ]
  },
  {
   "cell_type": "code",
   "execution_count": 1,
   "id": "6e34f91b",
   "metadata": {},
   "outputs": [
    {
     "name": "stdout",
     "output_type": "stream",
     "text": [
      "{'name': 'gagan', 'class': 'cse', 'branch': 'computer'}\n",
      "{'name': 'gagan', 'class': 'cse'}\n"
     ]
    }
   ],
   "source": [
    "#Q6 ues of pop function\n",
    "#POP FUNCTION IS UESD TO DELETE A KEY AND VALUE TO GIVEN BY THE USER.\n",
    "s={\"name\":\"gagan\",\"class\":\"cse\",\"branch\":\"computer\",\"c\":\"computer\"}\n",
    "s.pop(\"c\")\n",
    "print(s)\n",
    "#POPITEM FUNCTION IS USED TO DELETE BYDEFAULT LAST KEY AND VALUE\n",
    "s.popitem()\n",
    "print(s)\n",
    "\n"
   ]
  },
  {
   "cell_type": "code",
   "execution_count": null,
   "id": "3b997f59",
   "metadata": {},
   "outputs": [],
   "source": [
    "#Q7 WRITE A PROGRAM TO DELETE A KEY GIVEN BY THE USER USED TO POP FUNCTION\n",
    "v={\"name\":\"gagan\",\"branch\":\"cse\",\"home\":\"bihar\"}\n",
    "u=(input(\"enter any key: \"))\n",
    "v.pop(u)\n",
    "print(v)"
   ]
  },
  {
   "cell_type": "code",
   "execution_count": 2,
   "id": "521eda71",
   "metadata": {},
   "outputs": [
    {
     "name": "stdout",
     "output_type": "stream",
     "text": [
      "@ @ @ @       @ @ @     @ @ @ @       @ @ @     @     @ \n",
      "@           @       @   @           @       @   @ @   @ \n",
      "@   @ @ @   @ @ @ @ @   @   @ @ @   @ @ @ @ @   @   @ @ \n",
      "@ @ @ @ @   @       @   @ @ @ @ @   @       @   @     @ \n"
     ]
    }
   ],
   "source": [
    "#Q8 PRINT GAGAN USE OF PATTERN PROGRAMMING\n",
    "for r in range(4):\n",
    "    for c in range(28):\n",
    "        #G IS PRINT\n",
    "        if(r==0 and c==4):\n",
    "            print(' ',end=' ')\n",
    "        elif(r==1 and c==1):\n",
    "            print(' ',end=' ')\n",
    "        elif(r==1 and c==2):\n",
    "            print(' ',end=' ')\n",
    "        elif(r==1 and c==3):\n",
    "            print(' ',end=' ')\n",
    "        elif(r==1 and c==4):\n",
    "            print(' ',end=' ')\n",
    "        elif(r==2 and c==1):\n",
    "            print(' ',end=' ')\n",
    "            # SPACE IS PRINT\n",
    "        elif(r==0 and c==5):\n",
    "            print(' ',end=' ')\n",
    "        elif(r==1 and c==5):\n",
    "            print(' ',end=' ')\n",
    "        elif(r==2 and c==5):\n",
    "            print(' ',end=' ')\n",
    "        elif(r==3 and c==5):\n",
    "            print(' ',end=' ')\n",
    "            #a is print\n",
    "        elif(r==0 and c==6):\n",
    "            print(' ',end=' ')\n",
    "        elif(r==0 and c==10):\n",
    "            print(' ',end=' ')\n",
    "        elif(r==1 and c==7):\n",
    "            print(' ',end=' ')\n",
    "        elif(r==1 and c==8):\n",
    "            print(' ',end=' ')\n",
    "        elif(r==1 and c==9):\n",
    "            print(' ',end=' ')\n",
    "        elif(r==3 and c==7):\n",
    "            print(' ',end=' ')\n",
    "        elif(r==3 and c==8):\n",
    "            print(' ',end=' ')\n",
    "        elif(r==3 and c==9):\n",
    "            print(' ',end=' ')\n",
    "#         elif(r==1 and c==10):\n",
    "#             print(' ',end=' ')\n",
    "#         elif(r==2 and c==10):\n",
    "#             print(' ',end=' ')\n",
    "#         elif(r==3 and c==10):\n",
    "#             print(' ',end=' ')\n",
    "             #SPACE IS PRINT\n",
    "        elif(r==0 and c==11):\n",
    "            print(' ',end=' ')\n",
    "        elif(r==1 and c==11):\n",
    "            print(' ',end=' ')\n",
    "        elif(r==2 and c==11):\n",
    "            print(' ',end=' ')\n",
    "        elif(r==3 and c==11):\n",
    "            print(' ',end=' ')\n",
    "            #g is print\n",
    "        elif(r==0 and c==16):\n",
    "            print(' ',end=' ')\n",
    "        elif(r==1 and c==13):\n",
    "            print(' ',end=' ')\n",
    "        elif(r==1 and c==14):\n",
    "            print(' ',end=' ')\n",
    "        elif(r==1 and c==15):\n",
    "            print(' ',end=' ')\n",
    "        elif(r==1 and c==16):\n",
    "            print(' ',end=' ')\n",
    "        elif(r==2 and c==13):\n",
    "            print(' ',end=' ')\n",
    "            #SPACE IS PRINT\n",
    "        elif(r==0 and c==17):\n",
    "            print(' ',end=' ')\n",
    "        elif(r==1 and c==17):\n",
    "            print(' ',end=' ')\n",
    "        elif(r==2 and c==17):\n",
    "            print(' ',end=' ')\n",
    "        elif(r==3 and c==17):\n",
    "            print(' ',end=' ')\n",
    "            #a is print\n",
    "        elif(r==0 and c==18):\n",
    "            print(' ',end=' ')\n",
    "        elif(r==0 and c==22):\n",
    "            print(' ',end=' ')\n",
    "        elif(r==1 and c==19):\n",
    "            print(' ',end=' ')\n",
    "        elif(r==1 and c==20):\n",
    "            print(' ',end=' ')\n",
    "        elif(r==1 and c==21):\n",
    "            print(' ',end=' ')\n",
    "        elif(r==3 and c==19):\n",
    "            print(' ',end=' ')\n",
    "        elif(r==3 and c==20):\n",
    "            print(' ',end=' ')\n",
    "        elif(r==3 and c==21):\n",
    "            print(' ',end=' ')\n",
    "            #SPACE IS PRINT\n",
    "        elif(r==0 and c==23):\n",
    "            print(' ',end=' ')\n",
    "        elif(r==1 and c==23):\n",
    "            print(' ',end=' ')\n",
    "        elif(r==2 and c==23):\n",
    "            print(' ',end=' ')\n",
    "        elif(r==3 and c==23):\n",
    "            print(' ',end=' ') \n",
    "            #N IS PRINT\n",
    "        elif(r==0 and c==25):\n",
    "            print(' ',end=' ')\n",
    "        elif(r==0 and c==26):\n",
    "            print(' ',end=' ')\n",
    "        elif(r==1 and c==26):\n",
    "            print(' ',end=' ')\n",
    "        elif(r==2 and c==25):\n",
    "            print(' ',end=' ')\n",
    "                        \n",
    "        elif(r==3 and c==25):\n",
    "            print(' ',end=' ')\n",
    "        elif(r==3 and c==26):\n",
    "            print(' ',end=' ')\n",
    "        else:\n",
    "            print('@',end=' ')\n",
    "    print()       \n",
    "                        \n",
    "        \n"
   ]
  },
  {
   "cell_type": "code",
   "execution_count": 3,
   "id": "e1d17e2f",
   "metadata": {},
   "outputs": [
    {
     "name": "stdout",
     "output_type": "stream",
     "text": [
      "[1, 3, 5, 6, 8]\n",
      "[(1, 3), (3, 7), (5, 4), (6, 1), (8, 5)]\n"
     ]
    }
   ],
   "source": [
    "#Q1. Write a Python script to sort (ascending and descending) a dictionary by value\n",
    "dic={1:3,6:1,3:7,8:5,5:4}\n",
    "c=sorted(dic)\n",
    "print(c)\n",
    "d=sorted(dic.items())\n",
    "print(d)\n",
    "# e={k: v for k,v in sorted(dic.items())}\n",
    "# print(e)\n",
    "# l={k: v for k,v in sorted(dic.items(),key= lambda v: v[1])}\n",
    "# print(l)"
   ]
  },
  {
   "cell_type": "code",
   "execution_count": 16,
   "id": "78b82061",
   "metadata": {},
   "outputs": [
    {
     "name": "stdout",
     "output_type": "stream",
     "text": [
      "{'name': 'gagan', 'branch': 'cse', 'state': 'bihar'}\n"
     ]
    }
   ],
   "source": [
    "#Q2. Write a Python script to add a key to a dictionary.\n",
    "#v=(input(\"enter a key: \"))\n",
    "#v1=(input(\"enter a value: \"))\n",
    "u={\"name\":\"gagan\",\"branch\":\"cse\"}\n",
    "v={\"state\":\"bihar\"}\n",
    "u.update(v)\n",
    "\n",
    "print(u)"
   ]
  },
  {
   "cell_type": "code",
   "execution_count": null,
   "id": "c92aade1",
   "metadata": {},
   "outputs": [],
   "source": []
  }
 ],
 "metadata": {
  "kernelspec": {
   "display_name": "Python 3 (ipykernel)",
   "language": "python",
   "name": "python3"
  },
  "language_info": {
   "codemirror_mode": {
    "name": "ipython",
    "version": 3
   },
   "file_extension": ".py",
   "mimetype": "text/x-python",
   "name": "python",
   "nbconvert_exporter": "python",
   "pygments_lexer": "ipython3",
   "version": "3.9.12"
  }
 },
 "nbformat": 4,
 "nbformat_minor": 5
}
