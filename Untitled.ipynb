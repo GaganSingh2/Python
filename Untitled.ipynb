{
 "cells": [
  {
   "cell_type": "code",
   "execution_count": 30,
   "id": "8c30fb20",
   "metadata": {},
   "outputs": [
    {
     "name": "stdout",
     "output_type": "stream",
     "text": [
      "[1, 5, 8, 'bipul', 5]\n",
      "[5, 8, 'bipul']\n"
     ]
    }
   ],
   "source": [
    "a=[1,5,8,\"bipul\",5,]\n",
    "print(a)\n",
    "#list slicing\n",
    "#print(len(a))\n",
    "#print(a[2:])\n",
    "#print(a[0:5])\n",
    "print(a[-4:-1])"
   ]
  },
  {
   "cell_type": "code",
   "execution_count": 2,
   "id": "375a72cd",
   "metadata": {},
   "outputs": [
    {
     "name": "stdout",
     "output_type": "stream",
     "text": [
      "4\n"
     ]
    }
   ],
   "source": [
    "a=20\n",
    "a&=6\n",
    "print(a)"
   ]
  },
  {
   "cell_type": "code",
   "execution_count": 2,
   "id": "4b981b76",
   "metadata": {},
   "outputs": [
    {
     "name": "stdout",
     "output_type": "stream",
     "text": [
      "enter a num: 23\n",
      "enter a num: 54\n",
      "enter a num: 22\n",
      "enter a num: 32\n",
      "54 is greatest num\n"
     ]
    }
   ],
   "source": [
    "num1=int(input(\"enter a num: \"))\n",
    "num2=int(input(\"enter a num: \"))\n",
    "num3=int(input(\"enter a num: \"))\n",
    "num4=int(input(\"enter a num: \"))\n",
    "\n",
    "if(num1>num4):\n",
    "    f1=num1\n",
    "else:\n",
    "    f1=num4\n",
    "    \n",
    "if(num2>num3):\n",
    "    f2=num2\n",
    "else:\n",
    "    f2=num3\n",
    "    \n",
    "if(f1>f2):\n",
    "    print(f1,\"is greatest num\")\n",
    "else:\n",
    "    print(f2,\"is greatest num\")"
   ]
  },
  {
   "cell_type": "code",
   "execution_count": null,
   "id": "68c6ad11",
   "metadata": {},
   "outputs": [],
   "source": []
  }
 ],
 "metadata": {
  "kernelspec": {
   "display_name": "Python 3 (ipykernel)",
   "language": "python",
   "name": "python3"
  },
  "language_info": {
   "codemirror_mode": {
    "name": "ipython",
    "version": 3
   },
   "file_extension": ".py",
   "mimetype": "text/x-python",
   "name": "python",
   "nbconvert_exporter": "python",
   "pygments_lexer": "ipython3",
   "version": "3.9.12"
  }
 },
 "nbformat": 4,
 "nbformat_minor": 5
}
