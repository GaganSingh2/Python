{
 "cells": [
  {
   "cell_type": "code",
   "execution_count": 3,
   "id": "04fedfd5",
   "metadata": {},
   "outputs": [
    {
     "name": "stdout",
     "output_type": "stream",
     "text": [
      "gAgAN\n"
     ]
    }
   ],
   "source": [
    "a=\"GaGan\"\n",
    "print(a.swapcase())"
   ]
  },
  {
   "cell_type": "code",
   "execution_count": 8,
   "id": "65bfa177",
   "metadata": {},
   "outputs": [
    {
     "name": "stdout",
     "output_type": "stream",
     "text": [
      "enter the index num : 3\n",
      "enter the name: gagan\n",
      "['gagan', 'vishal', 'pawan', 'gagan', 'akki']\n"
     ]
    }
   ],
   "source": [
    "list=[\"gagan\",\"vishal\",\"pawan\",\"akki\"]\n",
    "b1=int(input(\"enter the index num : \"))\n",
    "b2=str(input(\"enter the name: \"))\n",
    "list.insert(b1,b2)\n",
    "print(list)"
   ]
  },
  {
   "cell_type": "code",
   "execution_count": 13,
   "id": "b413c09f",
   "metadata": {},
   "outputs": [],
   "source": [
    "list2=[\"gagan\",\"pawan\"]\n",
    "del(list2)\n",
    "#print(list2)"
   ]
  },
  {
   "cell_type": "code",
   "execution_count": 1,
   "id": "6faf1fa5",
   "metadata": {},
   "outputs": [
    {
     "name": "stdout",
     "output_type": "stream",
     "text": [
      "enter a index num: 2\n",
      "enter a name to insert the given list: ninja\n",
      "['gagan', 'pawan', 'ninja', 'vishal', 'akki', 'anuj', 'pranav']\n"
     ]
    }
   ],
   "source": [
    "l1=[\"gagan\",\"pawan\",\"vishal\",\"akki\",\"anuj\",\"pranav\"]\n",
    "u1=int(input(\"enter a index num: \"))\n",
    "u2=str(input(\"enter a name to insert the given list: \"))\n",
    "l1.insert(u1,u2)\n",
    "print(l1)"
   ]
  }
 ],
 "metadata": {
  "kernelspec": {
   "display_name": "Python 3 (ipykernel)",
   "language": "python",
   "name": "python3"
  },
  "language_info": {
   "codemirror_mode": {
    "name": "ipython",
    "version": 3
   },
   "file_extension": ".py",
   "mimetype": "text/x-python",
   "name": "python",
   "nbconvert_exporter": "python",
   "pygments_lexer": "ipython3",
   "version": "3.9.12"
  }
 },
 "nbformat": 4,
 "nbformat_minor": 5
}
