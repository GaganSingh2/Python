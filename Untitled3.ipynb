{
 "cells": [
  {
   "cell_type": "code",
   "execution_count": 1,
   "id": "144e6eac",
   "metadata": {},
   "outputs": [
    {
     "name": "stdout",
     "output_type": "stream",
     "text": [
      "Defaulting to user installation because normal site-packages is not writeable\n",
      "Requirement already satisfied: wikipedia in c:\\users\\gks02\\appdata\\roaming\\python\\python39\\site-packages (1.4.0)\n",
      "Requirement already satisfied: beautifulsoup4 in c:\\programdata\\anaconda3\\lib\\site-packages (from wikipedia) (4.11.1)\n",
      "Requirement already satisfied: requests<3.0.0,>=2.0.0 in c:\\programdata\\anaconda3\\lib\\site-packages (from wikipedia) (2.27.1)\n",
      "Requirement already satisfied: urllib3<1.27,>=1.21.1 in c:\\programdata\\anaconda3\\lib\\site-packages (from requests<3.0.0,>=2.0.0->wikipedia) (1.26.9)\n",
      "Requirement already satisfied: charset-normalizer~=2.0.0 in c:\\programdata\\anaconda3\\lib\\site-packages (from requests<3.0.0,>=2.0.0->wikipedia) (2.0.4)\n",
      "Requirement already satisfied: certifi>=2017.4.17 in c:\\programdata\\anaconda3\\lib\\site-packages (from requests<3.0.0,>=2.0.0->wikipedia) (2021.10.8)\n",
      "Requirement already satisfied: idna<4,>=2.5 in c:\\programdata\\anaconda3\\lib\\site-packages (from requests<3.0.0,>=2.0.0->wikipedia) (3.3)\n",
      "Requirement already satisfied: soupsieve>1.2 in c:\\programdata\\anaconda3\\lib\\site-packages (from beautifulsoup4->wikipedia) (2.3.1)\n"
     ]
    }
   ],
   "source": [
    "!pip install wikipedia"
   ]
  },
  {
   "cell_type": "code",
   "execution_count": null,
   "id": "9304f055",
   "metadata": {},
   "outputs": [],
   "source": [
    "from tkinter import *\n",
    "import wikipedia \n",
    "window=Tk()\n",
    "window.title(\"SEARCHING BAR\")\n",
    "window.minsize(width=300,height=250)\n",
    "def get_data():\n",
    "    entry_value=e1.get()\n",
    "    ans.delete(1.0,END)\n",
    "    try:\n",
    "        ans_val=wikipedia.summary(entry_value)\n",
    "        ans.insert(INSERT,ans_val)\n",
    "    except:\n",
    "        ans.insert(INSERT,\"please enter proper keyword\")\n",
    "frame1=Frame(window)\n",
    "e1=Entry(frame1)\n",
    "e1.pack()\n",
    "btn=Button(frame1,text=\"search\",command=get_data)\n",
    "btn.pack()\n",
    "frame1.pack(side=TOP)\n",
    "frame2=Frame(window)\n",
    "scroll=Scrollbar(frame2)\n",
    "scroll.pack(side=RIGHT,fill=Y)\n",
    "ans=Text(frame2,width=30,height=10,yscrollcommand=scroll.set)\n",
    "scroll.config(command=ans.yview)\n",
    "ans.pack()\n",
    "frame2.pack()\n",
    "window.mainloop()\n",
    "\n",
    "    "
   ]
  },
  {
   "cell_type": "code",
   "execution_count": null,
   "id": "0e93cb68",
   "metadata": {},
   "outputs": [],
   "source": []
  }
 ],
 "metadata": {
  "kernelspec": {
   "display_name": "Python 3 (ipykernel)",
   "language": "python",
   "name": "python3"
  },
  "language_info": {
   "codemirror_mode": {
    "name": "ipython",
    "version": 3
   },
   "file_extension": ".py",
   "mimetype": "text/x-python",
   "name": "python",
   "nbconvert_exporter": "python",
   "pygments_lexer": "ipython3",
   "version": "3.9.12"
  }
 },
 "nbformat": 4,
 "nbformat_minor": 5
}
