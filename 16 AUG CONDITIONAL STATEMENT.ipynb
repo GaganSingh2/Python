{
 "cells": [
  {
   "cell_type": "markdown",
   "id": "8896c804",
   "metadata": {},
   "source": [
    "# CONDITIONAL STATEMENT\n",
    "#CONDITIONAL STATEMENT\n",
    "#SYNTAX\n",
    "#if condition:\n",
    "     #body\n",
    "#elif:\n",
    "    #body\n",
    "#else:\n",
    "    #body\n",
    "    "
   ]
  },
  {
   "cell_type": "code",
   "execution_count": 5,
   "id": "6b972067",
   "metadata": {},
   "outputs": [
    {
     "name": "stdout",
     "output_type": "stream",
     "text": [
      "a is equal to 10\n"
     ]
    }
   ],
   "source": [
    "#SINGLE STATEMENT SUITS\n",
    "a=10\n",
    "if a==10:\n",
    "    print('a is equal to 10')\n",
    "# else:\n",
    "#     print('invalid')"
   ]
  },
  {
   "cell_type": "code",
   "execution_count": 2,
   "id": "4fcbfb68",
   "metadata": {},
   "outputs": [
    {
     "name": "stdout",
     "output_type": "stream",
     "text": [
      "enter any value: python\n",
      "welcom to our class\n"
     ]
    }
   ],
   "source": [
    "#WIRTE A EXAMPLE TO CONDITIONAL \n",
    "user=(input(\"enter any value: \"))\n",
    "if user==\"python\":\n",
    "    print('welcom to our class')\n",
    "elif user==\"java\":\n",
    "    print('welcome to our new')\n",
    "else:\n",
    "    print('your class is off')"
   ]
  },
  {
   "cell_type": "code",
   "execution_count": 8,
   "id": "64918bf3",
   "metadata": {},
   "outputs": [
    {
     "name": "stdout",
     "output_type": "stream",
     "text": [
      "enter any amount: 350\n",
      "buy a watch\n"
     ]
    }
   ],
   "source": [
    "#WRITE A VANDDING MACHINE\n",
    "user1=int(input(\"enter any amount: \"))\n",
    "if user1==500:\n",
    "    print('buy a shoes')\n",
    "elif user1==400:\n",
    "    print('buy a T-shirt')\n",
    "elif user1==300:\n",
    "    print('buy a toy')\n",
    "if user1==350:\n",
    "    print('buy a watch')\n",
    "elif user1==200:\n",
    "    print('buy a phone')\n",
    "elif user1==100:\n",
    "    print('buy a car')\n",
    "else:\n",
    "    print('buy a ice-cream')"
   ]
  },
  {
   "cell_type": "code",
   "execution_count": 2,
   "id": "4956d93f",
   "metadata": {},
   "outputs": [
    {
     "name": "stdout",
     "output_type": "stream",
     "text": [
      "enter a num: 5\n",
      "it is odd num\n"
     ]
    }
   ],
   "source": [
    "#find a even or odd\n",
    "u=int(input('enter a num: '))\n",
    "if u%2==0:\n",
    "    print('it is a even num')\n",
    "else:\n",
    "    print('it is odd num')"
   ]
  },
  {
   "cell_type": "code",
   "execution_count": 8,
   "id": "fd6ef58f",
   "metadata": {},
   "outputs": [
    {
     "name": "stdout",
     "output_type": "stream",
     "text": [
      "enter any alphabet: e\n",
      "it is a vowel\n"
     ]
    }
   ],
   "source": [
    "#find a vowels and alphabets\n",
    "u=str(input(\"enter any alphabet: \"))\n",
    "if u==\"a\":\n",
    "    print('it is a vowel')\n",
    "elif u==\"e\":\n",
    "    print('it is a vowel')\n",
    "elif u==\"i\":\n",
    "    print('it is a vowel')\n",
    "elif u==\"o\":\n",
    "    print('it is a vowel')\n",
    "elif u==\"u\":\n",
    "    print('it is a vowel')\n",
    "else:\n",
    "    print('it is a consonent')"
   ]
  },
  {
   "cell_type": "code",
   "execution_count": 6,
   "id": "2a76870c",
   "metadata": {},
   "outputs": [
    {
     "name": "stdout",
     "output_type": "stream",
     "text": [
      "Outside A\n"
     ]
    }
   ],
   "source": [
    "#NESTED STATEMENT \n",
    "a=10\n",
    "b=20\n",
    "if a==30:\n",
    "    if b==20:\n",
    "        print(\"Inside B\")\n",
    "    else:\n",
    "        print(\"Inside B\")\n",
    "    \n",
    "else:\n",
    "    print(\"Outside A\")"
   ]
  },
  {
   "cell_type": "code",
   "execution_count": 1,
   "id": "6a66546f",
   "metadata": {},
   "outputs": [
    {
     "name": "stdout",
     "output_type": "stream",
     "text": [
      "enter a num: 23\n",
      "enter a num: 4\n",
      "enter a num: 3\n",
      "enter a num: 243\n",
      "243 is greatest num\n"
     ]
    }
   ],
   "source": [
    "#FIND A GREATEST VALUE OF FOUR VALUES ENTERED BY THE USER\n",
    "num1=int(input(\"enter a num: \"))\n",
    "num2=int(input(\"enter a num: \"))\n",
    "num3=int(input(\"enter a num: \"))\n",
    "num4=int(input(\"enter a num: \"))\n",
    "\n",
    "if(num1>num4):\n",
    "    f1=num1\n",
    "else:\n",
    "    f1=num4\n",
    "    \n",
    "if(num2>num3):\n",
    "    f2=num2\n",
    "else:\n",
    "    f2=num3\n",
    "    \n",
    "if(f1>f2):\n",
    "    print(f1,\"is greatest num\")\n",
    "else:\n",
    "    print(f2,\"is greatest num\")"
   ]
  },
  {
   "cell_type": "code",
   "execution_count": 11,
   "id": "0deae408",
   "metadata": {},
   "outputs": [
    {
     "name": "stdout",
     "output_type": "stream",
     "text": [
      "enter the marks of python: 45\n",
      "enter the marks of c: 39\n",
      "enter the marks of java: 40\n",
      "Congratulation! you are pass this exam.\n"
     ]
    }
   ],
   "source": [
    "#WRIE A PROGRAM FIND OUT WHETHER A STUDENT IS PASS OR FAIL.\n",
    "python=int(input(\"enter the marks of python: \"))\n",
    "c=int(input(\"enter the marks of c: \"))\n",
    "java=int(input(\"enter the marks of java: \"))\n",
    "if(python<33 or c<33 or java<33):\n",
    "    print(\"you are failed this exam because your marks less than 33 in maximum one sub.\")\n",
    "elif(python+c+java)/3<40:\n",
    "    print(\"you are failed this exam because your total marks are less than 40%.\")\n",
    "else:\n",
    "    print(\"Congratulation! you are pass this exam.\")"
   ]
  },
  {
   "cell_type": "code",
   "execution_count": 18,
   "id": "91534fca",
   "metadata": {},
   "outputs": [
    {
     "name": "stdout",
     "output_type": "stream",
     "text": [
      "enter a text: hey bro video is very nice plzz subscribe this channal\n",
      "this text is a spam.\n"
     ]
    }
   ],
   "source": [
    "#A SPAM COMMENT IS DEFINED AS A TEXT CONTAINING FOLLOWING KEYWORD:- \"MAKE A LOT OF MONEY\",\"BUY NOW\",\"SUBSCRIBE THIS\",\n",
    "#\"CLICK THIS\".WRITE A PROGRAM TO DETECT THESE SPAMS.\n",
    "text=(input(\"enter a text: \"))\n",
    "if(\"make a lot of money\"in text):\n",
    "    spam=True\n",
    "elif(\"buy now\"in text):\n",
    "    spam=True\n",
    "elif(\"subscribe this\"in text):\n",
    "    spam=True\n",
    "elif(\"click this\"in text):\n",
    "    spam=True\n",
    "else:\n",
    "    spam=False\n",
    "\n",
    "if(spam):\n",
    "    print(\"this text is a spam.\")\n",
    "else:\n",
    "    print(\"this text is not spam.\")"
   ]
  },
  {
   "cell_type": "code",
   "execution_count": 67,
   "id": "240b108a",
   "metadata": {},
   "outputs": [
    {
     "name": "stdout",
     "output_type": "stream",
     "text": [
      "enter a username: addafdffdfdffdf\n",
      "this user name is less than 10 character\n"
     ]
    }
   ],
   "source": [
    "#\n",
    "cha=(input(\"enter a username: \"))\n",
    "# if(\"one username\"in cha):\n",
    "#     less=True\n",
    "# elif(\"two username\"in cha):\n",
    "#     less=True\n",
    "# elif(\"third username\"in cha):\n",
    "#     less=True    \n",
    "# elif(\"four username\"in cha):\n",
    "#     less=True\n",
    "# elif(\"five username\"in cha):\n",
    "#     less=True    \n",
    "# elif(\"six username\"in cha):\n",
    "#     less=True\n",
    "# elif(\"seven username\"in cha):\n",
    "#     less=True\n",
    "# elif(\"eight username\"in cha):\n",
    "#     less=True\n",
    "# elif(\"nine username\"in cha):\n",
    "#     less=True\n",
    "# elif(\"ten username\"in cha):\n",
    "#     less=True\n",
    "# else:\n",
    "#     less=False\n",
    "\n",
    "if(less<10):\n",
    "    print(\"this user name is less than 10 character\")\n",
    "else:\n",
    "    print(\"this user name is greater than 10 character\")\n",
    "    "
   ]
  },
  {
   "cell_type": "code",
   "execution_count": 70,
   "id": "448e7aac",
   "metadata": {},
   "outputs": [
    {
     "name": "stdout",
     "output_type": "stream",
     "text": [
      "enter a name: pranav\n",
      "this name is present is list\n"
     ]
    }
   ],
   "source": [
    "#write a program which find out whether a given name is present in a list or not.\n",
    "l1=[\"gagan\",\"akki\",\"pawan\",\"pranav\",\"tej\"]\n",
    "name=(input(\"enter a name: \"))\n",
    "if(name in l1):\n",
    "    print(\"this name is present is list\")\n",
    "else:\n",
    "    print(\"this name is not present in list\")\n",
    "    "
   ]
  },
  {
   "cell_type": "code",
   "execution_count": 80,
   "id": "082d2e9b",
   "metadata": {},
   "outputs": [
    {
     "name": "stdout",
     "output_type": "stream",
     "text": [
      "enter a marks: 49\n",
      "F\n"
     ]
    }
   ],
   "source": [
    "#WARITE A PROGRAM TO CALCULATE THE GRADE OF A STUDENT FROM HIS MARKS FROM  THE FOLLOWING SCHEME \n",
    "mark=int(input(\"enter a marks: \"))\n",
    "if mark>=90:\n",
    "    grade=\"Ex\"\n",
    "elif mark>=80:\n",
    "    grade=\"A\"\n",
    "elif mark>=70:\n",
    "    grade=\"B\"\n",
    "elif mark>=60:\n",
    "    grade=\"C\"\n",
    "elif mark>=50:\n",
    "    grade=\"D\"\n",
    "else:\n",
    "    grade=\"F\"\n",
    "\n",
    "if(grade):\n",
    "    print(grade)\n",
    "else:\n",
    "    print(grade)"
   ]
  },
  {
   "cell_type": "code",
   "execution_count": 84,
   "id": "208d1700",
   "metadata": {},
   "outputs": [
    {
     "name": "stdout",
     "output_type": "stream",
     "text": [
      "enter the post:harrY\n",
      "this post is talking about harry\n"
     ]
    }
   ],
   "source": [
    "#WRITE A PROGRAM TO FIND OUT WHETHER A GIVEN POST IS TALKING ABOUT \"HARRY\" OR NOT\n",
    "\n",
    "a=(input(\"enter the post:\"))\n",
    "if a==\"HARRY\":\n",
    "    post=True\n",
    "elif a==\"hARRY\":\n",
    "    post=True\n",
    "elif a==\"haRRY\":\n",
    "    post=True\n",
    "elif a==\"harRY\":\n",
    "    post=True\n",
    "elif a==\"harrY\":\n",
    "    post=True\n",
    "elif a==\"harry\":\n",
    "    post=True\n",
    "elif a==\"HARRy\":\n",
    "    post=True\n",
    "elif a==\"hARry\":\n",
    "    post=True\n",
    "elif a==\"hArry\":\n",
    "    post=True\n",
    "else:\n",
    "    post=False\n",
    "    \n",
    "    \n",
    "if(post):\n",
    "    print(\"this post is talking about harry\")\n",
    "else:\n",
    "    print(\"this post is not talking about harry\")\n",
    "    \n",
    "                \n",
    "                    "
   ]
  },
  {
   "cell_type": "code",
   "execution_count": null,
   "id": "597ef24d",
   "metadata": {},
   "outputs": [],
   "source": []
  }
 ],
 "metadata": {
  "kernelspec": {
   "display_name": "Python 3 (ipykernel)",
   "language": "python",
   "name": "python3"
  },
  "language_info": {
   "codemirror_mode": {
    "name": "ipython",
    "version": 3
   },
   "file_extension": ".py",
   "mimetype": "text/x-python",
   "name": "python",
   "nbconvert_exporter": "python",
   "pygments_lexer": "ipython3",
   "version": "3.9.12"
  }
 },
 "nbformat": 4,
 "nbformat_minor": 5
}
