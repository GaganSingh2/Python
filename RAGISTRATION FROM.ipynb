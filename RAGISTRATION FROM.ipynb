{
 "cells": [
  {
   "cell_type": "code",
   "execution_count": 1,
   "id": "e2dc34e8",
   "metadata": {},
   "outputs": [
    {
     "name": "stdout",
     "output_type": "stream",
     "text": [
      "registered\n"
     ]
    }
   ],
   "source": [
    "from tkinter import*\n",
    "root=Tk()\n",
    "root.title(\"Registration\")\n",
    "root.geometry(\"600x450\")\n",
    "root.resizable(0,0)\n",
    "def register():\n",
    "    print(\"registered\")\n",
    "Label(root,text=\"Python Registration Form\",font=\"arial 25\").pack(pady=50)\n",
    "Label(text=\"Name\",font=23).place(x=100,y=150)\n",
    "Label(text=\"Phone\",font=23).place(x=100,y=200)\n",
    "Label(text=\"Gender\",font=23).place(x=100,y=250)\n",
    "Label(text=\"Email\",font=23).place(x=100,y=300)\n",
    "#entry\n",
    "nameValue=StringVar()\n",
    "phoneValue=StringVar()\n",
    "genderValue=StringVar()\n",
    "emailValue=StringVar()\n",
    "nameEntry=Entry(root,textvariable=nameValue,width=30,bd=2,font=20)\n",
    "phoneEntry=Entry(root,textvariable=phoneValue,width=30,bd=2,font=20)\n",
    "genderEntry=Entry(root,textvariable=genderValue,width=30,bd=2,font=20)\n",
    "emailEntry=Entry(root,textvariable=emailValue,width=30,bd=2,font=20)\n",
    "nameEntry.place(x=200,y=150)\n",
    "phoneEntry.place(x=200,y=200)\n",
    "genderEntry.place(x=200,y=250)\n",
    "emailEntry.place(x=200,y=300)\n",
    "#check button\n",
    "checkValues=IntVar\n",
    "checkbtn=Checkbutton(text=\"remember me?\",variable=checkValues)\n",
    "checkbtn.place(x=200,y=340)\n",
    "Button(text=\"Register\",font=20,width=11,height=2,command=register).place(x=250,y=370)\n",
    "\n",
    "root.mainloop()"
   ]
  },
  {
   "cell_type": "code",
   "execution_count": null,
   "id": "a4ced14f",
   "metadata": {},
   "outputs": [],
   "source": []
  }
 ],
 "metadata": {
  "kernelspec": {
   "display_name": "Python 3 (ipykernel)",
   "language": "python",
   "name": "python3"
  },
  "language_info": {
   "codemirror_mode": {
    "name": "ipython",
    "version": 3
   },
   "file_extension": ".py",
   "mimetype": "text/x-python",
   "name": "python",
   "nbconvert_exporter": "python",
   "pygments_lexer": "ipython3",
   "version": "3.9.12"
  }
 },
 "nbformat": 4,
 "nbformat_minor": 5
}
