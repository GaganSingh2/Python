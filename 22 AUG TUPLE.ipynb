{
 "cells": [
  {
   "cell_type": "markdown",
   "id": "c3d1b887",
   "metadata": {},
   "source": [
    "# TUPLE:- ORDERED , NOCHANGABLE, ALLOW DUPLICATE"
   ]
  },
  {
   "cell_type": "code",
   "execution_count": 1,
   "id": "8e033849",
   "metadata": {},
   "outputs": [
    {
     "name": "stdout",
     "output_type": "stream",
     "text": [
      "('gagan', 'vishal', 'pawan')\n",
      "<class 'tuple'>\n"
     ]
    }
   ],
   "source": [
    "#PRINT A TUPLE AND IT'S TYPE\n",
    "tup=(\"gagan\",\"vishal\",\"pawan\")\n",
    "print(tup)\n",
    "print(type(tup))"
   ]
  },
  {
   "cell_type": "code",
   "execution_count": 6,
   "id": "7f4f82f3",
   "metadata": {},
   "outputs": [
    {
     "name": "stdout",
     "output_type": "stream",
     "text": [
      "['gagan', 'vishal', 'pawan', 'gagan']\n",
      "('gagan', 'pranav', 'vishal', 'pawan', 'gagan')\n"
     ]
    }
   ],
   "source": [
    "#TUPLE DOESN'T CHANGABLE THAN CONVERT THE LIST AND CHANGE THE ITEM AND THAN AGAIN CONVERT TUPLE\n",
    "tup1=(\"gagan\",\"vishal\",\"pawan\",\"gagan\")\n",
    "l=list(tup1)\n",
    "print(l)\n",
    "l.insert(1,\"pranav\")\n",
    "tup1=tuple(l)\n",
    "print(tup1)"
   ]
  },
  {
   "cell_type": "code",
   "execution_count": 21,
   "id": "d2ed2bca",
   "metadata": {},
   "outputs": [
    {
     "name": "stdout",
     "output_type": "stream",
     "text": [
      "[1, 2, 3, 'gagan']\n",
      "[1, 2, 3, 'gagan']\n",
      "[1, 2, 3, 'gagan', 1, 2, 3, 'gagan']\n",
      "(1, 2, 3, 'gagan', 1, 2, 3, 'gagan')\n",
      "(1, 2)\n"
     ]
    }
   ],
   "source": [
    "tup2=(1,2,3,\"gagan\")\n",
    "li=(1,2,3,\"gagan\")\n",
    "l=list(tup2)\n",
    "l1=list(li)\n",
    "print(l)\n",
    "print(l1)\n",
    "l.extend(l1)\n",
    "print(l)\n",
    "tup2=tuple(l)\n",
    "print(tup2)\n",
    "print(tup2[:2])\n",
    "\n"
   ]
  },
  {
   "cell_type": "code",
   "execution_count": 12,
   "id": "3a6e28c6",
   "metadata": {},
   "outputs": [
    {
     "name": "stdout",
     "output_type": "stream",
     "text": [
      "vishal\n",
      "pranav\n",
      "('gagan', 'vishal', 'pawan')\n",
      "('gagan', 'pawan', 'pranav')\n",
      "('gagan', 'vishal', 'pawan', 'tushank')\n",
      "('pranav', 'pawan', 'gagan')\n",
      "('gagan', 'vishal', 'pawan', 'tushank', 'pranav')\n",
      "('pawan', 'tushank', 'pranav')\n"
     ]
    }
   ],
   "source": [
    "#INDEXING\n",
    "tu=(\"gagan\",\"vishal\",\"pawan\",\"tushank\",\"pranav\")\n",
    "print(tu[1])\n",
    "print(tu[4])\n",
    "print(tu[0:3])\n",
    "print(tu[0:5:2])\n",
    "print(tu[-5:-1])\n",
    "print(tu[-1:-6:-2])\n",
    "print(tu[:5])\n",
    "print(tu[2:])"
   ]
  },
  {
   "cell_type": "code",
   "execution_count": 15,
   "id": "d98fa4fb",
   "metadata": {},
   "outputs": [
    {
     "name": "stdout",
     "output_type": "stream",
     "text": [
      "['gagan', 'vishal', 'pawan', 'pranav', 'dida']\n",
      "['gagan', 'tej', 'vishal', 'pawan', 'pranav', 'dida']\n",
      "('gagan', 'tej', 'vishal', 'pawan', 'pranav', 'dida')\n"
     ]
    }
   ],
   "source": [
    "#ENTER A NEW VALUE USE OF INSERT FUNCTION\n",
    "tuu=(\"gagan\",\"vishal\",\"pawan\",\"pranav\",\"dida\")\n",
    "g=list(tuu)\n",
    "print(g)\n",
    "g.insert(1,\"tej\")\n",
    "print(g)\n",
    "tuu=tuple(g)\n",
    "print(tuu)"
   ]
  },
  {
   "cell_type": "code",
   "execution_count": 19,
   "id": "b47ec188",
   "metadata": {},
   "outputs": [
    {
     "name": "stdout",
     "output_type": "stream",
     "text": [
      "['gagan', 'pawan', 'pranav', 'dida']\n",
      "['gagan', 'pawan', 'pranav', 'dida', 'priti']\n",
      "('gagan', 'pawan', 'pranav', 'dida', 'priti')\n"
     ]
    }
   ],
   "source": [
    "#USE OF APPEND FUNCTION\n",
    "tuuu=(\"gagan\",\"pawan\",\"pranav\",\"dida\")\n",
    "h=list(tuuu)\n",
    "print(h)\n",
    "h.append(\"priti\")\n",
    "print(h)\n",
    "tuuu=tuple(h)\n",
    "print(tuuu)"
   ]
  },
  {
   "cell_type": "code",
   "execution_count": 22,
   "id": "921d415a",
   "metadata": {},
   "outputs": [
    {
     "name": "stdout",
     "output_type": "stream",
     "text": [
      "['gagan', 'pawan', 'pranav', 'dida']\n",
      "('gagan', 'pawan', 'pranav')\n"
     ]
    }
   ],
   "source": [
    "#USE OF POP FUNCTION TO DELETE VALUE\n",
    "tuuuu=(\"gagan\",\"pawan\",\"pranav\",\"dida\")\n",
    "i=list(tuuuu)\n",
    "print(i)\n",
    "i.pop()#WITHOUT GIVEN INDEX NUM POP DELETE A BYDEFAULT LAST VALUE OF THE TUPLE\n",
    "tuuuu=tuple(i)\n",
    "print(tuuuu)"
   ]
  },
  {
   "cell_type": "code",
   "execution_count": 23,
   "id": "0f215b36",
   "metadata": {},
   "outputs": [
    {
     "name": "stdout",
     "output_type": "stream",
     "text": [
      "['gagan', 'pawan', 'pranav', 'dida']\n",
      "('gagan', 'pranav', 'dida')\n"
     ]
    }
   ],
   "source": [
    "#USE OF POP FUNCTION TO DELETE VALUE\n",
    "tuuuu1=(\"gagan\",\"pawan\",\"pranav\",\"dida\")\n",
    "i=list(tuuuu1)\n",
    "print(i)\n",
    "i.pop(1)# GIVEN INDEX NUM POP DELETE A  VALUE of according to indexing in  THE TUPLE\n",
    "tuuuu1=tuple(i)\n",
    "print(tuuuu1)"
   ]
  },
  {
   "cell_type": "code",
   "execution_count": 27,
   "id": "452fba16",
   "metadata": {},
   "outputs": [
    {
     "name": "stdout",
     "output_type": "stream",
     "text": [
      "['gagan', 'pawan', 'dida', 'tej', 'akki']\n",
      "('gagan', 'pawan', 'dida', 'tej')\n"
     ]
    }
   ],
   "source": [
    "#USE OF REMOVE FUNCTION DELETE A VALUE TO THE TUPLE\n",
    "gu=(\"gagan\",\"pawan\",\"dida\",\"tej\",\"akki\")\n",
    "r=list(gu)\n",
    "print(r)\n",
    "r.remove(\"akki\")# NOT GIVEN INDEX NUM THAN GIVEN VALUE NAME \n",
    "gu=tuple(r)\n",
    "print(gu)"
   ]
  },
  {
   "cell_type": "code",
   "execution_count": 2,
   "id": "b7abebbf",
   "metadata": {},
   "outputs": [
    {
     "name": "stdout",
     "output_type": "stream",
     "text": [
      "9\n",
      "(8,)\n"
     ]
    }
   ],
   "source": [
    "t=(9)#wrong way to defined a tuple with single element\n",
    "t1=(8,)#right way to defined a tuple with single element seperate a comma(,)\n",
    "print(t)\n",
    "print(t1)"
   ]
  },
  {
   "cell_type": "code",
   "execution_count": 1,
   "id": "eb489fe7",
   "metadata": {},
   "outputs": [
    {
     "name": "stdout",
     "output_type": "stream",
     "text": [
      "<class 'tuple'>\n"
     ]
    }
   ],
   "source": [
    "#EMPTY TUPLE\n",
    "n=()\n",
    "print(type(n))"
   ]
  },
  {
   "cell_type": "code",
   "execution_count": 1,
   "id": "05308219",
   "metadata": {},
   "outputs": [
    {
     "name": "stdout",
     "output_type": "stream",
     "text": [
      "2\n"
     ]
    }
   ],
   "source": [
    "p=(1,2,4,3,5,1,3,2,3)\n",
    "print(p.count(1))"
   ]
  },
  {
   "cell_type": "code",
   "execution_count": 11,
   "id": "a5f3bd51",
   "metadata": {},
   "outputs": [
    {
     "name": "stdout",
     "output_type": "stream",
     "text": [
      "(1, 2, 4, 3, 5, 1, 3, 2, 3)\n",
      "True\n",
      "False\n",
      "False\n",
      "24\n",
      "5\n",
      "1\n",
      "9\n"
     ]
    }
   ],
   "source": [
    "print(p)\n",
    "print(2 in p)\n",
    "print(6 in p)\n",
    "print(5 not in p)\n",
    "print(sum(p))\n",
    "print(max(p))\n",
    "print(min(p))\n",
    "print(len(p))"
   ]
  },
  {
   "cell_type": "code",
   "execution_count": 7,
   "id": "8fcec1fe",
   "metadata": {},
   "outputs": [
    {
     "name": "stdout",
     "output_type": "stream",
     "text": [
      "(1, 2, 4, 3, 5, 1, 3, 2, 3, 1, 2, 4, 3, 5, 1, 3, 2, 3, 1, 2, 4, 3, 5, 1, 3, 2, 3, 1, 2, 4, 3, 5, 1, 3, 2, 3)\n"
     ]
    }
   ],
   "source": [
    "a=p*4\n",
    "print(a)"
   ]
  },
  {
   "cell_type": "code",
   "execution_count": 14,
   "id": "f51d919c",
   "metadata": {},
   "outputs": [
    {
     "name": "stdout",
     "output_type": "stream",
     "text": [
      "['gagan', 'pawan', 'vishal', 'pranav']\n",
      "enter a value: akki\n",
      "['gagan', 'pawan', 'vishal', 'pranav', 'akki']\n",
      "('gagan', 'pawan', 'vishal', 'pranav', 'akki')\n"
     ]
    }
   ],
   "source": [
    "r=(\"gagan\",\"pawan\",\"vishal\",\"pranav\")\n",
    "u=list(r)\n",
    "print(u)\n",
    "o=(input(\"enter a value: \"))\n",
    "u.append(o)\n",
    "print(u)\n",
    "r=tuple(u)\n",
    "print(r)"
   ]
  },
  {
   "cell_type": "code",
   "execution_count": 2,
   "id": "444ceba4",
   "metadata": {},
   "outputs": [
    {
     "ename": "TypeError",
     "evalue": "'tuple' object does not support item assignment",
     "output_type": "error",
     "traceback": [
      "\u001b[1;31m---------------------------------------------------------------------------\u001b[0m",
      "\u001b[1;31mTypeError\u001b[0m                                 Traceback (most recent call last)",
      "Input \u001b[1;32mIn [2]\u001b[0m, in \u001b[0;36m<cell line: 3>\u001b[1;34m()\u001b[0m\n\u001b[0;32m      1\u001b[0m \u001b[38;5;66;03m#CHECKED THAT A TUPLE THAT CANNOT BE CHANGED IN PYTHON\u001b[39;00m\n\u001b[0;32m      2\u001b[0m B\u001b[38;5;241m=\u001b[39m(\u001b[38;5;241m32\u001b[39m,\u001b[38;5;241m43\u001b[39m,\u001b[38;5;241m545\u001b[39m)\n\u001b[1;32m----> 3\u001b[0m B[\u001b[38;5;241m0\u001b[39m]\u001b[38;5;241m=\u001b[39m\u001b[38;5;241m23\u001b[39m\n\u001b[0;32m      4\u001b[0m \u001b[38;5;28mprint\u001b[39m(B)\n",
      "\u001b[1;31mTypeError\u001b[0m: 'tuple' object does not support item assignment"
     ]
    }
   ],
   "source": [
    "#CHECKED THAT A TUPLE THAT CANNOT BE CHANGED IN PYTHON\n",
    "B=(32,43,545)\n",
    "B[0]=23\n",
    "print(B)\n",
    "#DOSENOT ALLOW TO CHANGE THE VALUE IN TUPLE"
   ]
  },
  {
   "cell_type": "code",
   "execution_count": null,
   "id": "03cbd4c6",
   "metadata": {},
   "outputs": [],
   "source": [
    "#WRITE A PROGRAM TO COUNT THE NUMBER OF ZEROS IN FOLLOWING THE TUPL:\n"
   ]
  }
 ],
 "metadata": {
  "kernelspec": {
   "display_name": "Python 3 (ipykernel)",
   "language": "python",
   "name": "python3"
  },
  "language_info": {
   "codemirror_mode": {
    "name": "ipython",
    "version": 3
   },
   "file_extension": ".py",
   "mimetype": "text/x-python",
   "name": "python",
   "nbconvert_exporter": "python",
   "pygments_lexer": "ipython3",
   "version": "3.9.12"
  }
 },
 "nbformat": 4,
 "nbformat_minor": 5
}
