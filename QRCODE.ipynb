{
 "cells": [
  {
   "cell_type": "code",
   "execution_count": 1,
   "id": "b2869039",
   "metadata": {},
   "outputs": [
    {
     "name": "stdout",
     "output_type": "stream",
     "text": [
      "Defaulting to user installation because normal site-packages is not writeable\n",
      "Collecting pyqrcode\n",
      "  Downloading PyQRCode-1.2.1.zip (41 kB)\n",
      "Building wheels for collected packages: pyqrcode\n",
      "  Building wheel for pyqrcode (setup.py): started\n",
      "  Building wheel for pyqrcode (setup.py): finished with status 'done'\n",
      "  Created wheel for pyqrcode: filename=PyQRCode-1.2.1-py3-none-any.whl size=36247 sha256=93f7ea32b8be070a50da29c4187c1c60f85f6afeadd12b1d9a4e0a88538517a3\n",
      "  Stored in directory: c:\\users\\gks02\\appdata\\local\\pip\\cache\\wheels\\da\\75\\c0\\38c7f82750de2725429b6b8571dca254249d73f6c882c5d9b1\n",
      "Successfully built pyqrcode\n",
      "Installing collected packages: pyqrcode\n",
      "Successfully installed pyqrcode-1.2.1\n"
     ]
    }
   ],
   "source": [
    "!pip install pyqrcode"
   ]
  },
  {
   "cell_type": "code",
   "execution_count": 5,
   "id": "c682eade",
   "metadata": {},
   "outputs": [
    {
     "name": "stdout",
     "output_type": "stream",
     "text": [
      "Defaulting to user installation because normal site-packages is not writeable\n",
      "Collecting QRcode\n",
      "  Downloading qrcode-7.3.1.tar.gz (43 kB)\n",
      "Requirement already satisfied: colorama in c:\\programdata\\anaconda3\\lib\\site-packages (from QRcode) (0.4.4)\n",
      "Building wheels for collected packages: QRcode\n",
      "  Building wheel for QRcode (setup.py): started\n",
      "  Building wheel for QRcode (setup.py): finished with status 'done'\n",
      "  Created wheel for QRcode: filename=qrcode-7.3.1-py3-none-any.whl size=40401 sha256=8f418050e98bd52cc571cc3d81d99f7df6c564d0fcc0e4b79f0863dfd8642dcc\n",
      "  Stored in directory: c:\\users\\gks02\\appdata\\local\\pip\\cache\\wheels\\93\\54\\16\\55cec87f8d902ed84b94ab8fdb7e89ae1158c06e130bc83b03\n",
      "Successfully built QRcode\n",
      "Installing collected packages: QRcode\n",
      "Successfully installed QRcode-7.3.1\n"
     ]
    },
    {
     "name": "stderr",
     "output_type": "stream",
     "text": [
      "  WARNING: The script qr.exe is installed in 'C:\\Users\\gks02\\AppData\\Roaming\\Python\\Python39\\Scripts' which is not on PATH.\n",
      "  Consider adding this directory to PATH or, if you prefer to suppress this warning, use --no-warn-script-location.\n"
     ]
    }
   ],
   "source": [
    "!pip install QRcode"
   ]
  },
  {
   "cell_type": "code",
   "execution_count": 8,
   "id": "1c19124b",
   "metadata": {},
   "outputs": [
    {
     "name": "stdout",
     "output_type": "stream",
     "text": [
      "QRCode(content=b'Name:-Gagan \\nDesignation:-software developer \\nContact no:- +91-9162036179', error='H', version=8, mode='binary')\n"
     ]
    }
   ],
   "source": [
    "import pyqrcode \n",
    "from pyqrcode import QRCode\n",
    "\n",
    "g=\"Name:-Gagan \\nDesignation:-software developer \\nContact no:- +91-9162036179\"\n",
    "\n",
    "code=pyqrcode.create(g)\n",
    "code.svg(\"Details.svg\",scale=9)\n",
    "print(code)"
   ]
  },
  {
   "cell_type": "code",
   "execution_count": null,
   "id": "4946afce",
   "metadata": {},
   "outputs": [],
   "source": []
  }
 ],
 "metadata": {
  "kernelspec": {
   "display_name": "Python 3 (ipykernel)",
   "language": "python",
   "name": "python3"
  },
  "language_info": {
   "codemirror_mode": {
    "name": "ipython",
    "version": 3
   },
   "file_extension": ".py",
   "mimetype": "text/x-python",
   "name": "python",
   "nbconvert_exporter": "python",
   "pygments_lexer": "ipython3",
   "version": "3.9.12"
  }
 },
 "nbformat": 4,
 "nbformat_minor": 5
}
