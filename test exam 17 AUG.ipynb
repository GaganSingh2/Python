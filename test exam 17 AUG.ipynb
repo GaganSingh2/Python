{
 "cells": [
  {
   "cell_type": "code",
   "execution_count": 1,
   "id": "65cdf11d",
   "metadata": {},
   "outputs": [
    {
     "name": "stdout",
     "output_type": "stream",
     "text": [
      "enter any num: 4\n",
      "2.0\n",
      "2\n"
     ]
    }
   ],
   "source": [
    "#TEST\n",
    "#Q(1) Wwritee a program to take user input and apply math module methods.\n",
    "# it is a four modules of math\n",
    "# sqrt()\n",
    "# isqrt()\n",
    "# floor()\n",
    "# ceil()\n",
    "#1Q#1\n",
    "u=int(input(\"enter any num: \"))\n",
    "import math\n",
    "z=math.sqrt(u)\n",
    "print(z)\n",
    "#Q1#2\n",
    "z=math.isqrt(u)\n",
    "print(z)\n",
    "\n"
   ]
  },
  {
   "cell_type": "code",
   "execution_count": 8,
   "id": "bc58ba5b",
   "metadata": {},
   "outputs": [
    {
     "name": "stdout",
     "output_type": "stream",
     "text": [
      "enter any num: 3.4\n",
      "3\n",
      "4\n"
     ]
    }
   ],
   "source": [
    "#Q1#3\n",
    "a=float(input(\"enter any num: \"))\n",
    "import math\n",
    "b=math.floor(a)\n",
    "print(b)\n",
    "#Q1#4\n",
    "b=math.ceil(a)\n",
    "print(b)"
   ]
  },
  {
   "cell_type": "code",
   "execution_count": 8,
   "id": "9c639daa",
   "metadata": {},
   "outputs": [
    {
     "name": "stdout",
     "output_type": "stream",
     "text": [
      "('gagan', 'vishal', 'pawan', 'akki', 'naman')\n"
     ]
    }
   ],
   "source": [
    "#Q2 write a program to take user input and print the 5th index value from the user define srting and also reverse the string\n",
    "p=\"gagan\",\"vishal\",\"pawan\",\"akki\",\"naman\",\"pranav\"\n",
    "#x=int(input(\"enter the index value: \"))\n",
    "#print(p[x])\n",
    "a=p[-6:-1]\n",
    "print(a)\n",
    "#STRING:-it is a collection of characters"
   ]
  },
  {
   "cell_type": "code",
   "execution_count": 19,
   "id": "85cbec3e",
   "metadata": {},
   "outputs": [
    {
     "name": "stdout",
     "output_type": "stream",
     "text": [
      "enter any amount: 500\n",
      "buy a game mobile\n"
     ]
    }
   ],
   "source": [
    "#3write a program to make a vending machine use of conditional statement\n",
    "t=int(input(\"enter any amount: \"))\n",
    "if t==1000:\n",
    "    print('buy a new jeans')\n",
    "elif t==800:\n",
    "    print('buy a new T-shirt')\n",
    "elif t==600:\n",
    "    print('buy a toy')\n",
    "elif t==500:\n",
    "    print('buy a game mobile')\n",
    "elif t==300:\n",
    "    print('buy a baby dresss')\n",
    "elif t==200:\n",
    "    print('buy a mouse')\n",
    "else:\n",
    "    print('not enough money')\n",
    "    "
   ]
  },
  {
   "cell_type": "code",
   "execution_count": 20,
   "id": "6d7c12fa",
   "metadata": {},
   "outputs": [
    {
     "name": "stdout",
     "output_type": "stream",
     "text": [
      "56\n"
     ]
    }
   ],
   "source": [
    "#4 write a program to find a maximum of four numbers.\n",
    "l=20,23,3,56\n",
    "print(max(l))"
   ]
  },
  {
   "cell_type": "code",
   "execution_count": 23,
   "id": "c4ec66f0",
   "metadata": {},
   "outputs": [
    {
     "name": "stdout",
     "output_type": "stream",
     "text": [
      "MY NAME IS GAGAN\n",
      "my name is gagan\n"
     ]
    }
   ],
   "source": [
    "#5 write a program to covert string to upper and lower casee\n",
    "#upper case\n",
    "name=\"my NAME is gagan\"\n",
    "print(name.upper())\n",
    "#lower case\n",
    "print(name.lower())"
   ]
  },
  {
   "cell_type": "code",
   "execution_count": null,
   "id": "829ccf11",
   "metadata": {},
   "outputs": [],
   "source": []
  }
 ],
 "metadata": {
  "kernelspec": {
   "display_name": "Python 3 (ipykernel)",
   "language": "python",
   "name": "python3"
  },
  "language_info": {
   "codemirror_mode": {
    "name": "ipython",
    "version": 3
   },
   "file_extension": ".py",
   "mimetype": "text/x-python",
   "name": "python",
   "nbconvert_exporter": "python",
   "pygments_lexer": "ipython3",
   "version": "3.9.12"
  }
 },
 "nbformat": 4,
 "nbformat_minor": 5
}
