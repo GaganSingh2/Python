{
 "cells": [
  {
   "cell_type": "markdown",
   "id": "9e31356f",
   "metadata": {},
   "source": [
    "## FILE I/O\n"
   ]
  },
  {
   "cell_type": "code",
   "execution_count": 1,
   "id": "3b883ab5",
   "metadata": {},
   "outputs": [
    {
     "name": "stdout",
     "output_type": "stream",
     "text": [
      "MY NAME IS GAGAN KUMAR \n",
      "I AM LEARNING PYTHON.\n"
     ]
    }
   ],
   "source": [
    "#USE OPEN FUNCTION TO READ THE CONTENT OF A FILE\n",
    "f=open('untitled.txt','r')\n",
    "data=f.read()\n",
    "\n",
    "print(data)\n",
    "f.close()"
   ]
  },
  {
   "cell_type": "code",
   "execution_count": 10,
   "id": "7e308dd6",
   "metadata": {},
   "outputs": [
    {
     "name": "stdout",
     "output_type": "stream",
     "text": [
      "MY NAME IS\n"
     ]
    }
   ],
   "source": [
    "#USE read FUNCTION TO READ THE CONTENT OF A FILE\n",
    "#f=open('untitled.txt','r')\n",
    "f=open('untitled.txt')#by default the mode is r\n",
    "data=f.read(10)#read first 10 characters from the file\n",
    "print(data)\n",
    "f.close()"
   ]
  },
  {
   "cell_type": "code",
   "execution_count": 12,
   "id": "a0304788",
   "metadata": {},
   "outputs": [
    {
     "name": "stdout",
     "output_type": "stream",
     "text": [
      "MY NAME IS GAGAN KUMAR \n",
      "\n",
      "I AM LEARNING PYTHON.\n",
      "\n"
     ]
    }
   ],
   "source": [
    "#OTHER METHODS TO USE READ THE FILE\n",
    "#USE read FUNCTION TO READ THE CONTENT OF A FILE\n",
    "#f=open('untitled.txt','r')\n",
    "f=open('untitled.txt')#by default the mode is r\n",
    "data=f.readline()#read first line from the file\n",
    "print(data)\n",
    "data=f.readline()#read second line from the file\n",
    "print(data)\n",
    "#data=f.readline()\n",
    "#print(data)\n",
    "f.close()"
   ]
  },
  {
   "cell_type": "code",
   "execution_count": 2,
   "id": "f846a2fc",
   "metadata": {},
   "outputs": [],
   "source": [
    "#USE WRITE FUNCTION TO READ THE CONTENT OF A FILE\n",
    "f=open('gagan.txt','w')\n",
    "f.write(\"MY NAME IS GAGAN \\nI AM LEARNING PYTHON\")\n",
    "f.close()"
   ]
  },
  {
   "cell_type": "code",
   "execution_count": 6,
   "id": "54cda6fb",
   "metadata": {},
   "outputs": [],
   "source": [
    "#USE APPENDING FUNCTION(a) insert the content of a file\n",
    "f=open('gagan.txt','a')\n",
    "f.write(\"\\nlet's do it\")\n",
    "f.close()"
   ]
  },
  {
   "cell_type": "code",
   "execution_count": 9,
   "id": "dc18873f",
   "metadata": {},
   "outputs": [
    {
     "ename": "ValueError",
     "evalue": "Must have exactly one of create/read/write/append mode and at most one plus",
     "output_type": "error",
     "traceback": [
      "\u001b[1;31m---------------------------------------------------------------------------\u001b[0m",
      "\u001b[1;31mValueError\u001b[0m                                Traceback (most recent call last)",
      "Input \u001b[1;32mIn [9]\u001b[0m, in \u001b[0;36m<cell line: 2>\u001b[1;34m()\u001b[0m\n\u001b[0;32m      1\u001b[0m \u001b[38;5;66;03m#USE UPDATING FUNCTION(+) UPDATE THE CONTENT OF A FILE\u001b[39;00m\n\u001b[1;32m----> 2\u001b[0m f\u001b[38;5;241m=\u001b[39m\u001b[38;5;28;43mopen\u001b[39;49m\u001b[43m(\u001b[49m\u001b[38;5;124;43m'\u001b[39;49m\u001b[38;5;124;43mgagan.txt\u001b[39;49m\u001b[38;5;124;43m'\u001b[39;49m\u001b[43m,\u001b[49m\u001b[38;5;124;43m'\u001b[39;49m\u001b[38;5;124;43m+\u001b[39;49m\u001b[38;5;124;43m'\u001b[39;49m\u001b[43m)\u001b[49m\n\u001b[0;32m      3\u001b[0m f\u001b[38;5;241m.\u001b[39mwrite(\u001b[38;5;124m\"\u001b[39m\u001b[38;5;130;01m\\n\u001b[39;00m\u001b[38;5;124m do not give up\u001b[39m\u001b[38;5;124m\"\u001b[39m)\n\u001b[0;32m      4\u001b[0m f\u001b[38;5;241m.\u001b[39mclose()\n",
      "\u001b[1;31mValueError\u001b[0m: Must have exactly one of create/read/write/append mode and at most one plus"
     ]
    }
   ],
   "source": [
    "#USE UPDATING FUNCTION(+) UPDATE THE CONTENT OF A FILE\n",
    "f=open('gagan.txt','+')\n",
    "f.write(\"\\n do not give up\")\n",
    "f.close()"
   ]
  },
  {
   "cell_type": "code",
   "execution_count": 12,
   "id": "62db87bb",
   "metadata": {},
   "outputs": [
    {
     "name": "stdout",
     "output_type": "stream",
     "text": [
      "25\n"
     ]
    }
   ],
   "source": [
    "#USE OF WITH STATEMENT\n",
    "with open('gagan.txt','r') as f:\n",
    "    a= f.read()\n",
    "with open('gagan.txt','w') as f:\n",
    "    a=f.write(\"i am a software developer\")\n",
    "print(a)    "
   ]
  },
  {
   "cell_type": "code",
   "execution_count": 1,
   "id": "05f68d06",
   "metadata": {},
   "outputs": [
    {
     "name": "stdout",
     "output_type": "stream",
     "text": [
      "11\n"
     ]
    }
   ],
   "source": [
    "with open('gagan.txt','r') as f:\n",
    "    a=f.read()\n",
    "with open('gagan.txt','w') as f:\n",
    "    a=f.write(\"i am a engg\")\n",
    "print(a)    "
   ]
  },
  {
   "cell_type": "code",
   "execution_count": null,
   "id": "b484d47b",
   "metadata": {},
   "outputs": [],
   "source": []
  }
 ],
 "metadata": {
  "kernelspec": {
   "display_name": "Python 3 (ipykernel)",
   "language": "python",
   "name": "python3"
  },
  "language_info": {
   "codemirror_mode": {
    "name": "ipython",
    "version": 3
   },
   "file_extension": ".py",
   "mimetype": "text/x-python",
   "name": "python",
   "nbconvert_exporter": "python",
   "pygments_lexer": "ipython3",
   "version": "3.9.12"
  }
 },
 "nbformat": 4,
 "nbformat_minor": 5
}
