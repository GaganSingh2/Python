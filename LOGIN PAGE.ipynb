{
 "cells": [
  {
   "cell_type": "code",
   "execution_count": 1,
   "id": "1d895578",
   "metadata": {},
   "outputs": [
    {
     "name": "stdout",
     "output_type": "stream",
     "text": [
      "Gagan\n",
      "1234\n",
      "9162036179\n",
      "Successfully submmited\n"
     ]
    }
   ],
   "source": [
    "#Write a program to create a login page help of tkinter \n",
    "from tkinter import *\n",
    "root=Tk()\n",
    "root.title(\"WinDow\")\n",
    "root.minsize(width=340,height=200) \n",
    "root.config(bg=\"grey\")\n",
    "def name():\n",
    "    print(\"Gagan\")\n",
    "a=Button(root,text=\"user name\",fg=\"red\",bg=\"yellow\",relief=\"sunken\",font=\"arial 15 bold\",command=name)\n",
    "a.pack(side=TOP)\n",
    "def passw():\n",
    "    print(\"1234\")\n",
    "a1=Button(root,text=\"password\",fg=\"red\",bg=\"yellow\",relief=\"sunken\",font=\"arial 15 bold\",command=passw)\n",
    "a1.pack()\n",
    "def co():\n",
    "    print(\"9162036179\")\n",
    "a2=Button(root,text=\"Contact number\",fg=\"red\",bg=\"yellow\",relief=\"sunken\",font=\"arial 15 bold\",command=co)\n",
    "a2.pack()\n",
    "def su():\n",
    "    print(\"Successfully submmited\")\n",
    "a3=Button(root,text=\"Login\",fg=\"red\",bg=\"yellow\",relief=\"sunken\",font=\"arial 15 bold\",command=su)\n",
    "a3.pack()\n",
    "root.mainloop()"
   ]
  },
  {
   "cell_type": "code",
   "execution_count": null,
   "id": "81fe415a",
   "metadata": {},
   "outputs": [],
   "source": []
  }
 ],
 "metadata": {
  "kernelspec": {
   "display_name": "Python 3 (ipykernel)",
   "language": "python",
   "name": "python3"
  },
  "language_info": {
   "codemirror_mode": {
    "name": "ipython",
    "version": 3
   },
   "file_extension": ".py",
   "mimetype": "text/x-python",
   "name": "python",
   "nbconvert_exporter": "python",
   "pygments_lexer": "ipython3",
   "version": "3.9.12"
  }
 },
 "nbformat": 4,
 "nbformat_minor": 5
}
