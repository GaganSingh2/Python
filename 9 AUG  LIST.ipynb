{
 "cells": [
  {
   "cell_type": "code",
   "execution_count": 1,
   "id": "2da1fab4",
   "metadata": {
    "scrolled": true
   },
   "outputs": [
    {
     "ename": "IndentationError",
     "evalue": "unexpected indent (1187171407.py, line 6)",
     "output_type": "error",
     "traceback": [
      "\u001b[1;36m  Input \u001b[1;32mIn [1]\u001b[1;36m\u001b[0m\n\u001b[1;33m    2\u001b[0m\n\u001b[1;37m    ^\u001b[0m\n\u001b[1;31mIndentationError\u001b[0m\u001b[1;31m:\u001b[0m unexpected indent\n"
     ]
    }
   ],
   "source": [
    "#LIST:-COLLECTION OF CHARARCTERS, SPECIAL CHARACTER AND NUMBER\n",
    "#A,B,...\n",
    "#%,$,&..\n",
    "#12,2,34..\n",
    "                                                                                                                                                                                                                            "
   ]
  },
  {
   "cell_type": "code",
   "execution_count": 5,
   "id": "e6fa82f5",
   "metadata": {},
   "outputs": [
    {
     "name": "stdout",
     "output_type": "stream",
     "text": [
      "['gagan', 'vishal', 'pawan', 'manish', 'gagan']\n"
     ]
    }
   ],
   "source": [
    "abc=['gagan',\"vishal\",\"pawan\",\"manish\",'gagan']\n",
    "print(abc)"
   ]
  },
  {
   "cell_type": "code",
   "execution_count": 10,
   "id": "b7145884",
   "metadata": {},
   "outputs": [
    {
     "name": "stdout",
     "output_type": "stream",
     "text": [
      "5\n"
     ]
    }
   ],
   "source": [
    "print(len(abc))"
   ]
  },
  {
   "cell_type": "code",
   "execution_count": 4,
   "id": "2844cc80",
   "metadata": {},
   "outputs": [
    {
     "name": "stdout",
     "output_type": "stream",
     "text": [
      "<class 'list'>\n"
     ]
    }
   ],
   "source": [
    "print(type(name))"
   ]
  },
  {
   "cell_type": "code",
   "execution_count": 11,
   "id": "c0d228fb",
   "metadata": {},
   "outputs": [
    {
     "name": "stdout",
     "output_type": "stream",
     "text": [
      "(1, 2, 3, 4, 5, 'g', 'b', 'd', 'h', 'l', 'x')\n"
     ]
    }
   ],
   "source": [
    "a=1,2,3,4,5\n",
    "s=\"g\",\"b\",\"d\",\"h\",\"l\",\"x\"\n",
    "d=a+s\n",
    "print(d)"
   ]
  },
  {
   "cell_type": "code",
   "execution_count": 7,
   "id": "1d194df3",
   "metadata": {},
   "outputs": [
    {
     "name": "stdout",
     "output_type": "stream",
     "text": [
      "manish\n"
     ]
    }
   ],
   "source": [
    "print(abc[3])"
   ]
  },
  {
   "cell_type": "code",
   "execution_count": 7,
   "id": "673aff9d",
   "metadata": {},
   "outputs": [
    {
     "name": "stdout",
     "output_type": "stream",
     "text": [
      "['vishal', 'pawan', 'manish']\n"
     ]
    }
   ],
   "source": [
    "print(name[1:4])"
   ]
  },
  {
   "cell_type": "code",
   "execution_count": 5,
   "id": "f6c2c913",
   "metadata": {},
   "outputs": [
    {
     "ename": "NameError",
     "evalue": "name 'name1' is not defined",
     "output_type": "error",
     "traceback": [
      "\u001b[1;31m---------------------------------------------------------------------------\u001b[0m",
      "\u001b[1;31mNameError\u001b[0m                                 Traceback (most recent call last)",
      "Input \u001b[1;32mIn [5]\u001b[0m, in \u001b[0;36m<cell line: 2>\u001b[1;34m()\u001b[0m\n\u001b[0;32m      1\u001b[0m name\u001b[38;5;241m=\u001b[39m[\u001b[38;5;124m\"\u001b[39m\u001b[38;5;124mg\u001b[39m\u001b[38;5;124m\"\u001b[39m,\u001b[38;5;124m\"\u001b[39m\u001b[38;5;124mh\u001b[39m\u001b[38;5;124m\"\u001b[39m,\u001b[38;5;124m\"\u001b[39m\u001b[38;5;124mj\u001b[39m\u001b[38;5;124m\"\u001b[39m]\n\u001b[1;32m----> 2\u001b[0m \u001b[38;5;28mprint\u001b[39m(\u001b[43mname1\u001b[49m,[\u001b[38;5;124m\"\u001b[39m\u001b[38;5;124mnaman\u001b[39m\u001b[38;5;124m\"\u001b[39m])\n",
      "\u001b[1;31mNameError\u001b[0m: name 'name1' is not defined"
     ]
    }
   ],
   "source": [
    "name=[\"g\",\"h\",\"j\"]\n",
    "print(name1,[\"naman\"])"
   ]
  },
  {
   "cell_type": "code",
   "execution_count": 20,
   "id": "7bec5003",
   "metadata": {},
   "outputs": [
    {
     "name": "stdout",
     "output_type": "stream",
     "text": [
      "['gagan', 'vishal', 'abc', 'abc', 'pawan', 'manish', 'gagan']\n"
     ]
    }
   ],
   "source": [
    "abc.insert(2,\"abc\")\n",
    "print(abc)"
   ]
  },
  {
   "cell_type": "code",
   "execution_count": 8,
   "id": "94a33eab",
   "metadata": {},
   "outputs": [
    {
     "name": "stdout",
     "output_type": "stream",
     "text": [
      "['gagan', 'vishal', 'pawan', 'manish', 'gagan', 'gagan']\n"
     ]
    }
   ],
   "source": [
    "abc.append(\"gagan\")\n",
    "print(abc)\n"
   ]
  },
  {
   "cell_type": "code",
   "execution_count": 12,
   "id": "c8182432",
   "metadata": {},
   "outputs": [
    {
     "name": "stdout",
     "output_type": "stream",
     "text": [
      "[1, 2, 34, 5, 6, 7, 8]\n"
     ]
    }
   ],
   "source": [
    "l1=[1,2,34]\n",
    "l2=[5,6,7,8]\n",
    "l1.extend(l2)\n",
    "print(l1)"
   ]
  },
  {
   "cell_type": "code",
   "execution_count": 10,
   "id": "50b06921",
   "metadata": {},
   "outputs": [
    {
     "name": "stdout",
     "output_type": "stream",
     "text": [
      "['gagan', 'vishal', 'pawan', 'manish', 'gagan', 'gagan']\n"
     ]
    }
   ],
   "source": [
    "print(abc)"
   ]
  },
  {
   "cell_type": "code",
   "execution_count": 12,
   "id": "3a68707d",
   "metadata": {},
   "outputs": [
    {
     "name": "stdout",
     "output_type": "stream",
     "text": [
      "['gagan', 'vishal', 'manish', 'gagan', 'gagan']\n"
     ]
    }
   ],
   "source": [
    "abc.pop(2)\n",
    "print(abc)\n"
   ]
  },
  {
   "cell_type": "code",
   "execution_count": 25,
   "id": "ed8bba0c",
   "metadata": {},
   "outputs": [
    {
     "name": "stdout",
     "output_type": "stream",
     "text": [
      "['a', 'c']\n"
     ]
    }
   ],
   "source": [
    "name=[\"a\",\"b\",\"c\"]\n",
    "name.remove(\"b\")\n",
    "print(name)"
   ]
  },
  {
   "cell_type": "code",
   "execution_count": 9,
   "id": "58c72952",
   "metadata": {},
   "outputs": [],
   "source": [
    "name1=[\"a\",\"b\",\"c\"]\n",
    "del(name1)\n"
   ]
  },
  {
   "cell_type": "code",
   "execution_count": 3,
   "id": "bfb1f817",
   "metadata": {},
   "outputs": [
    {
     "name": "stdout",
     "output_type": "stream",
     "text": [
      "enter the name remove from given list: vishal\n",
      "['gagan', 'pawan', 'akki', 'pranav']\n"
     ]
    }
   ],
   "source": [
    "#remove from the name getting the input your user\n",
    "list3=[\"gagan\",\"pawan\",\"akki\",\"vishal\",\"pranav\"]\n",
    "u1=str(input(\"enter the name remove from given list: \"))\n",
    "list3.remove(u1)\n",
    "print(list3)"
   ]
  },
  {
   "cell_type": "code",
   "execution_count": 4,
   "id": "6c37e98a",
   "metadata": {},
   "outputs": [
    {
     "name": "stdout",
     "output_type": "stream",
     "text": [
      "enter the index num remove the name: 2\n",
      "['gagan', 'pawan', 'pranav']\n"
     ]
    }
   ],
   "source": [
    "#remove the name given index num by the user\n",
    "u2=int(input(\"enter the index num remove the name: \"))\n",
    "list3.pop(u2)\n",
    "print(list3)"
   ]
  },
  {
   "cell_type": "code",
   "execution_count": 5,
   "id": "163c54e5",
   "metadata": {},
   "outputs": [
    {
     "name": "stdout",
     "output_type": "stream",
     "text": [
      "enter the index num: 3\n",
      "enter the name: akki\n",
      "['gagan', 'pawan', 'pranav', 'akki']\n"
     ]
    }
   ],
   "source": [
    "#enter the name given index num by the user\n",
    "u3=int(input(\"enter the index num: \"))\n",
    "u4=str(input(\"enter the name: \"))\n",
    "list3.insert(u3,u4)\n",
    "print(list3)"
   ]
  },
  {
   "cell_type": "code",
   "execution_count": 2,
   "id": "60c3a33b",
   "metadata": {},
   "outputs": [
    {
     "name": "stdout",
     "output_type": "stream",
     "text": [
      "['akki', 'ninja', 'gagan', 'pawan']\n"
     ]
    }
   ],
   "source": [
    "l8=[\"gagan\",\"pawan\"]\n",
    "l9=[\"akki\",\"ninja\"]\n",
    "l9.extend(l8)\n",
    "print(l9)\n"
   ]
  },
  {
   "cell_type": "code",
   "execution_count": 3,
   "id": "e5d3c05a",
   "metadata": {},
   "outputs": [
    {
     "name": "stdout",
     "output_type": "stream",
     "text": [
      "['akki', 'ninja', 'gagan', 'pawan', 'pranav']\n"
     ]
    }
   ],
   "source": [
    "l9.append(\"pranav\")\n",
    "print(l9)"
   ]
  },
  {
   "cell_type": "code",
   "execution_count": 1,
   "id": "43c45430",
   "metadata": {},
   "outputs": [
    {
     "name": "stdout",
     "output_type": "stream",
     "text": [
      "enter a Friend name 1: gracy\n",
      "enter a Friend name 2: parul dida\n",
      "enter a Friend name 3: rani didii\n",
      "enter a Friend name 4: garima dida\n",
      "enter a Friend name 5: akki\n",
      "enter a Friend name 6: pawan\n",
      "enter a Friend name 7: santosh\n",
      "['gracy', 'parul dida', 'rani didii', 'garima dida', 'akki', 'pawan', 'santosh']\n"
     ]
    }
   ],
   "source": [
    "#WRITE A PROGRAM TO STORE A SEVEN BEST FRND NAME IN A LIST BY THE USER.\n",
    "f1=(input(\"enter a Friend name 1: \"))\n",
    "f2=(input(\"enter a Friend name 2: \"))\n",
    "f3=(input(\"enter a Friend name 3: \"))\n",
    "f4=(input(\"enter a Friend name 4: \"))\n",
    "f5=(input(\"enter a Friend name 5: \"))\n",
    "f6=(input(\"enter a Friend name 6: \"))\n",
    "f7=(input(\"enter a Friend name 7: \"))\n",
    "frnd=[f1, f2, f3, f4, f5, f6, f7]\n",
    "print(frnd)"
   ]
  },
  {
   "cell_type": "code",
   "execution_count": 1,
   "id": "b14e74b4",
   "metadata": {},
   "outputs": [
    {
     "name": "stdout",
     "output_type": "stream",
     "text": [
      "enter a marks: 45\n",
      "enter a marks: 65\n",
      "enter a marks: 58\n",
      "enter a marks: 54\n",
      "enter a marks: 65\n",
      "enter a marks: 65\n",
      "[45, 54, 58, 65, 65, 65]\n"
     ]
    }
   ],
   "source": [
    "#WRITE A PROGRAM TO STORE A SIX STUDENTS MARKS IN A SORTED LIST.\n",
    "m1=int(input(\"enter a marks: \"))\n",
    "m2=int(input(\"enter a marks: \"))\n",
    "m3=int(input(\"enter a marks: \"))\n",
    "m4=int(input(\"enter a marks: \"))\n",
    "m5=int(input(\"enter a marks: \"))\n",
    "m6=int(input(\"enter a marks: \"))\n",
    "m=[m1,m2,m3,m4,m5,m6]\n",
    "m.sort()\n",
    "print(m)"
   ]
  },
  {
   "cell_type": "code",
   "execution_count": 2,
   "id": "4f438617",
   "metadata": {},
   "outputs": [
    {
     "name": "stdout",
     "output_type": "stream",
     "text": [
      "486\n"
     ]
    }
   ],
   "source": [
    "#WRITE A PROGRAM TO SUM A LIST WITH 4 NUMBERS.\n",
    "A=[23,344,54,65]\n",
    "print(sum(A))"
   ]
  },
  {
   "cell_type": "code",
   "execution_count": 1,
   "id": "b098aad7",
   "metadata": {},
   "outputs": [
    {
     "name": "stdout",
     "output_type": "stream",
     "text": [
      "Hello\n"
     ]
    }
   ],
   "source": [
    "print(\"Hello\")"
   ]
  },
  {
   "cell_type": "code",
   "execution_count": null,
   "id": "f834c5b3",
   "metadata": {},
   "outputs": [],
   "source": []
  }
 ],
 "metadata": {
  "kernelspec": {
   "display_name": "Python 3 (ipykernel)",
   "language": "python",
   "name": "python3"
  },
  "language_info": {
   "codemirror_mode": {
    "name": "ipython",
    "version": 3
   },
   "file_extension": ".py",
   "mimetype": "text/x-python",
   "name": "python",
   "nbconvert_exporter": "python",
   "pygments_lexer": "ipython3",
   "version": "3.9.12"
  }
 },
 "nbformat": 4,
 "nbformat_minor": 5
}
